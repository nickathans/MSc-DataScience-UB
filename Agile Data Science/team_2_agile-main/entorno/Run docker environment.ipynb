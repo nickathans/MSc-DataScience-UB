{
 "cells": [
  {
   "cell_type": "code",
   "execution_count": null,
   "id": "013f63a6-704d-4dcd-a5fc-f3d580a69d57",
   "metadata": {},
   "outputs": [],
   "source": [
    "!docker build -t streamlitapp:latest -f Dockerfile ."
   ]
  },
  {
   "cell_type": "code",
   "execution_count": null,
   "id": "447faac4-369e-4f68-8cb4-ff55614879fc",
   "metadata": {},
   "outputs": [],
   "source": [
    "!docker run -p 127.0.0.1:8501:8501 streamlitapp:latest"
   ]
  },
  {
   "cell_type": "markdown",
   "id": "fd33c9f0-7d2c-4aa8-9ac7-7902b460bd30",
   "metadata": {},
   "source": [
    "We can visit the app with the url: http://127.0.0.1:8501/"
   ]
  },
  {
   "cell_type": "code",
   "execution_count": null,
   "id": "a1055217-5cff-46f4-906a-40e08a6602f8",
   "metadata": {},
   "outputs": [],
   "source": []
  }
 ],
 "metadata": {
  "kernelspec": {
   "display_name": "Python 3 (ipykernel)",
   "language": "python",
   "name": "python3"
  },
  "language_info": {
   "codemirror_mode": {
    "name": "ipython",
    "version": 3
   },
   "file_extension": ".py",
   "mimetype": "text/x-python",
   "name": "python",
   "nbconvert_exporter": "python",
   "pygments_lexer": "ipython3",
   "version": "3.9.12"
  }
 },
 "nbformat": 4,
 "nbformat_minor": 5
}
