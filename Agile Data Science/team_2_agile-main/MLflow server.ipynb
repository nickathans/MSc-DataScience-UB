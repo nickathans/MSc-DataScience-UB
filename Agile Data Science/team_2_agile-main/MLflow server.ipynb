{
 "cells": [
  {
   "cell_type": "code",
   "execution_count": null,
   "id": "5e690e9c-7fda-4f5c-a22d-738136b891fa",
   "metadata": {},
   "outputs": [],
   "source": [
    "#!pip install mlflow\n",
    "\n",
    "!mlflow server --backend-store-uri sqlite:///mlflow.db --default-artifact-root ./artifacts --host 0.0.0.0 --port 1234"
   ]
  },
  {
   "cell_type": "markdown",
   "id": "b00e7676-01b6-48ae-a1a8-bcc6289c4caa",
   "metadata": {},
   "source": [
    "We can connect to the MLflow interface with the url: http://127.0.0.1:1234/"
   ]
  },
  {
   "cell_type": "code",
   "execution_count": null,
   "id": "ff2c9bfa-9cae-4d39-a010-6b3021089c61",
   "metadata": {},
   "outputs": [],
   "source": []
  }
 ],
 "metadata": {
  "kernelspec": {
   "display_name": "Python 3 (ipykernel)",
   "language": "python",
   "name": "python3"
  },
  "language_info": {
   "codemirror_mode": {
    "name": "ipython",
    "version": 3
   },
   "file_extension": ".py",
   "mimetype": "text/x-python",
   "name": "python",
   "nbconvert_exporter": "python",
   "pygments_lexer": "ipython3",
   "version": "3.9.12"
  }
 },
 "nbformat": 4,
 "nbformat_minor": 5
}
