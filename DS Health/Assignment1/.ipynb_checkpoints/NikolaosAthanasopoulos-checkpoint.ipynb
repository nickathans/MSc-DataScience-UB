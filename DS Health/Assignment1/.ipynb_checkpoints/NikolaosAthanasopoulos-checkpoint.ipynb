{
 "cells": [
  {
   "cell_type": "markdown",
   "metadata": {},
   "source": [
    "# Nikolaos Athanasopoulos"
   ]
  },
  {
   "cell_type": "markdown",
   "metadata": {},
   "source": [
    "# Using OASIS for length of stay prediction"
   ]
  },
  {
   "cell_type": "markdown",
   "metadata": {},
   "source": [
    "## Exercise 1:\n",
    "\n",
    "Predict if the length of stay (LOS) of the ICU patients are \"short\" or \"long\" based on the severity score OASIS of the fisrt 24 hours (and 48 hours) of an ICU stay on MIMIC-III.\n"
   ]
  },
  {
   "cell_type": "markdown",
   "metadata": {},
   "source": [
    "### Help for the exercise:"
   ]
  },
  {
   "cell_type": "markdown",
   "metadata": {},
   "source": [
    "### OASIS\n",
    "\n",
    "The Oxford Acute Severity of Illness Score (OASIS) consisted of age, elective surgery, prior length of stay (LOS) and seven physiologic measurements: Glasgow Coma Score (GCS), heart rate, mean arterial pressure (MAP), respiratory rate, temperature, urine output, ventilated.\n",
    "\n",
    "For each variable, the worst score across the first day in ICU should be used to tabulate OASIS.\n",
    "\n",
    "See [here](https://alistairewj.github.io/project/oasis/) for more information."
   ]
  },
  {
   "cell_type": "markdown",
   "metadata": {},
   "source": [
    "The concept elective surgery is where a patient is admitted to the intensive care unit either in routine preparation for a planned surgery or for stabilization after completion of a planned surgery. Elective surgery is an important covariate for many risk adjustments as patients who are admitted to the ICU for planned surgeries tend to be healthier than their counterparts.\n"
   ]
  },
  {
   "cell_type": "markdown",
   "metadata": {},
   "source": [
    "### Instructions for the exercise\n",
    "\n",
    "- We provide you the variables already computed and saved in csv files, except age, elective surgery, pre-LOS and temperature.\n",
    "\n",
    "- In order to compute the age and pre-LOS and consult the elective surgery information you need to merge tables PATIENTS, ADMISSIONS and ICUSTAYS. \n",
    "    - You should compute the age at the time the patient is admitted to the ICU from date of birth (dob) from PATIENTS table, then you can drop dob from the dataframe. \n",
    "    - For the pre-LOS you should compare intime from ICUSTAYS table and admittime from ADMISSIONS table. \n",
    "    - The elective surgery information is stored in the column admission_type of PATIENTS, ADMISSIONS and ICUSTAYS table.\n",
    "\n",
    "- You need CHARTEVENTS table to get the temperature (measures in Fahrenheit and Celsius) and D_ITEMS table to consult the itemid for the measure.\n",
    "    - The variables can be duplicated, since they can come from Carevue or Metavision source systems of MIMIC-III, so you have to look for the different labels.\n",
    "    - You can use pandas.DataFrame.loc to look for the itemid corresponding to labels of the temperature in D_ITEMS table. If you do not know the exact label you are looking for, you can look for the strings in column label containing 'Temperature' using pandas.Series.str.contains as follows:\n",
    "    > df_ditems.loc[df_ditems.label.str.contains('Temperature', case=False, na=False, regex=False)]\n",
    "\n",
    "\n",
    "- Once you have computed these variables you can read the rest of variables provided in the csv files and merge them into a single dataframe to pass it to the OASIS function (see [here](https://gist.github.com/tompollard/d4c216d0c4ad30481c99)) to compute the severity score.\n",
    "\n",
    "\n",
    "- The Glasgow Coma Scale is stored in a different way in Metavision and Carevue. \n",
    "    - Metavision saves the three tests separately: GCS - Eye Opening,  GCS - Motor Response, GCS - Verbal Response\n",
    "    - Carevue saves a single test: GCS_total.\n",
    "    - We provide you 4 separate csv files with these information: GCS_E_metavision.csv, GCS_M_metavision.csv, GCS_V_metavision.csv and  GCS_total_carevue.csv\n",
    "    - You should concatenate the values and keep the worst one which corresponds to the minimum score.\n",
    "\n",
    "\n",
    "- Each csv file contains a dataframe with: [subject_id, hadm_id, icustay_id, variable_Time and variable value], except for the ventilation which just contains:  [subject_id, hadm_id, icustay_id, variable_Time], since the important information is if there is ventilation or not (YES or NO) and when has been installed. \n",
    "\n",
    "\n",
    "- Normalize the measures time. Use intime, which provides the date and time the patient was transferred into the ICU, as the reference value to compute the time that has passed since then until the variable measurement were taken.\n",
    "\n",
    "- After the normalization, you can filter the instances to keep the ones of the first 24 hours (or 48 hours) as observations to compute the OASIS score. \n",
    "    - Try to different strategies:\n",
    "        - All the instances of the first 24 hours.\n",
    "        - All the instances of the first 48 hours.\n",
    "\n",
    "- For the prediction, consider the following binary label:\n",
    "    - LOS < 4: short stay\n",
    "    - Otherwise: long stay.\n",
    "    \n",
    "- Use Random forest to classify using a 5-fold cross validation.\n",
    "\n",
    "- As can be seen in the code to compute OASIS, the score is NaN if any of the considered variables has all its instances as NaN. MIMIC-III has many NaN values and the demo subset is more limited in the number. So, the number of samples with OASIS different of NaNs considering first 24h is just 8. You can use the first 48h but the number is also very limited and the performance of the proposed classifier will be very poor. \n",
    "\n",
    "- We suggest that you also try an alternative to compute the OASIS score. \n",
    "    - You can change the original code to consider the variable as 0.0 (state in normal range) when all instances of the variable are NaN. For that use np.nansum instead of using sum in the line:\n",
    "        > oasis_score = sum([oasis_prelos, oasis_age, oasis_gcs, oasis_hr, oasis_map, oasis_resp,oasis_temp, oasis_urine, oasis_vent, oasis_surg]). \n",
    "   \n",
    "- Analyze the results of the three different alternatives (Original OASIS with 48h, Modification of OASIS with 24h and 48h):\n",
    "    - Compare the mean accuracy\n",
    "    - Build the confusion matrix\n",
    "\n"
   ]
  },
  {
   "cell_type": "code",
   "execution_count": 548,
   "metadata": {},
   "outputs": [],
   "source": [
    "import numpy as np\n",
    "import pandas as pd\n",
    "import matplotlib.pyplot as plt\n",
    "%matplotlib inline"
   ]
  },
  {
   "cell_type": "markdown",
   "metadata": {},
   "source": [
    "Download the MIMIC-III Clinical Database Demo can be download from [here](https://physionet.org/content/mimiciii-demo/1.4/) and copy the csv files in a 'data' folder.\n"
   ]
  },
  {
   "cell_type": "code",
   "execution_count": 549,
   "metadata": {
    "id": "SbOo5u3z4R73"
   },
   "outputs": [],
   "source": [
    "# Path to my data folder \n",
    "path = \"/Users/nikosathanasopoulos/Documents/2nd Semester/DSHealth/DSxH-2223-Assignment1/data/\""
   ]
  },
  {
   "cell_type": "markdown",
   "metadata": {},
   "source": [
    "## Preview of PATIENTS, ADMISSIONS and ICUSTAYS tables"
   ]
  },
  {
   "cell_type": "code",
   "execution_count": 550,
   "metadata": {},
   "outputs": [
    {
     "data": {
      "text/html": [
       "<div>\n",
       "<style scoped>\n",
       "    .dataframe tbody tr th:only-of-type {\n",
       "        vertical-align: middle;\n",
       "    }\n",
       "\n",
       "    .dataframe tbody tr th {\n",
       "        vertical-align: top;\n",
       "    }\n",
       "\n",
       "    .dataframe thead th {\n",
       "        text-align: right;\n",
       "    }\n",
       "</style>\n",
       "<table border=\"1\" class=\"dataframe\">\n",
       "  <thead>\n",
       "    <tr style=\"text-align: right;\">\n",
       "      <th></th>\n",
       "      <th>row_id</th>\n",
       "      <th>subject_id</th>\n",
       "      <th>gender</th>\n",
       "      <th>dob</th>\n",
       "      <th>dod</th>\n",
       "      <th>dod_hosp</th>\n",
       "      <th>dod_ssn</th>\n",
       "      <th>expire_flag</th>\n",
       "    </tr>\n",
       "  </thead>\n",
       "  <tbody>\n",
       "    <tr>\n",
       "      <th>0</th>\n",
       "      <td>9467</td>\n",
       "      <td>10006</td>\n",
       "      <td>F</td>\n",
       "      <td>2094-03-05 00:00:00</td>\n",
       "      <td>2165-08-12 00:00:00</td>\n",
       "      <td>2165-08-12 00:00:00</td>\n",
       "      <td>2165-08-12 00:00:00</td>\n",
       "      <td>1</td>\n",
       "    </tr>\n",
       "    <tr>\n",
       "      <th>1</th>\n",
       "      <td>9472</td>\n",
       "      <td>10011</td>\n",
       "      <td>F</td>\n",
       "      <td>2090-06-05 00:00:00</td>\n",
       "      <td>2126-08-28 00:00:00</td>\n",
       "      <td>2126-08-28 00:00:00</td>\n",
       "      <td>NaN</td>\n",
       "      <td>1</td>\n",
       "    </tr>\n",
       "    <tr>\n",
       "      <th>2</th>\n",
       "      <td>9474</td>\n",
       "      <td>10013</td>\n",
       "      <td>F</td>\n",
       "      <td>2038-09-03 00:00:00</td>\n",
       "      <td>2125-10-07 00:00:00</td>\n",
       "      <td>2125-10-07 00:00:00</td>\n",
       "      <td>2125-10-07 00:00:00</td>\n",
       "      <td>1</td>\n",
       "    </tr>\n",
       "    <tr>\n",
       "      <th>3</th>\n",
       "      <td>9478</td>\n",
       "      <td>10017</td>\n",
       "      <td>F</td>\n",
       "      <td>2075-09-21 00:00:00</td>\n",
       "      <td>2152-09-12 00:00:00</td>\n",
       "      <td>NaN</td>\n",
       "      <td>2152-09-12 00:00:00</td>\n",
       "      <td>1</td>\n",
       "    </tr>\n",
       "    <tr>\n",
       "      <th>4</th>\n",
       "      <td>9479</td>\n",
       "      <td>10019</td>\n",
       "      <td>M</td>\n",
       "      <td>2114-06-20 00:00:00</td>\n",
       "      <td>2163-05-15 00:00:00</td>\n",
       "      <td>2163-05-15 00:00:00</td>\n",
       "      <td>2163-05-15 00:00:00</td>\n",
       "      <td>1</td>\n",
       "    </tr>\n",
       "  </tbody>\n",
       "</table>\n",
       "</div>"
      ],
      "text/plain": [
       "   row_id  subject_id gender                  dob                  dod  \\\n",
       "0    9467       10006      F  2094-03-05 00:00:00  2165-08-12 00:00:00   \n",
       "1    9472       10011      F  2090-06-05 00:00:00  2126-08-28 00:00:00   \n",
       "2    9474       10013      F  2038-09-03 00:00:00  2125-10-07 00:00:00   \n",
       "3    9478       10017      F  2075-09-21 00:00:00  2152-09-12 00:00:00   \n",
       "4    9479       10019      M  2114-06-20 00:00:00  2163-05-15 00:00:00   \n",
       "\n",
       "              dod_hosp              dod_ssn  expire_flag  \n",
       "0  2165-08-12 00:00:00  2165-08-12 00:00:00            1  \n",
       "1  2126-08-28 00:00:00                  NaN            1  \n",
       "2  2125-10-07 00:00:00  2125-10-07 00:00:00            1  \n",
       "3                  NaN  2152-09-12 00:00:00            1  \n",
       "4  2163-05-15 00:00:00  2163-05-15 00:00:00            1  "
      ]
     },
     "execution_count": 550,
     "metadata": {},
     "output_type": "execute_result"
    }
   ],
   "source": [
    "patients=pd.read_csv(path+'PATIENTS.csv')\n",
    "patients.head()"
   ]
  },
  {
   "cell_type": "code",
   "execution_count": 551,
   "metadata": {},
   "outputs": [
    {
     "data": {
      "text/html": [
       "<div>\n",
       "<style scoped>\n",
       "    .dataframe tbody tr th:only-of-type {\n",
       "        vertical-align: middle;\n",
       "    }\n",
       "\n",
       "    .dataframe tbody tr th {\n",
       "        vertical-align: top;\n",
       "    }\n",
       "\n",
       "    .dataframe thead th {\n",
       "        text-align: right;\n",
       "    }\n",
       "</style>\n",
       "<table border=\"1\" class=\"dataframe\">\n",
       "  <thead>\n",
       "    <tr style=\"text-align: right;\">\n",
       "      <th></th>\n",
       "      <th>row_id</th>\n",
       "      <th>subject_id</th>\n",
       "      <th>hadm_id</th>\n",
       "      <th>admittime</th>\n",
       "      <th>dischtime</th>\n",
       "      <th>deathtime</th>\n",
       "      <th>admission_type</th>\n",
       "      <th>admission_location</th>\n",
       "      <th>discharge_location</th>\n",
       "      <th>insurance</th>\n",
       "      <th>language</th>\n",
       "      <th>religion</th>\n",
       "      <th>marital_status</th>\n",
       "      <th>ethnicity</th>\n",
       "      <th>edregtime</th>\n",
       "      <th>edouttime</th>\n",
       "      <th>diagnosis</th>\n",
       "      <th>hospital_expire_flag</th>\n",
       "      <th>has_chartevents_data</th>\n",
       "    </tr>\n",
       "  </thead>\n",
       "  <tbody>\n",
       "    <tr>\n",
       "      <th>0</th>\n",
       "      <td>12258</td>\n",
       "      <td>10006</td>\n",
       "      <td>142345</td>\n",
       "      <td>2164-10-23 21:09:00</td>\n",
       "      <td>2164-11-01 17:15:00</td>\n",
       "      <td>NaN</td>\n",
       "      <td>EMERGENCY</td>\n",
       "      <td>EMERGENCY ROOM ADMIT</td>\n",
       "      <td>HOME HEALTH CARE</td>\n",
       "      <td>Medicare</td>\n",
       "      <td>NaN</td>\n",
       "      <td>CATHOLIC</td>\n",
       "      <td>SEPARATED</td>\n",
       "      <td>BLACK/AFRICAN AMERICAN</td>\n",
       "      <td>2164-10-23 16:43:00</td>\n",
       "      <td>2164-10-23 23:00:00</td>\n",
       "      <td>SEPSIS</td>\n",
       "      <td>0</td>\n",
       "      <td>1</td>\n",
       "    </tr>\n",
       "    <tr>\n",
       "      <th>1</th>\n",
       "      <td>12263</td>\n",
       "      <td>10011</td>\n",
       "      <td>105331</td>\n",
       "      <td>2126-08-14 22:32:00</td>\n",
       "      <td>2126-08-28 18:59:00</td>\n",
       "      <td>2126-08-28 18:59:00</td>\n",
       "      <td>EMERGENCY</td>\n",
       "      <td>TRANSFER FROM HOSP/EXTRAM</td>\n",
       "      <td>DEAD/EXPIRED</td>\n",
       "      <td>Private</td>\n",
       "      <td>NaN</td>\n",
       "      <td>CATHOLIC</td>\n",
       "      <td>SINGLE</td>\n",
       "      <td>UNKNOWN/NOT SPECIFIED</td>\n",
       "      <td>NaN</td>\n",
       "      <td>NaN</td>\n",
       "      <td>HEPATITIS B</td>\n",
       "      <td>1</td>\n",
       "      <td>1</td>\n",
       "    </tr>\n",
       "    <tr>\n",
       "      <th>2</th>\n",
       "      <td>12265</td>\n",
       "      <td>10013</td>\n",
       "      <td>165520</td>\n",
       "      <td>2125-10-04 23:36:00</td>\n",
       "      <td>2125-10-07 15:13:00</td>\n",
       "      <td>2125-10-07 15:13:00</td>\n",
       "      <td>EMERGENCY</td>\n",
       "      <td>TRANSFER FROM HOSP/EXTRAM</td>\n",
       "      <td>DEAD/EXPIRED</td>\n",
       "      <td>Medicare</td>\n",
       "      <td>NaN</td>\n",
       "      <td>CATHOLIC</td>\n",
       "      <td>NaN</td>\n",
       "      <td>UNKNOWN/NOT SPECIFIED</td>\n",
       "      <td>NaN</td>\n",
       "      <td>NaN</td>\n",
       "      <td>SEPSIS</td>\n",
       "      <td>1</td>\n",
       "      <td>1</td>\n",
       "    </tr>\n",
       "    <tr>\n",
       "      <th>3</th>\n",
       "      <td>12269</td>\n",
       "      <td>10017</td>\n",
       "      <td>199207</td>\n",
       "      <td>2149-05-26 17:19:00</td>\n",
       "      <td>2149-06-03 18:42:00</td>\n",
       "      <td>NaN</td>\n",
       "      <td>EMERGENCY</td>\n",
       "      <td>EMERGENCY ROOM ADMIT</td>\n",
       "      <td>SNF</td>\n",
       "      <td>Medicare</td>\n",
       "      <td>NaN</td>\n",
       "      <td>CATHOLIC</td>\n",
       "      <td>DIVORCED</td>\n",
       "      <td>WHITE</td>\n",
       "      <td>2149-05-26 12:08:00</td>\n",
       "      <td>2149-05-26 19:45:00</td>\n",
       "      <td>HUMERAL FRACTURE</td>\n",
       "      <td>0</td>\n",
       "      <td>1</td>\n",
       "    </tr>\n",
       "    <tr>\n",
       "      <th>4</th>\n",
       "      <td>12270</td>\n",
       "      <td>10019</td>\n",
       "      <td>177759</td>\n",
       "      <td>2163-05-14 20:43:00</td>\n",
       "      <td>2163-05-15 12:00:00</td>\n",
       "      <td>2163-05-15 12:00:00</td>\n",
       "      <td>EMERGENCY</td>\n",
       "      <td>TRANSFER FROM HOSP/EXTRAM</td>\n",
       "      <td>DEAD/EXPIRED</td>\n",
       "      <td>Medicare</td>\n",
       "      <td>NaN</td>\n",
       "      <td>CATHOLIC</td>\n",
       "      <td>DIVORCED</td>\n",
       "      <td>WHITE</td>\n",
       "      <td>NaN</td>\n",
       "      <td>NaN</td>\n",
       "      <td>ALCOHOLIC HEPATITIS</td>\n",
       "      <td>1</td>\n",
       "      <td>1</td>\n",
       "    </tr>\n",
       "  </tbody>\n",
       "</table>\n",
       "</div>"
      ],
      "text/plain": [
       "   row_id  subject_id  hadm_id            admittime            dischtime  \\\n",
       "0   12258       10006   142345  2164-10-23 21:09:00  2164-11-01 17:15:00   \n",
       "1   12263       10011   105331  2126-08-14 22:32:00  2126-08-28 18:59:00   \n",
       "2   12265       10013   165520  2125-10-04 23:36:00  2125-10-07 15:13:00   \n",
       "3   12269       10017   199207  2149-05-26 17:19:00  2149-06-03 18:42:00   \n",
       "4   12270       10019   177759  2163-05-14 20:43:00  2163-05-15 12:00:00   \n",
       "\n",
       "             deathtime admission_type         admission_location  \\\n",
       "0                  NaN      EMERGENCY       EMERGENCY ROOM ADMIT   \n",
       "1  2126-08-28 18:59:00      EMERGENCY  TRANSFER FROM HOSP/EXTRAM   \n",
       "2  2125-10-07 15:13:00      EMERGENCY  TRANSFER FROM HOSP/EXTRAM   \n",
       "3                  NaN      EMERGENCY       EMERGENCY ROOM ADMIT   \n",
       "4  2163-05-15 12:00:00      EMERGENCY  TRANSFER FROM HOSP/EXTRAM   \n",
       "\n",
       "  discharge_location insurance language  religion marital_status  \\\n",
       "0   HOME HEALTH CARE  Medicare      NaN  CATHOLIC      SEPARATED   \n",
       "1       DEAD/EXPIRED   Private      NaN  CATHOLIC         SINGLE   \n",
       "2       DEAD/EXPIRED  Medicare      NaN  CATHOLIC            NaN   \n",
       "3                SNF  Medicare      NaN  CATHOLIC       DIVORCED   \n",
       "4       DEAD/EXPIRED  Medicare      NaN  CATHOLIC       DIVORCED   \n",
       "\n",
       "                ethnicity            edregtime            edouttime  \\\n",
       "0  BLACK/AFRICAN AMERICAN  2164-10-23 16:43:00  2164-10-23 23:00:00   \n",
       "1   UNKNOWN/NOT SPECIFIED                  NaN                  NaN   \n",
       "2   UNKNOWN/NOT SPECIFIED                  NaN                  NaN   \n",
       "3                   WHITE  2149-05-26 12:08:00  2149-05-26 19:45:00   \n",
       "4                   WHITE                  NaN                  NaN   \n",
       "\n",
       "             diagnosis  hospital_expire_flag  has_chartevents_data  \n",
       "0               SEPSIS                     0                     1  \n",
       "1          HEPATITIS B                     1                     1  \n",
       "2               SEPSIS                     1                     1  \n",
       "3     HUMERAL FRACTURE                     0                     1  \n",
       "4  ALCOHOLIC HEPATITIS                     1                     1  "
      ]
     },
     "execution_count": 551,
     "metadata": {},
     "output_type": "execute_result"
    }
   ],
   "source": [
    "admissions=pd.read_csv(path+'ADMISSIONS.csv')\n",
    "admissions.head()"
   ]
  },
  {
   "cell_type": "code",
   "execution_count": 552,
   "metadata": {},
   "outputs": [
    {
     "data": {
      "text/html": [
       "<div>\n",
       "<style scoped>\n",
       "    .dataframe tbody tr th:only-of-type {\n",
       "        vertical-align: middle;\n",
       "    }\n",
       "\n",
       "    .dataframe tbody tr th {\n",
       "        vertical-align: top;\n",
       "    }\n",
       "\n",
       "    .dataframe thead th {\n",
       "        text-align: right;\n",
       "    }\n",
       "</style>\n",
       "<table border=\"1\" class=\"dataframe\">\n",
       "  <thead>\n",
       "    <tr style=\"text-align: right;\">\n",
       "      <th></th>\n",
       "      <th>row_id</th>\n",
       "      <th>subject_id</th>\n",
       "      <th>hadm_id</th>\n",
       "      <th>icustay_id</th>\n",
       "      <th>dbsource</th>\n",
       "      <th>first_careunit</th>\n",
       "      <th>last_careunit</th>\n",
       "      <th>first_wardid</th>\n",
       "      <th>last_wardid</th>\n",
       "      <th>intime</th>\n",
       "      <th>outtime</th>\n",
       "      <th>los</th>\n",
       "    </tr>\n",
       "  </thead>\n",
       "  <tbody>\n",
       "    <tr>\n",
       "      <th>0</th>\n",
       "      <td>12742</td>\n",
       "      <td>10006</td>\n",
       "      <td>142345</td>\n",
       "      <td>206504</td>\n",
       "      <td>carevue</td>\n",
       "      <td>MICU</td>\n",
       "      <td>MICU</td>\n",
       "      <td>52</td>\n",
       "      <td>52</td>\n",
       "      <td>2164-10-23 21:10:15</td>\n",
       "      <td>2164-10-25 12:21:07</td>\n",
       "      <td>1.6325</td>\n",
       "    </tr>\n",
       "    <tr>\n",
       "      <th>1</th>\n",
       "      <td>12747</td>\n",
       "      <td>10011</td>\n",
       "      <td>105331</td>\n",
       "      <td>232110</td>\n",
       "      <td>carevue</td>\n",
       "      <td>MICU</td>\n",
       "      <td>MICU</td>\n",
       "      <td>15</td>\n",
       "      <td>15</td>\n",
       "      <td>2126-08-14 22:34:00</td>\n",
       "      <td>2126-08-28 18:59:00</td>\n",
       "      <td>13.8507</td>\n",
       "    </tr>\n",
       "    <tr>\n",
       "      <th>2</th>\n",
       "      <td>12749</td>\n",
       "      <td>10013</td>\n",
       "      <td>165520</td>\n",
       "      <td>264446</td>\n",
       "      <td>carevue</td>\n",
       "      <td>MICU</td>\n",
       "      <td>MICU</td>\n",
       "      <td>15</td>\n",
       "      <td>15</td>\n",
       "      <td>2125-10-04 23:38:00</td>\n",
       "      <td>2125-10-07 15:13:52</td>\n",
       "      <td>2.6499</td>\n",
       "    </tr>\n",
       "    <tr>\n",
       "      <th>3</th>\n",
       "      <td>12754</td>\n",
       "      <td>10017</td>\n",
       "      <td>199207</td>\n",
       "      <td>204881</td>\n",
       "      <td>carevue</td>\n",
       "      <td>CCU</td>\n",
       "      <td>CCU</td>\n",
       "      <td>7</td>\n",
       "      <td>7</td>\n",
       "      <td>2149-05-29 18:52:29</td>\n",
       "      <td>2149-05-31 22:19:17</td>\n",
       "      <td>2.1436</td>\n",
       "    </tr>\n",
       "    <tr>\n",
       "      <th>4</th>\n",
       "      <td>12755</td>\n",
       "      <td>10019</td>\n",
       "      <td>177759</td>\n",
       "      <td>228977</td>\n",
       "      <td>carevue</td>\n",
       "      <td>MICU</td>\n",
       "      <td>MICU</td>\n",
       "      <td>15</td>\n",
       "      <td>15</td>\n",
       "      <td>2163-05-14 20:43:56</td>\n",
       "      <td>2163-05-16 03:47:04</td>\n",
       "      <td>1.2938</td>\n",
       "    </tr>\n",
       "  </tbody>\n",
       "</table>\n",
       "</div>"
      ],
      "text/plain": [
       "   row_id  subject_id  hadm_id  icustay_id dbsource first_careunit  \\\n",
       "0   12742       10006   142345      206504  carevue           MICU   \n",
       "1   12747       10011   105331      232110  carevue           MICU   \n",
       "2   12749       10013   165520      264446  carevue           MICU   \n",
       "3   12754       10017   199207      204881  carevue            CCU   \n",
       "4   12755       10019   177759      228977  carevue           MICU   \n",
       "\n",
       "  last_careunit  first_wardid  last_wardid               intime  \\\n",
       "0          MICU            52           52  2164-10-23 21:10:15   \n",
       "1          MICU            15           15  2126-08-14 22:34:00   \n",
       "2          MICU            15           15  2125-10-04 23:38:00   \n",
       "3           CCU             7            7  2149-05-29 18:52:29   \n",
       "4          MICU            15           15  2163-05-14 20:43:56   \n",
       "\n",
       "               outtime      los  \n",
       "0  2164-10-25 12:21:07   1.6325  \n",
       "1  2126-08-28 18:59:00  13.8507  \n",
       "2  2125-10-07 15:13:52   2.6499  \n",
       "3  2149-05-31 22:19:17   2.1436  \n",
       "4  2163-05-16 03:47:04   1.2938  "
      ]
     },
     "execution_count": 552,
     "metadata": {},
     "output_type": "execute_result"
    }
   ],
   "source": [
    "icustays=pd.read_csv(path+'ICUSTAYS.csv')\n",
    "icustays.head()"
   ]
  },
  {
   "cell_type": "markdown",
   "metadata": {},
   "source": [
    "## Merge of tables PATIENTS, ADMISSIONS and ICUSTAYS."
   ]
  },
  {
   "cell_type": "markdown",
   "metadata": {},
   "source": [
    "In order to compute the age and pre-LOS and consult the elective surgery information we need to merge tables PATIENTS, ADMISSIONS and ICUSTAYS."
   ]
  },
  {
   "cell_type": "code",
   "execution_count": 553,
   "metadata": {},
   "outputs": [
    {
     "data": {
      "text/html": [
       "<div>\n",
       "<style scoped>\n",
       "    .dataframe tbody tr th:only-of-type {\n",
       "        vertical-align: middle;\n",
       "    }\n",
       "\n",
       "    .dataframe tbody tr th {\n",
       "        vertical-align: top;\n",
       "    }\n",
       "\n",
       "    .dataframe thead th {\n",
       "        text-align: right;\n",
       "    }\n",
       "</style>\n",
       "<table border=\"1\" class=\"dataframe\">\n",
       "  <thead>\n",
       "    <tr style=\"text-align: right;\">\n",
       "      <th></th>\n",
       "      <th>row_id</th>\n",
       "      <th>subject_id</th>\n",
       "      <th>gender</th>\n",
       "      <th>dob</th>\n",
       "      <th>dod</th>\n",
       "      <th>dod_hosp</th>\n",
       "      <th>dod_ssn</th>\n",
       "      <th>expire_flag</th>\n",
       "      <th>hadm_id</th>\n",
       "      <th>admittime</th>\n",
       "      <th>...</th>\n",
       "      <th>insurance</th>\n",
       "      <th>language</th>\n",
       "      <th>religion</th>\n",
       "      <th>marital_status</th>\n",
       "      <th>ethnicity</th>\n",
       "      <th>edregtime</th>\n",
       "      <th>edouttime</th>\n",
       "      <th>diagnosis</th>\n",
       "      <th>hospital_expire_flag</th>\n",
       "      <th>has_chartevents_data</th>\n",
       "    </tr>\n",
       "  </thead>\n",
       "  <tbody>\n",
       "    <tr>\n",
       "      <th>0</th>\n",
       "      <td>9467</td>\n",
       "      <td>10006</td>\n",
       "      <td>F</td>\n",
       "      <td>2094-03-05 00:00:00</td>\n",
       "      <td>2165-08-12 00:00:00</td>\n",
       "      <td>2165-08-12 00:00:00</td>\n",
       "      <td>2165-08-12 00:00:00</td>\n",
       "      <td>1</td>\n",
       "      <td>142345</td>\n",
       "      <td>2164-10-23 21:09:00</td>\n",
       "      <td>...</td>\n",
       "      <td>Medicare</td>\n",
       "      <td>NaN</td>\n",
       "      <td>CATHOLIC</td>\n",
       "      <td>SEPARATED</td>\n",
       "      <td>BLACK/AFRICAN AMERICAN</td>\n",
       "      <td>2164-10-23 16:43:00</td>\n",
       "      <td>2164-10-23 23:00:00</td>\n",
       "      <td>SEPSIS</td>\n",
       "      <td>0</td>\n",
       "      <td>1</td>\n",
       "    </tr>\n",
       "    <tr>\n",
       "      <th>1</th>\n",
       "      <td>9472</td>\n",
       "      <td>10011</td>\n",
       "      <td>F</td>\n",
       "      <td>2090-06-05 00:00:00</td>\n",
       "      <td>2126-08-28 00:00:00</td>\n",
       "      <td>2126-08-28 00:00:00</td>\n",
       "      <td>NaN</td>\n",
       "      <td>1</td>\n",
       "      <td>105331</td>\n",
       "      <td>2126-08-14 22:32:00</td>\n",
       "      <td>...</td>\n",
       "      <td>Private</td>\n",
       "      <td>NaN</td>\n",
       "      <td>CATHOLIC</td>\n",
       "      <td>SINGLE</td>\n",
       "      <td>UNKNOWN/NOT SPECIFIED</td>\n",
       "      <td>NaN</td>\n",
       "      <td>NaN</td>\n",
       "      <td>HEPATITIS B</td>\n",
       "      <td>1</td>\n",
       "      <td>1</td>\n",
       "    </tr>\n",
       "    <tr>\n",
       "      <th>2</th>\n",
       "      <td>9474</td>\n",
       "      <td>10013</td>\n",
       "      <td>F</td>\n",
       "      <td>2038-09-03 00:00:00</td>\n",
       "      <td>2125-10-07 00:00:00</td>\n",
       "      <td>2125-10-07 00:00:00</td>\n",
       "      <td>2125-10-07 00:00:00</td>\n",
       "      <td>1</td>\n",
       "      <td>165520</td>\n",
       "      <td>2125-10-04 23:36:00</td>\n",
       "      <td>...</td>\n",
       "      <td>Medicare</td>\n",
       "      <td>NaN</td>\n",
       "      <td>CATHOLIC</td>\n",
       "      <td>NaN</td>\n",
       "      <td>UNKNOWN/NOT SPECIFIED</td>\n",
       "      <td>NaN</td>\n",
       "      <td>NaN</td>\n",
       "      <td>SEPSIS</td>\n",
       "      <td>1</td>\n",
       "      <td>1</td>\n",
       "    </tr>\n",
       "    <tr>\n",
       "      <th>3</th>\n",
       "      <td>9478</td>\n",
       "      <td>10017</td>\n",
       "      <td>F</td>\n",
       "      <td>2075-09-21 00:00:00</td>\n",
       "      <td>2152-09-12 00:00:00</td>\n",
       "      <td>NaN</td>\n",
       "      <td>2152-09-12 00:00:00</td>\n",
       "      <td>1</td>\n",
       "      <td>199207</td>\n",
       "      <td>2149-05-26 17:19:00</td>\n",
       "      <td>...</td>\n",
       "      <td>Medicare</td>\n",
       "      <td>NaN</td>\n",
       "      <td>CATHOLIC</td>\n",
       "      <td>DIVORCED</td>\n",
       "      <td>WHITE</td>\n",
       "      <td>2149-05-26 12:08:00</td>\n",
       "      <td>2149-05-26 19:45:00</td>\n",
       "      <td>HUMERAL FRACTURE</td>\n",
       "      <td>0</td>\n",
       "      <td>1</td>\n",
       "    </tr>\n",
       "    <tr>\n",
       "      <th>4</th>\n",
       "      <td>9479</td>\n",
       "      <td>10019</td>\n",
       "      <td>M</td>\n",
       "      <td>2114-06-20 00:00:00</td>\n",
       "      <td>2163-05-15 00:00:00</td>\n",
       "      <td>2163-05-15 00:00:00</td>\n",
       "      <td>2163-05-15 00:00:00</td>\n",
       "      <td>1</td>\n",
       "      <td>177759</td>\n",
       "      <td>2163-05-14 20:43:00</td>\n",
       "      <td>...</td>\n",
       "      <td>Medicare</td>\n",
       "      <td>NaN</td>\n",
       "      <td>CATHOLIC</td>\n",
       "      <td>DIVORCED</td>\n",
       "      <td>WHITE</td>\n",
       "      <td>NaN</td>\n",
       "      <td>NaN</td>\n",
       "      <td>ALCOHOLIC HEPATITIS</td>\n",
       "      <td>1</td>\n",
       "      <td>1</td>\n",
       "    </tr>\n",
       "  </tbody>\n",
       "</table>\n",
       "<p>5 rows × 25 columns</p>\n",
       "</div>"
      ],
      "text/plain": [
       "   row_id  subject_id gender                  dob                  dod  \\\n",
       "0    9467       10006      F  2094-03-05 00:00:00  2165-08-12 00:00:00   \n",
       "1    9472       10011      F  2090-06-05 00:00:00  2126-08-28 00:00:00   \n",
       "2    9474       10013      F  2038-09-03 00:00:00  2125-10-07 00:00:00   \n",
       "3    9478       10017      F  2075-09-21 00:00:00  2152-09-12 00:00:00   \n",
       "4    9479       10019      M  2114-06-20 00:00:00  2163-05-15 00:00:00   \n",
       "\n",
       "              dod_hosp              dod_ssn  expire_flag  hadm_id  \\\n",
       "0  2165-08-12 00:00:00  2165-08-12 00:00:00            1   142345   \n",
       "1  2126-08-28 00:00:00                  NaN            1   105331   \n",
       "2  2125-10-07 00:00:00  2125-10-07 00:00:00            1   165520   \n",
       "3                  NaN  2152-09-12 00:00:00            1   199207   \n",
       "4  2163-05-15 00:00:00  2163-05-15 00:00:00            1   177759   \n",
       "\n",
       "             admittime  ... insurance language  religion marital_status  \\\n",
       "0  2164-10-23 21:09:00  ...  Medicare      NaN  CATHOLIC      SEPARATED   \n",
       "1  2126-08-14 22:32:00  ...   Private      NaN  CATHOLIC         SINGLE   \n",
       "2  2125-10-04 23:36:00  ...  Medicare      NaN  CATHOLIC            NaN   \n",
       "3  2149-05-26 17:19:00  ...  Medicare      NaN  CATHOLIC       DIVORCED   \n",
       "4  2163-05-14 20:43:00  ...  Medicare      NaN  CATHOLIC       DIVORCED   \n",
       "\n",
       "                ethnicity            edregtime            edouttime  \\\n",
       "0  BLACK/AFRICAN AMERICAN  2164-10-23 16:43:00  2164-10-23 23:00:00   \n",
       "1   UNKNOWN/NOT SPECIFIED                  NaN                  NaN   \n",
       "2   UNKNOWN/NOT SPECIFIED                  NaN                  NaN   \n",
       "3                   WHITE  2149-05-26 12:08:00  2149-05-26 19:45:00   \n",
       "4                   WHITE                  NaN                  NaN   \n",
       "\n",
       "             diagnosis hospital_expire_flag has_chartevents_data  \n",
       "0               SEPSIS                    0                    1  \n",
       "1          HEPATITIS B                    1                    1  \n",
       "2               SEPSIS                    1                    1  \n",
       "3     HUMERAL FRACTURE                    0                    1  \n",
       "4  ALCOHOLIC HEPATITIS                    1                    1  \n",
       "\n",
       "[5 rows x 25 columns]"
      ]
     },
     "execution_count": 553,
     "metadata": {},
     "output_type": "execute_result"
    }
   ],
   "source": [
    "#Remove some unwanted columns\n",
    "icustays = icustays.drop(['row_id'],axis=1)\n",
    "admissions = admissions.drop(['row_id'],axis=1)\n",
    "\n",
    "# Merging\n",
    "admissionsPatients=pd.merge(patients, admissions, on=['subject_id'],how=\"outer\")\n",
    "admissionsPatients.head()"
   ]
  },
  {
   "cell_type": "code",
   "execution_count": 554,
   "metadata": {},
   "outputs": [
    {
     "data": {
      "text/html": [
       "<div>\n",
       "<style scoped>\n",
       "    .dataframe tbody tr th:only-of-type {\n",
       "        vertical-align: middle;\n",
       "    }\n",
       "\n",
       "    .dataframe tbody tr th {\n",
       "        vertical-align: top;\n",
       "    }\n",
       "\n",
       "    .dataframe thead th {\n",
       "        text-align: right;\n",
       "    }\n",
       "</style>\n",
       "<table border=\"1\" class=\"dataframe\">\n",
       "  <thead>\n",
       "    <tr style=\"text-align: right;\">\n",
       "      <th></th>\n",
       "      <th>row_id</th>\n",
       "      <th>subject_id</th>\n",
       "      <th>gender</th>\n",
       "      <th>dob</th>\n",
       "      <th>dod</th>\n",
       "      <th>dod_hosp</th>\n",
       "      <th>dod_ssn</th>\n",
       "      <th>expire_flag</th>\n",
       "      <th>hadm_id</th>\n",
       "      <th>admittime</th>\n",
       "      <th>...</th>\n",
       "      <th>has_chartevents_data</th>\n",
       "      <th>icustay_id</th>\n",
       "      <th>dbsource</th>\n",
       "      <th>first_careunit</th>\n",
       "      <th>last_careunit</th>\n",
       "      <th>first_wardid</th>\n",
       "      <th>last_wardid</th>\n",
       "      <th>intime</th>\n",
       "      <th>outtime</th>\n",
       "      <th>los</th>\n",
       "    </tr>\n",
       "  </thead>\n",
       "  <tbody>\n",
       "    <tr>\n",
       "      <th>0</th>\n",
       "      <td>9467</td>\n",
       "      <td>10006</td>\n",
       "      <td>F</td>\n",
       "      <td>2094-03-05 00:00:00</td>\n",
       "      <td>2165-08-12 00:00:00</td>\n",
       "      <td>2165-08-12 00:00:00</td>\n",
       "      <td>2165-08-12 00:00:00</td>\n",
       "      <td>1</td>\n",
       "      <td>142345</td>\n",
       "      <td>2164-10-23 21:09:00</td>\n",
       "      <td>...</td>\n",
       "      <td>1</td>\n",
       "      <td>206504</td>\n",
       "      <td>carevue</td>\n",
       "      <td>MICU</td>\n",
       "      <td>MICU</td>\n",
       "      <td>52</td>\n",
       "      <td>52</td>\n",
       "      <td>2164-10-23 21:10:15</td>\n",
       "      <td>2164-10-25 12:21:07</td>\n",
       "      <td>1.6325</td>\n",
       "    </tr>\n",
       "    <tr>\n",
       "      <th>1</th>\n",
       "      <td>9472</td>\n",
       "      <td>10011</td>\n",
       "      <td>F</td>\n",
       "      <td>2090-06-05 00:00:00</td>\n",
       "      <td>2126-08-28 00:00:00</td>\n",
       "      <td>2126-08-28 00:00:00</td>\n",
       "      <td>NaN</td>\n",
       "      <td>1</td>\n",
       "      <td>105331</td>\n",
       "      <td>2126-08-14 22:32:00</td>\n",
       "      <td>...</td>\n",
       "      <td>1</td>\n",
       "      <td>232110</td>\n",
       "      <td>carevue</td>\n",
       "      <td>MICU</td>\n",
       "      <td>MICU</td>\n",
       "      <td>15</td>\n",
       "      <td>15</td>\n",
       "      <td>2126-08-14 22:34:00</td>\n",
       "      <td>2126-08-28 18:59:00</td>\n",
       "      <td>13.8507</td>\n",
       "    </tr>\n",
       "    <tr>\n",
       "      <th>2</th>\n",
       "      <td>9474</td>\n",
       "      <td>10013</td>\n",
       "      <td>F</td>\n",
       "      <td>2038-09-03 00:00:00</td>\n",
       "      <td>2125-10-07 00:00:00</td>\n",
       "      <td>2125-10-07 00:00:00</td>\n",
       "      <td>2125-10-07 00:00:00</td>\n",
       "      <td>1</td>\n",
       "      <td>165520</td>\n",
       "      <td>2125-10-04 23:36:00</td>\n",
       "      <td>...</td>\n",
       "      <td>1</td>\n",
       "      <td>264446</td>\n",
       "      <td>carevue</td>\n",
       "      <td>MICU</td>\n",
       "      <td>MICU</td>\n",
       "      <td>15</td>\n",
       "      <td>15</td>\n",
       "      <td>2125-10-04 23:38:00</td>\n",
       "      <td>2125-10-07 15:13:52</td>\n",
       "      <td>2.6499</td>\n",
       "    </tr>\n",
       "    <tr>\n",
       "      <th>3</th>\n",
       "      <td>9478</td>\n",
       "      <td>10017</td>\n",
       "      <td>F</td>\n",
       "      <td>2075-09-21 00:00:00</td>\n",
       "      <td>2152-09-12 00:00:00</td>\n",
       "      <td>NaN</td>\n",
       "      <td>2152-09-12 00:00:00</td>\n",
       "      <td>1</td>\n",
       "      <td>199207</td>\n",
       "      <td>2149-05-26 17:19:00</td>\n",
       "      <td>...</td>\n",
       "      <td>1</td>\n",
       "      <td>204881</td>\n",
       "      <td>carevue</td>\n",
       "      <td>CCU</td>\n",
       "      <td>CCU</td>\n",
       "      <td>7</td>\n",
       "      <td>7</td>\n",
       "      <td>2149-05-29 18:52:29</td>\n",
       "      <td>2149-05-31 22:19:17</td>\n",
       "      <td>2.1436</td>\n",
       "    </tr>\n",
       "    <tr>\n",
       "      <th>4</th>\n",
       "      <td>9479</td>\n",
       "      <td>10019</td>\n",
       "      <td>M</td>\n",
       "      <td>2114-06-20 00:00:00</td>\n",
       "      <td>2163-05-15 00:00:00</td>\n",
       "      <td>2163-05-15 00:00:00</td>\n",
       "      <td>2163-05-15 00:00:00</td>\n",
       "      <td>1</td>\n",
       "      <td>177759</td>\n",
       "      <td>2163-05-14 20:43:00</td>\n",
       "      <td>...</td>\n",
       "      <td>1</td>\n",
       "      <td>228977</td>\n",
       "      <td>carevue</td>\n",
       "      <td>MICU</td>\n",
       "      <td>MICU</td>\n",
       "      <td>15</td>\n",
       "      <td>15</td>\n",
       "      <td>2163-05-14 20:43:56</td>\n",
       "      <td>2163-05-16 03:47:04</td>\n",
       "      <td>1.2938</td>\n",
       "    </tr>\n",
       "  </tbody>\n",
       "</table>\n",
       "<p>5 rows × 34 columns</p>\n",
       "</div>"
      ],
      "text/plain": [
       "   row_id  subject_id gender                  dob                  dod  \\\n",
       "0    9467       10006      F  2094-03-05 00:00:00  2165-08-12 00:00:00   \n",
       "1    9472       10011      F  2090-06-05 00:00:00  2126-08-28 00:00:00   \n",
       "2    9474       10013      F  2038-09-03 00:00:00  2125-10-07 00:00:00   \n",
       "3    9478       10017      F  2075-09-21 00:00:00  2152-09-12 00:00:00   \n",
       "4    9479       10019      M  2114-06-20 00:00:00  2163-05-15 00:00:00   \n",
       "\n",
       "              dod_hosp              dod_ssn  expire_flag  hadm_id  \\\n",
       "0  2165-08-12 00:00:00  2165-08-12 00:00:00            1   142345   \n",
       "1  2126-08-28 00:00:00                  NaN            1   105331   \n",
       "2  2125-10-07 00:00:00  2125-10-07 00:00:00            1   165520   \n",
       "3                  NaN  2152-09-12 00:00:00            1   199207   \n",
       "4  2163-05-15 00:00:00  2163-05-15 00:00:00            1   177759   \n",
       "\n",
       "             admittime  ... has_chartevents_data icustay_id dbsource  \\\n",
       "0  2164-10-23 21:09:00  ...                    1     206504  carevue   \n",
       "1  2126-08-14 22:32:00  ...                    1     232110  carevue   \n",
       "2  2125-10-04 23:36:00  ...                    1     264446  carevue   \n",
       "3  2149-05-26 17:19:00  ...                    1     204881  carevue   \n",
       "4  2163-05-14 20:43:00  ...                    1     228977  carevue   \n",
       "\n",
       "  first_careunit last_careunit first_wardid last_wardid               intime  \\\n",
       "0           MICU          MICU           52          52  2164-10-23 21:10:15   \n",
       "1           MICU          MICU           15          15  2126-08-14 22:34:00   \n",
       "2           MICU          MICU           15          15  2125-10-04 23:38:00   \n",
       "3            CCU           CCU            7           7  2149-05-29 18:52:29   \n",
       "4           MICU          MICU           15          15  2163-05-14 20:43:56   \n",
       "\n",
       "               outtime      los  \n",
       "0  2164-10-25 12:21:07   1.6325  \n",
       "1  2126-08-28 18:59:00  13.8507  \n",
       "2  2125-10-07 15:13:52   2.6499  \n",
       "3  2149-05-31 22:19:17   2.1436  \n",
       "4  2163-05-16 03:47:04   1.2938  \n",
       "\n",
       "[5 rows x 34 columns]"
      ]
     },
     "execution_count": 554,
     "metadata": {},
     "output_type": "execute_result"
    }
   ],
   "source": [
    "admissionsFinal=pd.merge(admissionsPatients, icustays, on=['subject_id', 'hadm_id'],how=\"outer\")\n",
    "\n",
    "admissionsFinal.head()"
   ]
  },
  {
   "cell_type": "code",
   "execution_count": 555,
   "metadata": {},
   "outputs": [
    {
     "data": {
      "text/html": [
       "<div>\n",
       "<style scoped>\n",
       "    .dataframe tbody tr th:only-of-type {\n",
       "        vertical-align: middle;\n",
       "    }\n",
       "\n",
       "    .dataframe tbody tr th {\n",
       "        vertical-align: top;\n",
       "    }\n",
       "\n",
       "    .dataframe thead th {\n",
       "        text-align: right;\n",
       "    }\n",
       "</style>\n",
       "<table border=\"1\" class=\"dataframe\">\n",
       "  <thead>\n",
       "    <tr style=\"text-align: right;\">\n",
       "      <th></th>\n",
       "      <th>subject_id</th>\n",
       "      <th>dob</th>\n",
       "      <th>hadm_id</th>\n",
       "      <th>admittime</th>\n",
       "      <th>admission_type</th>\n",
       "      <th>icustay_id</th>\n",
       "      <th>intime</th>\n",
       "      <th>los</th>\n",
       "    </tr>\n",
       "  </thead>\n",
       "  <tbody>\n",
       "    <tr>\n",
       "      <th>0</th>\n",
       "      <td>10006</td>\n",
       "      <td>2094-03-05 00:00:00</td>\n",
       "      <td>142345</td>\n",
       "      <td>2164-10-23 21:09:00</td>\n",
       "      <td>EMERGENCY</td>\n",
       "      <td>206504</td>\n",
       "      <td>2164-10-23 21:10:15</td>\n",
       "      <td>1.6325</td>\n",
       "    </tr>\n",
       "    <tr>\n",
       "      <th>1</th>\n",
       "      <td>10011</td>\n",
       "      <td>2090-06-05 00:00:00</td>\n",
       "      <td>105331</td>\n",
       "      <td>2126-08-14 22:32:00</td>\n",
       "      <td>EMERGENCY</td>\n",
       "      <td>232110</td>\n",
       "      <td>2126-08-14 22:34:00</td>\n",
       "      <td>13.8507</td>\n",
       "    </tr>\n",
       "    <tr>\n",
       "      <th>2</th>\n",
       "      <td>10013</td>\n",
       "      <td>2038-09-03 00:00:00</td>\n",
       "      <td>165520</td>\n",
       "      <td>2125-10-04 23:36:00</td>\n",
       "      <td>EMERGENCY</td>\n",
       "      <td>264446</td>\n",
       "      <td>2125-10-04 23:38:00</td>\n",
       "      <td>2.6499</td>\n",
       "    </tr>\n",
       "    <tr>\n",
       "      <th>3</th>\n",
       "      <td>10017</td>\n",
       "      <td>2075-09-21 00:00:00</td>\n",
       "      <td>199207</td>\n",
       "      <td>2149-05-26 17:19:00</td>\n",
       "      <td>EMERGENCY</td>\n",
       "      <td>204881</td>\n",
       "      <td>2149-05-29 18:52:29</td>\n",
       "      <td>2.1436</td>\n",
       "    </tr>\n",
       "    <tr>\n",
       "      <th>4</th>\n",
       "      <td>10019</td>\n",
       "      <td>2114-06-20 00:00:00</td>\n",
       "      <td>177759</td>\n",
       "      <td>2163-05-14 20:43:00</td>\n",
       "      <td>EMERGENCY</td>\n",
       "      <td>228977</td>\n",
       "      <td>2163-05-14 20:43:56</td>\n",
       "      <td>1.2938</td>\n",
       "    </tr>\n",
       "  </tbody>\n",
       "</table>\n",
       "</div>"
      ],
      "text/plain": [
       "   subject_id                  dob  hadm_id            admittime  \\\n",
       "0       10006  2094-03-05 00:00:00   142345  2164-10-23 21:09:00   \n",
       "1       10011  2090-06-05 00:00:00   105331  2126-08-14 22:32:00   \n",
       "2       10013  2038-09-03 00:00:00   165520  2125-10-04 23:36:00   \n",
       "3       10017  2075-09-21 00:00:00   199207  2149-05-26 17:19:00   \n",
       "4       10019  2114-06-20 00:00:00   177759  2163-05-14 20:43:00   \n",
       "\n",
       "  admission_type  icustay_id               intime      los  \n",
       "0      EMERGENCY      206504  2164-10-23 21:10:15   1.6325  \n",
       "1      EMERGENCY      232110  2126-08-14 22:34:00  13.8507  \n",
       "2      EMERGENCY      264446  2125-10-04 23:38:00   2.6499  \n",
       "3      EMERGENCY      204881  2149-05-29 18:52:29   2.1436  \n",
       "4      EMERGENCY      228977  2163-05-14 20:43:56   1.2938  "
      ]
     },
     "execution_count": 555,
     "metadata": {},
     "output_type": "execute_result"
    }
   ],
   "source": [
    "# Keeping only the columns that we are interested in.\n",
    "admissionsFinal = admissionsFinal[['subject_id','dob','hadm_id','admittime','admission_type','icustay_id','intime','los']]\n",
    "\n",
    "admissionsFinal.head()"
   ]
  },
  {
   "cell_type": "markdown",
   "metadata": {},
   "source": [
    "## Age, Pre-LOS and Elective Surgery"
   ]
  },
  {
   "cell_type": "markdown",
   "metadata": {},
   "source": [
    "- You should compute the age at the time the patient is admitted to the ICU from date of birth (dob) from PATIENTS table, then you can drop dob from the dataframe."
   ]
  },
  {
   "cell_type": "markdown",
   "metadata": {},
   "source": [
    "Converting the \"intime\" and \"date of birth\"columns of the \"admissionsFinal\" dataframe to datetime format using the pd.to_datetime() function"
   ]
  },
  {
   "cell_type": "code",
   "execution_count": 556,
   "metadata": {},
   "outputs": [
    {
     "data": {
      "text/plain": [
       "0     70\n",
       "1     36\n",
       "2     87\n",
       "3     74\n",
       "4     49\n",
       "5    300\n",
       "6     82\n",
       "7     78\n",
       "8     88\n",
       "9     81\n",
       "Name: age, dtype: int64"
      ]
     },
     "execution_count": 556,
     "metadata": {},
     "output_type": "execute_result"
    }
   ],
   "source": [
    "# Age\n",
    "intimeYear = pd.to_datetime(admissionsFinal['intime']).dt.year\n",
    "dobYear = pd.to_datetime(admissionsFinal['dob']).dt.year\n",
    "admissionsFinal[\"age\"] = intimeYear-dobYear\n",
    "\n",
    "admissionsFinal[\"age\"].head(10)"
   ]
  },
  {
   "cell_type": "markdown",
   "metadata": {},
   "source": [
    "We are going to replace the age value of 300 (which is used in the MIMIC-III dataset to indicate that the patient is over 89 years old, but their exact age is unknown due to privacy reasons) with the value 90."
   ]
  },
  {
   "cell_type": "code",
   "execution_count": 557,
   "metadata": {},
   "outputs": [
    {
     "data": {
      "text/plain": [
       "0    70\n",
       "1    36\n",
       "2    87\n",
       "3    74\n",
       "4    49\n",
       "5    90\n",
       "6    82\n",
       "7    78\n",
       "8    88\n",
       "9    81\n",
       "Name: age, dtype: int64"
      ]
     },
     "execution_count": 557,
     "metadata": {},
     "output_type": "execute_result"
    }
   ],
   "source": [
    "# As stated here, DOB of patients >89 is shifted 300 years before their birth. \n",
    "# Therefore, we cannot know their exact age.\n",
    "# We hardcore this \"300\" ages to 90 in consequence, although the OASIS function works fine because filters ages > 89.\n",
    "admissionsFinal.loc[admissionsFinal[\"age\"]==300,\"age\"]=90\n",
    "admissionsFinal['age'].head(10)"
   ]
  },
  {
   "cell_type": "markdown",
   "metadata": {},
   "source": [
    "- For the pre-LOS you should compare intime from ICUSTAYS table and admittime from ADMISSIONS table."
   ]
  },
  {
   "cell_type": "code",
   "execution_count": 558,
   "metadata": {},
   "outputs": [
    {
     "data": {
      "text/plain": [
       "0     0.02\n",
       "1     0.03\n",
       "2     0.03\n",
       "3    73.56\n",
       "4     0.02\n",
       "Name: prelos, dtype: float64"
      ]
     },
     "execution_count": 558,
     "metadata": {},
     "output_type": "execute_result"
    }
   ],
   "source": [
    "# Pre-LOS\n",
    "# Cast to datetime intime and admittime values\n",
    "preLos = pd.to_datetime(admissionsFinal['intime'])-pd.to_datetime(admissionsFinal['admittime'])\n",
    "# Convert it to hours and round to two decimals\n",
    "admissionsFinal['prelos'] = np.round(preLos.dt.total_seconds()/3600, 2)\n",
    "admissionsFinal['prelos'].head()"
   ]
  },
  {
   "cell_type": "markdown",
   "metadata": {},
   "source": [
    "- The elective surgery information is stored in the column admission_type of PATIENTS, ADMISSIONS and ICUSTAYS table."
   ]
  },
  {
   "cell_type": "code",
   "execution_count": 559,
   "metadata": {},
   "outputs": [
    {
     "data": {
      "text/plain": [
       "array(['EMERGENCY', 'ELECTIVE', 'URGENT'], dtype=object)"
      ]
     },
     "execution_count": 559,
     "metadata": {},
     "output_type": "execute_result"
    }
   ],
   "source": [
    "# Elective surgery information values\n",
    "admissionsFinal[\"admission_type\"].unique()"
   ]
  },
  {
   "cell_type": "markdown",
   "metadata": {},
   "source": [
    "## Temperature"
   ]
  },
  {
   "cell_type": "markdown",
   "metadata": {},
   "source": [
    "You need CHARTEVENTS table to get the temperature (measures in Fahrenheit and Celsius) and D_ITEMS table to consult the itemid for the measure."
   ]
  },
  {
   "cell_type": "markdown",
   "metadata": {},
   "source": [
    "We have created the function convertToCelsius() that identifies the temperature unit and proceeds to convert it to Celsius if the unit is Fahrenheit. \n",
    "\n",
    "Then, we have the function first24_or_48(). We'll use it for all the following variables, because:\n",
    "\n",
    "1. Gets the df with this variable info and computes the \"hour\" column which tells us the amount of hours elapsed between the date when the observation was made and the date when the patient went into the ICU.\n",
    "2. Filters the df including only the rows of less than 24 or 48 hours.\n",
    "3. For each unique icustay id, gets the minimum measure value\n",
    "\n",
    "- In the case of temperature, it converts the ones in Fahrenheit to Celsius.<br>\n",
    "- In the case of Urine, instead of the minimum, the function returns the total urine output over 24 or 48 hours, as stated in the documentation."
   ]
  },
  {
   "cell_type": "code",
   "execution_count": 560,
   "metadata": {},
   "outputs": [],
   "source": [
    "def convertToCelsius(temperature):\n",
    "    unit = temperature[\"valueuom\"].values[0]\n",
    "    val = temperature[\"valuenum\"].values[0]\n",
    "    if \"F\" in unit:\n",
    "        return (5/9)*(val-32)\n",
    "    return val"
   ]
  },
  {
   "cell_type": "code",
   "execution_count": 561,
   "metadata": {},
   "outputs": [],
   "source": [
    "def first24_or_48(df,ICUsmall,period,timeName,varMin,urine=False,temperature=False):\n",
    "    \n",
    "    # Get \"hadm_id\",\"icustay_id\",\"intime\" variables from the icustay df\n",
    "    df = pd.merge(df,ICUsmall,on=[\"subject_id\",\"hadm_id\",\"icustay_id\"])\n",
    "    \n",
    "    #Compute the hours\n",
    "    hours = pd.to_datetime(df[timeName]) - pd.to_datetime(df.intime)\n",
    "    df[\"hours\"] = np.round(hours.dt.total_seconds()/3600, 2)\n",
    "    \n",
    "    if temperature:\n",
    "        #Fahrenheit to Celsius if needed\n",
    "        df[\"temp_c\"] = df.apply(lambda x: convertToCelsius(x.to_frame().T),axis=1)\n",
    "    \n",
    "    # Filter 24 or 48 hours periods\n",
    "    df24 = df[(df[\"hours\"]<=period) & (df[\"hours\"]>0)]\n",
    "    ids = df24[\"icustay_id\"].unique()\n",
    "    minDF = pd.DataFrame()\n",
    "    for id in ids:\n",
    "        temp = df24[df24['icustay_id']==id]\n",
    "        \n",
    "        #Urine is the sum, not the minimum\n",
    "        if urine:\n",
    "            minDF = minDF.append(pd.DataFrame({'subject_id':temp[\"subject_id\"].unique(),\"icustay_id\":[id],\"urine\":[temp['urine'].sum()]}))\n",
    "        else:\n",
    "            # Get and locate the minimum\n",
    "            min_ = temp[varMin].min()\n",
    "            minDF = minDF.append(temp[temp[varMin]==min_][:1])\n",
    "    return minDF[[\"subject_id\",\"icustay_id\",varMin]]"
   ]
  },
  {
   "cell_type": "code",
   "execution_count": 562,
   "metadata": {},
   "outputs": [],
   "source": [
    "# Function that returns the dataframe of each temperature value for each icustay.\n",
    "def get_temperature(period):\n",
    "    ICUsmall = icustays[['subject_id',\"hadm_id\",\"icustay_id\",\"intime\"]]\n",
    "    \n",
    "    chartevents=pd.read_csv(path+'CHARTEVENTS.csv')\n",
    "    items=pd.read_csv(path+'D_ITEMS.csv')\n",
    "    \n",
    "    #When looking at the \"label\" values of dfitems, the only labels we are interested in are the ones that start\n",
    "    #with \"Temperature C\" or \"Temperature F\". I store get the itemid values of that rows\n",
    "    itemsID = items[(items[\"label\"].str.contains('^Temperature C', case=False, na=False, regex=True)) | \n",
    "         (items[\"label\"].str.contains('^Temperature F', case=False, na=False, regex=True))][['itemid']].values\n",
    "\n",
    "    #Remove the list of list\n",
    "    itemsID = [i[0] for i in itemsID]\n",
    "\n",
    "    #Get the rows of chartevents that contain those itemsID\n",
    "    validTemps = chartevents[chartevents['itemid'].isin(itemsID)]\n",
    "    validTemps = validTemps[validTemps['valuenum'].notna()][['subject_id', 'hadm_id', 'icustay_id', 'itemid', 'charttime',\n",
    "                                                            'value', 'valuenum', 'valueuom']]\n",
    "    \n",
    "    return first24_or_48(validTemps,ICUsmall,period,\"charttime\",\"temp_c\",temperature=True)\n",
    "    "
   ]
  },
  {
   "cell_type": "markdown",
   "metadata": {},
   "source": [
    "## Glasgow Coma Scale"
   ]
  },
  {
   "cell_type": "markdown",
   "metadata": {},
   "source": [
    "The Glasgow Coma Scale is stored in a different way in Metavision and Carevue.\n",
    "- Metavision saves the three tests separately: GCS - Eye Opening, GCS - Motor Response, GCS - Verbal Response\n",
    "- Carevue saves a single test: GCS_total.\n",
    "- We provide you 4 separate csv files with these information: GCS_E_metavision.csv, GCS_M_metavision.csv, GCS_V_metavision.csv and GCS_total_carevue.csv\n",
    "- You should concatenate the values and keep the worst one which corresponds to the minimum score."
   ]
  },
  {
   "cell_type": "code",
   "execution_count": 563,
   "metadata": {},
   "outputs": [],
   "source": [
    "# Function that returns the dataframe of each GCU value for each icustay.\n",
    "def get_GCS(period):\n",
    "    ICUsmall = icustays[['subject_id',\"hadm_id\",\"icustay_id\",\"intime\"]]\n",
    "    \n",
    "    #Reading\n",
    "    GCS_E_metavision = pd.read_csv(path+\"variables/GCS_E_metavision.csv\",index_col=0)\n",
    "    GCS_E_metavision.columns = [\"subject_id\",\"hadm_id\",\"icustay_id\",\"Time\",\"GCS_V\"]\n",
    "    GCS_M_metavision = pd.read_csv(path+\"variables/GCS_M_metavision.csv\",index_col=0)\n",
    "    GCS_M_metavision.columns = [\"subject_id\",\"hadm_id\",\"icustay_id\",\"Time\",\"GCS_M\"]\n",
    "    GCS_V_metavision = pd.read_csv(path+\"variables/GCS_V_metavision.csv\",index_col=0)\n",
    "    GCS_V_metavision.columns = [\"subject_id\",\"hadm_id\",\"icustay_id\",\"Time\",\"GCS_E\"]\n",
    "    GCS_total_carevue = pd.read_csv(path+\"variables/GCS_total_carevue.csv\",index_col=0)\n",
    "    \n",
    "    # For Metavision, merge all the dataframes of GCS information\n",
    "    GCSMeta = pd.merge(GCS_E_metavision,pd.merge(GCS_M_metavision,GCS_V_metavision,on=[\"subject_id\",\"hadm_id\",\"icustay_id\",\"Time\"]))\n",
    "    \n",
    "    #And now sum its values\n",
    "    GCSMeta[\"GCS_total\"] = GCSMeta[\"GCS_V\"]+GCSMeta[\"GCS_M\"]+GCSMeta[\"GCS_E\"]\n",
    "    GCSMeta = GCSMeta.drop([\"GCS_V\",\"GCS_M\",\"GCS_E\"],axis=1)\n",
    "\n",
    "    # For Carevue just rename the columns\n",
    "    CareMin = first24_or_48(GCS_total_carevue,ICUsmall,24,\"GCS_total_Carevue_Time\",\"GCS_total_Carevue\")\n",
    "    CareMin.columns = [\"subject_id\",\"icustay_id\",\"GCS_total\"]\n",
    "    \n",
    "    MetaMin = first24_or_48(GCSMeta,ICUsmall,period,\"Time\",\"GCS_total\")\n",
    "    \n",
    "    return pd.concat([CareMin,MetaMin])"
   ]
  },
  {
   "cell_type": "markdown",
   "metadata": {},
   "source": [
    "## HRate, Resp_rate, Urine, MAP"
   ]
  },
  {
   "cell_type": "code",
   "execution_count": 564,
   "metadata": {},
   "outputs": [],
   "source": [
    "# Function that returns the dataframe of each variable value for each icustay.\n",
    "def get_rest_variables(period):\n",
    "    ICUsmall = icustays[['subject_id',\"hadm_id\",\"icustay_id\",\"intime\"]]\n",
    "    \n",
    "    #Reading\n",
    "    hrate = pd.read_csv(path+\"variables/heartRate.csv\",index_col=0)\n",
    "    respRate = pd.read_csv(path+\"variables/RespiratoryRate.csv\",index_col=0)\n",
    "    urine = pd.read_csv(path+\"variables/urine.csv\",index_col=0)\n",
    "    map_ = pd.read_csv(path+\"variables/MAP.csv\",index_col=0)\n",
    "    \n",
    "    heartRate = first24_or_48(hrate,ICUsmall,period,\"hrate_Time\",\"hrate\")\n",
    "    mapDF = first24_or_48(map_,ICUsmall,period,\"MAP_Time\",\"MAP\")\n",
    "    respirRate = first24_or_48(respRate,ICUsmall,period,\"resp_rate_Time\",\"resp_rate\")\n",
    "    ur = first24_or_48(urine,ICUsmall,period,\"urine_Time\",\"urine\",True)\n",
    "    \n",
    "    return [heartRate,mapDF,respirRate,ur]\n",
    "    "
   ]
  },
  {
   "cell_type": "markdown",
   "metadata": {},
   "source": [
    "## Ventilation"
   ]
  },
  {
   "cell_type": "markdown",
   "metadata": {},
   "source": [
    "Ventilation is a medical intervention that is commonly used in critical care settings to support the breathing of patients who are unable to breathe adequately on their own. To begin with, we add a column named \"ventilated\" and input its values to \"y\". Then, we return the df. Later on, we will merge this df to the \"global\" df and then replace the NaN values that we will find in this columns with \"n\"."
   ]
  },
  {
   "cell_type": "code",
   "execution_count": 565,
   "metadata": {},
   "outputs": [],
   "source": [
    "def get_vent(period):\n",
    "    ve = pd.read_csv(path+\"variables/ventilation.csv\",index_col=0)\n",
    "    ve[\"ventilated\"]=\"y\"\n",
    "    return ve.drop([\"hadm_id\",\"starttime\"],axis=1)"
   ]
  },
  {
   "cell_type": "markdown",
   "metadata": {},
   "source": [
    "## Oasis Score computing"
   ]
  },
  {
   "cell_type": "markdown",
   "metadata": {},
   "source": [
    "The following compute_oasis function is open-source and provided in the github page: https://gist.github.com/tompollard/d4c216d0c4ad30481c99"
   ]
  },
  {
   "cell_type": "markdown",
   "metadata": {},
   "source": [
    "Though, we added the <b>allowNaN parameter</b>, which our function compute_oasis takes as an input and is a Boolean variable, meaning that the values that can have is either False or True."
   ]
  },
  {
   "cell_type": "markdown",
   "metadata": {},
   "source": [
    "In other words, we added a modification that can change the original code to consider the variable as 0.0 (state in normal range) when all instances of the variable are NaN. For that use np.nansum instead of using sum in the line:\n",
    "oasis_score = sum([oasis_prelos, oasis_age, oasis_gcs, oasis_hr, oasis_map, oasis_resp,oasis_temp, oasis_urine, oasis_vent, oasis_surg])."
   ]
  },
  {
   "cell_type": "code",
   "execution_count": 566,
   "metadata": {},
   "outputs": [],
   "source": [
    "# The MIT License\n",
    "\n",
    "# Copyright (c) 2015 Tom Pollard\n",
    "\n",
    "# Permission is hereby granted, free of charge, to any person obtaining a copy\n",
    "# of this software and associated documentation files (the \"Software\"), to deal\n",
    "# in the Software without restriction, including without limitation the rights\n",
    "# to use, copy, modify, merge, publish, distribute, sublicense, and/or sell\n",
    "# copies of the Software, and to permit persons to whom the Software is\n",
    "# furnished to do so, subject to the following conditions:\n",
    "\n",
    "# The above copyright notice and this permission notice shall be included in\n",
    "# all copies or substantial portions of the Software.\n",
    "\n",
    "# THE SOFTWARE IS PROVIDED \"AS IS\", WITHOUT WARRANTY OF ANY KIND, EXPRESS OR\n",
    "# IMPLIED, INCLUDING BUT NOT LIMITED TO THE WARRANTIES OF MERCHANTABILITY,\n",
    "# FITNESS FOR A PARTICULAR PURPOSE AND NONINFRINGEMENT. IN NO EVENT SHALL THE\n",
    "# AUTHORS OR COPYRIGHT HOLDERS BE LIABLE FOR ANY CLAIM, DAMAGES OR OTHER\n",
    "# LIABILITY, WHETHER IN AN ACTION OF CONTRACT, TORT OR OTHERWISE, ARISING FROM,\n",
    "# OUT OF OR IN CONNECTION WITH THE SOFTWARE OR THE USE OR OTHER DEALINGS IN\n",
    "# THE SOFTWARE.\n",
    "\n",
    "def compute_oasis(pd_dataframe,allowNaN=False):\n",
    "    \"\"\"\n",
    "    Takes Pandas DataFrame as an argument and computes Oxford Acute \n",
    "    Severity of Illness Score (OASIS) (http://oasisicu.com/)\n",
    "    \n",
    "    The DataFrame should include only measurements taken over the first 24h \n",
    "    from admission. pd_dataframe should contain the following columns:\n",
    "    \n",
    "    'prelos' => Pre-ICU length of stay, hours\n",
    "    'age' => Age of patient, years\n",
    "    'GCS_total' => Total Glasgow Coma Scale for patient\n",
    "    'hrate' => All heart rate measurements\n",
    "    'MAP' => All mean arterial blood pressure measurements\n",
    "    'resp_rate' => All respiratory rate measurements\n",
    "    'temp_c' => All temperature measurements, C\n",
    "    'urine' => Total urine output over 24 h (note, not consecutive measurements)\n",
    "    'ventilated' => Is patient ventilated? (y,n)\n",
    "    'admission_type' => Type of admission (elective, urgent, emergency) \n",
    "    \n",
    "    Reference:\n",
    "    Johnson AE, Kramer AA, Clifford GD. A new severity of illness scale \n",
    "    using a subset of Acute Physiology And Chronic Health Evaluation \n",
    "    data elements shows comparable predictive accuracy.\n",
    "    Crit Care Med. 2013 Jul;41(7):1711-8. doi: 10.1097/CCM.0b013e31828a24fe\n",
    "    http://www.ncbi.nlm.nih.gov/pubmed/23660729\n",
    "    \"\"\"\n",
    "    \n",
    "    # 10 variables\n",
    "    oasis_score, oasis_prelos, oasis_age, oasis_gcs, oasis_hr, oasis_map, oasis_resp, \\\n",
    "        oasis_temp, oasis_urine, oasis_vent, oasis_surg = 0,0,0,0,0,0,0,0,0,0,0   \n",
    "    # Pre-ICU length of stay, hours\n",
    "    for val in pd_dataframe['prelos']:\n",
    "        if val >= 4.95 and val <= 24.0:\n",
    "            oasis_prelos = np.nanmax([0,oasis_prelos])\n",
    "        elif val > 311.8:\n",
    "            oasis_prelos = np.nanmax([1,oasis_prelos])\n",
    "        elif val > 24.0 and val <= 311.8:\n",
    "            oasis_prelos = np.nanmax([2,oasis_prelos])\n",
    "        elif val >= 0.17 and val < 4.95:\n",
    "            oasis_prelos = np.nanmax([3,oasis_prelos])\n",
    "        elif val < 0.17:\n",
    "            oasis_prelos = np.nanmax([5,oasis_prelos])\n",
    "        else:\n",
    "            oasis_prelos = np.nanmax([np.nan,oasis_prelos])  \n",
    "    if pd_dataframe['prelos'].isnull().all():\n",
    "        oasis_prelos = np.nan \n",
    "    # Age, years\n",
    "    for val in pd_dataframe['age']:\n",
    "        if val < 24:\n",
    "            oasis_age = np.nanmax([0,oasis_age])\n",
    "        elif val >= 24 and val <= 53:\n",
    "            oasis_age = np.nanmax([3,oasis_age])\n",
    "        elif val > 53 and val <= 77:\n",
    "            oasis_age = np.nanmax([6,oasis_age])\n",
    "        elif val > 77 and val <= 89:\n",
    "            oasis_age = np.nanmax([9,oasis_age])\n",
    "        elif val > 89:\n",
    "            oasis_age = np.nanmax([7,oasis_age])\n",
    "        else:\n",
    "            oasis_age = np.nanmax([np.nan,oasis_age])\n",
    "    if pd_dataframe['age'].isnull().all():\n",
    "        oasis_age = np.nan \n",
    "    # Glasgow Coma Scale\n",
    "    for val in pd_dataframe['GCS_total']:\n",
    "        if val == 15:\n",
    "            oasis_gcs = np.nanmax([0,oasis_gcs])\n",
    "        elif val == 14:\n",
    "            oasis_gcs = np.nanmax([3,oasis_gcs])\n",
    "        elif val >= 8 and val <= 13:\n",
    "            oasis_gcs = np.nanmax([4,oasis_gcs])\n",
    "        elif val >= 3 and val <= 7:\n",
    "            oasis_gcs = np.nanmax([10,oasis_gcs])\n",
    "        else:\n",
    "            oasis_gcs = np.nanmax([np.nan,oasis_gcs])\n",
    "    if pd_dataframe['GCS_total'].isnull().all():\n",
    "        oasis_gcs = np.nan     \n",
    "    # Heart rate\n",
    "    for val in pd_dataframe['hrate']:\n",
    "        if val >= 33 and val <= 88:\n",
    "            oasis_hr = np.nanmax([0,oasis_hr])\n",
    "        elif val > 88 and val <= 106:\n",
    "            oasis_hr = np.nanmax([1,oasis_hr])\n",
    "        elif val > 106 and val <= 125:\n",
    "            oasis_hr = np.nanmax([3,oasis_hr])\n",
    "        elif val < 33:\n",
    "            oasis_hr = np.nanmax([4,oasis_hr])\n",
    "        elif val > 125:\n",
    "            oasis_hr = np.nanmax([6,oasis_hr])\n",
    "        else:\n",
    "            oasis_hr = np.nanmax([np.nan,oasis_hr])\n",
    "    if pd_dataframe['hrate'].isnull().all():\n",
    "        oasis_hr = np.nan \n",
    "    # Mean arterial pressure\n",
    "    for val in pd_dataframe['MAP']:\n",
    "        if val >=61.33 and val <= 143.44:\n",
    "            oasis_map = np.nanmax([0,oasis_map])\n",
    "        elif val >= 51.0 and val < 61.33:\n",
    "            oasis_map = np.nanmax([2,oasis_map])\n",
    "        elif (val >= 20.65 and val < 51.0) or (val > 143.44):\n",
    "            oasis_map = np.nanmax([3,oasis_map])\n",
    "        elif val < 20.65:\n",
    "            oasis_map = np.nanmax([4,oasis_map])\n",
    "        else:\n",
    "            oasis_map = np.nanmax([np.nan,oasis_map])\n",
    "    if pd_dataframe['MAP'].isnull().all():\n",
    "        oasis_map = np.nan \n",
    "    # Respiratory Rate\n",
    "    for val in pd_dataframe['resp_rate']:\n",
    "        if val >=13 and val <= 22:\n",
    "            oasis_resp = np.nanmax([0,oasis_resp])\n",
    "        elif (val >= 6 and val <= 12) or (val >= 23 and val <= 30):\n",
    "            oasis_resp = np.nanmax([1,oasis_resp])\n",
    "        elif val > 30 and val <= 44:\n",
    "            oasis_resp = np.nanmax([6,oasis_resp])\n",
    "        elif val > 44:\n",
    "            oasis_resp = np.nanmax([9,oasis_resp])\n",
    "        elif val < 6:\n",
    "            oasis_resp = np.nanmax([10,oasis_resp])\n",
    "        else:\n",
    "            oasis_resp = np.nanmax([np.nan,oasis_resp])\n",
    "    if pd_dataframe['resp_rate'].isnull().all():\n",
    "        oasis_resp = np.nan \n",
    "    # Temperature, C\n",
    "    for val in pd_dataframe['temp_c']:\n",
    "        if val >= 36.40 and val <= 36.88:\n",
    "            oasis_temp = np.nanmax([0,oasis_temp])\n",
    "        elif (val >= 35.94 and val < 36.40) or (val > 36.88 and val <= 39.88):\n",
    "            oasis_temp = np.nanmax([2,oasis_temp])\n",
    "        elif val < 33.22:\n",
    "            oasis_temp = np.nanmax([3,oasis_temp])            \n",
    "        elif val >= 33.22 and val < 35.94:\n",
    "            oasis_temp = np.nanmax([4,oasis_temp])\n",
    "        elif val > 39.88:\n",
    "            oasis_temp = np.nanmax([6,oasis_temp])\n",
    "        else:\n",
    "            oasis_temp = np.nanmax([np.nan,oasis_temp])\n",
    "    if pd_dataframe['temp_c'].isnull().all():\n",
    "        oasis_temp = np.nan \n",
    "    # Urine output, cc/day (total over 24h)\n",
    "    val = np.max(pd_dataframe['urine'])\n",
    "    if val >=2544.0 and val <= 6896.0:\n",
    "        oasis_urine = np.nanmax([0,oasis_urine])\n",
    "    elif val >= 1427.0 and val < 2544.0:\n",
    "        oasis_urine = np.nanmax([1,oasis_urine])\n",
    "    elif val >= 671.0 and val < 1427.0:\n",
    "        oasis_urine = np.nanmax([5,oasis_urine])\n",
    "    elif val > 6896.0:\n",
    "        oasis_urine = np.nanmax([8,oasis_urine])\n",
    "    elif val < 671:\n",
    "        oasis_urine = np.nanmax([10,oasis_urine])\n",
    "    else:\n",
    "        oasis_urine = np.nanmax([np.nan,oasis_urine])\n",
    "    if pd_dataframe['urine'].isnull().all():\n",
    "        oasis_urine = np.nan \n",
    "    # Ventilated y/n\n",
    "    for val in pd_dataframe['ventilated']:\n",
    "        if val == 'n':\n",
    "            oasis_vent = np.nanmax([0,oasis_vent])\n",
    "        elif val == 'y':\n",
    "            oasis_vent = np.nanmax([9,oasis_vent])\n",
    "        else:\n",
    "            oasis_vent = np.nanmax([np.nan,oasis_vent])\n",
    "    if pd_dataframe['ventilated'].isnull().all():\n",
    "        oasis_vent = np.nan \n",
    "    # Elective surgery y/n\n",
    "    for val in pd_dataframe['admission_type']:\n",
    "        if val == 'elective':\n",
    "            oasis_surg = np.nanmax([0,oasis_surg])\n",
    "        elif val in ['urgent','emergency']:\n",
    "            oasis_surg = np.nanmax([6,oasis_surg])\n",
    "        else:\n",
    "            oasis_surg = np.nanmax([np.nan,oasis_surg])\n",
    "    if pd_dataframe['admission_type'].isnull().all():\n",
    "        oasis_surg = np.nan \n",
    "        \n",
    "    ##################################################################################################################\n",
    "    ###################    Checking if the allowNaN is True or False    ##############################################\n",
    "    ##################################################################################################################\n",
    "    if allowNaN:\n",
    "        return np.nansum([oasis_prelos, oasis_age, oasis_gcs, oasis_hr, oasis_map, oasis_resp, \\\n",
    "            oasis_temp, oasis_urine, oasis_vent, oasis_surg])\n",
    "    else:\n",
    "        # Return sum\n",
    "        oasis_score = sum([oasis_prelos, oasis_age, oasis_gcs, oasis_hr, oasis_map, oasis_resp, \\\n",
    "            oasis_temp, oasis_urine, oasis_vent, oasis_surg])\n",
    "    \n",
    "    return oasis_score"
   ]
  },
  {
   "cell_type": "markdown",
   "metadata": {},
   "source": [
    "This function gets a dataframe and adds the column \"oasis\" that is the OASIS score computed with the previous function. With the parameter \"allowNaN\" we allow or not NaN's in the final sum as can be easily understood."
   ]
  },
  {
   "cell_type": "code",
   "execution_count": 567,
   "metadata": {},
   "outputs": [],
   "source": [
    "def addOasis(data,allowNaN):\n",
    "    df = data.copy()\n",
    "    df[\"oasis\"]= data.apply(lambda x: compute_oasis(x.to_frame().T,allowNaN),axis=1)\n",
    "    return df"
   ]
  },
  {
   "cell_type": "markdown",
   "metadata": {},
   "source": [
    "## Training and Making Predictions"
   ]
  },
  {
   "cell_type": "markdown",
   "metadata": {},
   "source": [
    "### Importing the Libraries"
   ]
  },
  {
   "cell_type": "code",
   "execution_count": 568,
   "metadata": {},
   "outputs": [],
   "source": [
    "from sklearn.ensemble import RandomForestClassifier\n",
    "from sklearn.model_selection import train_test_split, cross_val_score, cross_val_predict\n",
    "from sklearn.model_selection import StratifiedKFold\n",
    "from sklearn import metrics\n",
    "from sklearn.metrics import confusion_matrix\n",
    "from sklearn.metrics import plot_confusion_matrix"
   ]
  },
  {
   "cell_type": "markdown",
   "metadata": {},
   "source": [
    "The following function creates the \"global\" dataframe with all the needed variables."
   ]
  },
  {
   "cell_type": "code",
   "execution_count": 569,
   "metadata": {},
   "outputs": [],
   "source": [
    "def getData(starterDF,period,allowNaN):\n",
    "    # Temperature\n",
    "    starterDF = pd.merge(starterDF,get_temperature(period),on=[\"subject_id\",\"icustay_id\"],how=\"outer\")\n",
    "    \n",
    "    # GCS\n",
    "    starterDF = pd.merge(starterDF,get_GCS(period),on=[\"subject_id\",\"icustay_id\"],how=\"outer\")\n",
    "    \n",
    "    # HRate, Resp_rate, Urine, MAP\n",
    "    for df in get_rest_variables(period):\n",
    "        starterDF = pd.merge(starterDF,df,on=[\"subject_id\",\"icustay_id\"],how=\"outer\")\n",
    "    \n",
    "    # Ventilation\n",
    "    vent = get_vent(period)\n",
    "    starterDF = pd.merge(starterDF,vent,on=[\"subject_id\",\"icustay_id\"],how=\"outer\")\n",
    "    starterDF['ventilated'] = starterDF['ventilated'].replace(np.nan, \"n\")\n",
    "    starterDF = starterDF.drop_duplicates()\n",
    "    \n",
    "    # OASIS Scores\n",
    "    starterDF = addOasis(starterDF,allowNaN)[['oasis','los']]\n",
    "    \n",
    "    # LOS to target variable for training.\n",
    "    starterDF['los'] = np.where(starterDF['los']<4, 0, 1)\n",
    "    \n",
    "    return starterDF"
   ]
  },
  {
   "cell_type": "markdown",
   "metadata": {},
   "source": [
    "Now, we are going to define the following 3 dataframes:\n",
    "- <b>data24</b>: data from the last 24 hours, allowing the OASIS final sum with NaN values in it.\n",
    "- <b>dataNaN48</b>: data from the last 24 hours, <b>not allowing</b> the OASIS final sum with NaN values in it.\n",
    "- <b>data48</b>: data from the last 48 hours, allowing the OASIS final sum with NaN values in it."
   ]
  },
  {
   "cell_type": "code",
   "execution_count": 570,
   "metadata": {},
   "outputs": [],
   "source": [
    "data24 = getData(admissionsFinal,24,True)\n",
    "dataNaN48 = getData(admissionsFinal,48,False)\n",
    "data48 = getData(admissionsFinal,48,True)"
   ]
  },
  {
   "cell_type": "code",
   "execution_count": 571,
   "metadata": {},
   "outputs": [
    {
     "data": {
      "text/plain": [
       "(136, 2)"
      ]
     },
     "execution_count": 571,
     "metadata": {},
     "output_type": "execute_result"
    }
   ],
   "source": [
    "data24.shape"
   ]
  },
  {
   "cell_type": "code",
   "execution_count": 572,
   "metadata": {},
   "outputs": [
    {
     "data": {
      "text/html": [
       "<div>\n",
       "<style scoped>\n",
       "    .dataframe tbody tr th:only-of-type {\n",
       "        vertical-align: middle;\n",
       "    }\n",
       "\n",
       "    .dataframe tbody tr th {\n",
       "        vertical-align: top;\n",
       "    }\n",
       "\n",
       "    .dataframe thead th {\n",
       "        text-align: right;\n",
       "    }\n",
       "</style>\n",
       "<table border=\"1\" class=\"dataframe\">\n",
       "  <thead>\n",
       "    <tr style=\"text-align: right;\">\n",
       "      <th></th>\n",
       "      <th>oasis</th>\n",
       "      <th>los</th>\n",
       "    </tr>\n",
       "  </thead>\n",
       "  <tbody>\n",
       "    <tr>\n",
       "      <th>0</th>\n",
       "      <td>23.0</td>\n",
       "      <td>0</td>\n",
       "    </tr>\n",
       "    <tr>\n",
       "      <th>1</th>\n",
       "      <td>14.0</td>\n",
       "      <td>1</td>\n",
       "    </tr>\n",
       "    <tr>\n",
       "      <th>2</th>\n",
       "      <td>19.0</td>\n",
       "      <td>0</td>\n",
       "    </tr>\n",
       "    <tr>\n",
       "      <th>3</th>\n",
       "      <td>15.0</td>\n",
       "      <td>0</td>\n",
       "    </tr>\n",
       "    <tr>\n",
       "      <th>4</th>\n",
       "      <td>34.0</td>\n",
       "      <td>0</td>\n",
       "    </tr>\n",
       "  </tbody>\n",
       "</table>\n",
       "</div>"
      ],
      "text/plain": [
       "   oasis  los\n",
       "0   23.0    0\n",
       "1   14.0    1\n",
       "2   19.0    0\n",
       "3   15.0    0\n",
       "4   34.0    0"
      ]
     },
     "execution_count": 572,
     "metadata": {},
     "output_type": "execute_result"
    }
   ],
   "source": [
    "data24.head()"
   ]
  },
  {
   "cell_type": "code",
   "execution_count": 573,
   "metadata": {},
   "outputs": [
    {
     "name": "stdout",
     "output_type": "stream",
     "text": [
      "data24 number of NaN's: 0 \n",
      "dataNaN48 number of NaN's: 83 \n",
      "data48 number of NaN's: 0\n"
     ]
    }
   ],
   "source": [
    "print(\"data24 number of NaN's:\",data24[\"oasis\"].isna().sum(),\n",
    "     \"\\ndataNaN48 number of NaN's:\",dataNaN48[\"oasis\"].isna().sum(),\n",
    "     \"\\ndata48 number of NaN's:\",data48[\"oasis\"].isna().sum())"
   ]
  },
  {
   "cell_type": "markdown",
   "metadata": {},
   "source": [
    "The train function we created is using a RandomForestClassifier to predict the length of stay (LOS) of ICU patients based on a single input variable X, which is the OASIS score."
   ]
  },
  {
   "cell_type": "code",
   "execution_count": 574,
   "metadata": {},
   "outputs": [],
   "source": [
    "def train(data):\n",
    "    \n",
    "    # We initialize a cross-validation object cv using the StratifiedKFold class from the scikit-learn library.\n",
    "    # n_splits=5: This specifies the number of folds to use in the cross-validation procedure. \n",
    "    # In this case, the data will be split into five folds (or subsets) for cross-validation.\n",
    "    cv = StratifiedKFold(random_state=0,n_splits=5,shuffle=True)\n",
    "    \n",
    "    X = data.dropna().iloc[:,0].values.reshape(-1,1)\n",
    "    y = data.dropna().iloc[:,1].values\n",
    "    print(\"X shape:\",X.shape,\"y shape\",y.shape)\n",
    "    yhat = np.zeros((X.shape[0])).reshape(-1,1)\n",
    "    \n",
    "    for train_idx, test_idx in cv.split(X,y):\n",
    "        X_train,y_train = X[train_idx,:],y[train_idx]\n",
    "        X_test,y_test = X[test_idx,:],y[test_idx]\n",
    "\n",
    "        clf = RandomForestClassifier(random_state=0)\n",
    "        clf.fit(X_train,y_train)\n",
    "        yhat[test_idx] = clf.predict(X_test).reshape(-1,1)\n",
    "    \n",
    "    #For the mean or std if we want\n",
    "    scores = cross_val_score(clf,X,y,cv=5)\n",
    "    \n",
    "    print(\"Accuracy of the model:\",np.round(metrics.accuracy_score(y,yhat),2),\n",
    "          \"\\nMean Accuracy:\",np.round(scores.mean(),2),\n",
    "          \"\\nF1 Score:\",np.round(metrics.f1_score(y,yhat),2),\n",
    "         \"\\nConfusion Matrix:\\n\",metrics.confusion_matrix(y,yhat),\n",
    "         \"\\n\",plot_confusion_matrix(clf, X_test, y_test))\n",
    "        "
   ]
  },
  {
   "cell_type": "markdown",
   "metadata": {},
   "source": [
    "## Results"
   ]
  },
  {
   "cell_type": "code",
   "execution_count": 575,
   "metadata": {},
   "outputs": [
    {
     "name": "stdout",
     "output_type": "stream",
     "text": [
      "X shape: (136, 1) y shape (136,)\n",
      "Accuracy of the model: 0.66 \n",
      "Mean Accuracy: 0.68 \n",
      "F1 Score: 0.28 \n",
      "Confusion Matrix:\n",
      " [[81 19]\n",
      " [27  9]] \n",
      " <sklearn.metrics._plot.confusion_matrix.ConfusionMatrixDisplay object at 0x1689fbdf0>\n"
     ]
    },
    {
     "data": {
      "image/png": "[encoded data removed]",
      "text/plain": [
       "<Figure size 640x480 with 2 Axes>"
      ]
     },
     "metadata": {},
     "output_type": "display_data"
    }
   ],
   "source": [
    "train(data24)"
   ]
  },
  {
   "cell_type": "code",
   "execution_count": 576,
   "metadata": {},
   "outputs": [
    {
     "name": "stdout",
     "output_type": "stream",
     "text": [
      "X shape: (136, 1) y shape (136,)\n",
      "Accuracy of the model: 0.68 \n",
      "Mean Accuracy: 0.75 \n",
      "F1 Score: 0.27 \n",
      "Confusion Matrix:\n",
      " [[84 16]\n",
      " [28  8]] \n",
      " <sklearn.metrics._plot.confusion_matrix.ConfusionMatrixDisplay object at 0x286fadf30>\n"
     ]
    },
    {
     "data": {
      "image/png": "[encoded data removed]",
      "text/plain": [
       "<Figure size 640x480 with 2 Axes>"
      ]
     },
     "metadata": {},
     "output_type": "display_data"
    }
   ],
   "source": [
    "train(data48)"
   ]
  },
  {
   "cell_type": "code",
   "execution_count": 577,
   "metadata": {},
   "outputs": [
    {
     "name": "stdout",
     "output_type": "stream",
     "text": [
      "X shape: (53, 1) y shape (53,)\n",
      "Accuracy of the model: 0.53 \n",
      "Mean Accuracy: 0.49 \n",
      "F1 Score: 0.39 \n",
      "Confusion Matrix:\n",
      " [[20 10]\n",
      " [15  8]] \n",
      " <sklearn.metrics._plot.confusion_matrix.ConfusionMatrixDisplay object at 0x11082e590>\n"
     ]
    },
    {
     "data": {
      "image/png": "[encoded data removed]",
      "text/plain": [
       "<Figure size 640x480 with 2 Axes>"
      ]
     },
     "metadata": {},
     "output_type": "display_data"
    }
   ],
   "source": [
    "train(dataNaN48)"
   ]
  },
  {
   "cell_type": "markdown",
   "metadata": {},
   "source": [
    "## Accuracy Comparisons"
   ]
  },
  {
   "cell_type": "markdown",
   "metadata": {},
   "source": [
    "In this section we have gathered the Accuracy scores that describe in a way how good the different models that we implemented are. "
   ]
  },
  {
   "cell_type": "markdown",
   "metadata": {},
   "source": [
    "* <b>48 hours NaN values: </b>We can observe that the <b>worst model</b> is the one build with data from the last 48 hours but not allowing the OASIS final sum with NaN values in it. (53%)\n",
    "\n",
    "* <b>48 hours: </b>On the other hand, the <b>best model</b> created is the one build with data from the last 48 hours that allows the OASIS final sum with NaN values in it. (68%)\n",
    "\n",
    "* <b>24 hours: </b>We have to underline the fact that the dataset with data from the last 24 hours also has given a good accuracy score. (66%)\n",
    "\n",
    "<br>As follows we present you the table showing the Accuracy scores for every model that we implemented.\n",
    "\n",
    "\n",
    "| Dataset              | Accuracy (%) |\n",
    "|----------------------|--------------|\n",
    "| 48 hours             |           68 |\n",
    "| 24 hours             |           66 |\n",
    "| 48 hours, NaN values |           53 |"
   ]
  },
  {
   "cell_type": "markdown",
   "metadata": {},
   "source": [
    "## Remarks"
   ]
  },
  {
   "cell_type": "markdown",
   "metadata": {},
   "source": [
    "The afforementioned results makes sense somehow due to the fact that the 48 hours with NaN values (which has the worst accuracy) only has 53 rows (shape: 53 x 1), while the others have (136 x 1). We can observe from the confusion matrices that the 24 hour dataset has less False positives than the 48-hour dataset but moreover has less True Positives.<br>\n",
    "Therefore, to sum up, despite the fact that they seem to be quite similar, the 48-hour dataset allowing NaN values is prevailing, due to the fact that it has the best Accuracy Score and more or less the same F1 Score. For this reason, this would be the model that i would eventually select overall."
   ]
  },
  {
   "cell_type": "markdown",
   "metadata": {},
   "source": [
    "### 2-fold"
   ]
  },
  {
   "cell_type": "markdown",
   "metadata": {},
   "source": [
    "We have also to underline the fact that if we select <b>n_splits=2</b> (2-folds to use in the cross-validation procedure) the Accuracy scores are changing a little bit."
   ]
  },
  {
   "cell_type": "code",
   "execution_count": 578,
   "metadata": {},
   "outputs": [],
   "source": [
    "def train_2(data):\n",
    "    \n",
    "    # We initialize a cross-validation object cv using the StratifiedKFold class from the scikit-learn library.\n",
    "    # n_splits=2: This specifies the number of folds to use in the cross-validation procedure. \n",
    "    # In this case, the data will be split into two folds (or subsets) for cross-validation.\n",
    "    cv = StratifiedKFold(random_state=0,n_splits=2,shuffle=True)\n",
    "    \n",
    "    X = data.dropna().iloc[:,0].values.reshape(-1,1)\n",
    "    y = data.dropna().iloc[:,1].values\n",
    "    print(\"X shape:\",X.shape,\"y shape\",y.shape)\n",
    "    yhat = np.zeros((X.shape[0])).reshape(-1,1)\n",
    "    \n",
    "    for train_idx, test_idx in cv.split(X,y):\n",
    "        X_train,y_train = X[train_idx,:],y[train_idx]\n",
    "        X_test,y_test = X[test_idx,:],y[test_idx]\n",
    "\n",
    "        clf = RandomForestClassifier(random_state=0)\n",
    "        clf.fit(X_train,y_train)\n",
    "        yhat[test_idx] = clf.predict(X_test).reshape(-1,1)\n",
    "    \n",
    "    #For the mean or std if we want\n",
    "    scores = cross_val_score(clf,X,y,cv=5)\n",
    "    \n",
    "    print(\"Accuracy of the model:\",np.round(metrics.accuracy_score(y,yhat),2),\n",
    "          \"\\nMean Accuracy:\",np.round(scores.mean(),2),\n",
    "          \"\\nF1 Score:\",np.round(metrics.f1_score(y,yhat),2),\n",
    "         \"\\nConfusion Matrix:\\n\",metrics.confusion_matrix(y,yhat),\n",
    "         \"\\n\",plot_confusion_matrix(clf, X_test, y_test))\n",
    "        "
   ]
  },
  {
   "cell_type": "code",
   "execution_count": 579,
   "metadata": {},
   "outputs": [
    {
     "name": "stdout",
     "output_type": "stream",
     "text": [
      "X shape: (136, 1) y shape (136,)\n",
      "Accuracy of the model: 0.69 \n",
      "Mean Accuracy: 0.68 \n",
      "F1 Score: 0.28 \n",
      "Confusion Matrix:\n",
      " [[86 14]\n",
      " [28  8]] \n",
      " <sklearn.metrics._plot.confusion_matrix.ConfusionMatrixDisplay object at 0x1108780a0>\n"
     ]
    },
    {
     "data": {
      "image/png": "[encoded data removed]",
      "text/plain": [
       "<Figure size 640x480 with 2 Axes>"
      ]
     },
     "metadata": {},
     "output_type": "display_data"
    }
   ],
   "source": [
    "train_2(data24)"
   ]
  },
  {
   "cell_type": "code",
   "execution_count": 580,
   "metadata": {},
   "outputs": [
    {
     "name": "stdout",
     "output_type": "stream",
     "text": [
      "X shape: (136, 1) y shape (136,)\n",
      "Accuracy of the model: 0.68 \n",
      "Mean Accuracy: 0.75 \n",
      "F1 Score: 0.27 \n",
      "Confusion Matrix:\n",
      " [[85 15]\n",
      " [28  8]] \n",
      " <sklearn.metrics._plot.confusion_matrix.ConfusionMatrixDisplay object at 0x11121e230>\n"
     ]
    },
    {
     "data": {
      "image/png": "[encoded data removed]",
      "text/plain": [
       "<Figure size 640x480 with 2 Axes>"
      ]
     },
     "metadata": {},
     "output_type": "display_data"
    }
   ],
   "source": [
    "train_2(data48)"
   ]
  },
  {
   "cell_type": "code",
   "execution_count": 581,
   "metadata": {},
   "outputs": [
    {
     "name": "stdout",
     "output_type": "stream",
     "text": [
      "X shape: (53, 1) y shape (53,)\n",
      "Accuracy of the model: 0.53 \n",
      "Mean Accuracy: 0.49 \n",
      "F1 Score: 0.39 \n",
      "Confusion Matrix:\n",
      " [[20 10]\n",
      " [15  8]] \n",
      " <sklearn.metrics._plot.confusion_matrix.ConfusionMatrixDisplay object at 0x11121fca0>\n"
     ]
    },
    {
     "data": {
      "image/png": "[encoded data removed]",
      "text/plain": [
       "<Figure size 640x480 with 2 Axes>"
      ]
     },
     "metadata": {},
     "output_type": "display_data"
    }
   ],
   "source": [
    "train(dataNaN48)"
   ]
  },
  {
   "cell_type": "markdown",
   "metadata": {},
   "source": [
    "Therefore, the table of the accuracy scores for each model now the following:<br>\n",
    "\n",
    "| Dataset              | Accuracy (%) |\n",
    "|----------------------|--------------|\n",
    "| 48 hours             |           68 |\n",
    "| 24 hours             |           69 |\n",
    "| 48 hours, NaN values |           53 |"
   ]
  },
  {
   "cell_type": "markdown",
   "metadata": {},
   "source": [
    "## Exercise 2:\n",
    "\n",
    "1. Compute:\n",
    "    - the number of different patients in the dataset \n",
    "    - the number of different hospital admissions in the dataset \n",
    "    - the number of different icu stays in the dataset \n",
    "2. Show that we can have a patient with more than one icustay.\n",
    "3. Revise the number of ICU admissions registered by the two different systems: Metavision and Carevue.\n",
    "4. Compute the number of NaN OASIS values for your different implementations."
   ]
  },
  {
   "cell_type": "markdown",
   "metadata": {},
   "source": [
    "### 2.1 - MIMIC-III Clinical Database Demo"
   ]
  },
  {
   "cell_type": "code",
   "execution_count": 582,
   "metadata": {},
   "outputs": [
    {
     "data": {
      "text/html": [
       "<div>\n",
       "<style scoped>\n",
       "    .dataframe tbody tr th:only-of-type {\n",
       "        vertical-align: middle;\n",
       "    }\n",
       "\n",
       "    .dataframe tbody tr th {\n",
       "        vertical-align: top;\n",
       "    }\n",
       "\n",
       "    .dataframe thead th {\n",
       "        text-align: right;\n",
       "    }\n",
       "</style>\n",
       "<table border=\"1\" class=\"dataframe\">\n",
       "  <thead>\n",
       "    <tr style=\"text-align: right;\">\n",
       "      <th></th>\n",
       "      <th>row_id</th>\n",
       "      <th>subject_id</th>\n",
       "      <th>gender</th>\n",
       "      <th>dob</th>\n",
       "      <th>dod</th>\n",
       "      <th>dod_hosp</th>\n",
       "      <th>dod_ssn</th>\n",
       "      <th>expire_flag</th>\n",
       "    </tr>\n",
       "  </thead>\n",
       "  <tbody>\n",
       "    <tr>\n",
       "      <th>0</th>\n",
       "      <td>9467</td>\n",
       "      <td>10006</td>\n",
       "      <td>F</td>\n",
       "      <td>2094-03-05 00:00:00</td>\n",
       "      <td>2165-08-12 00:00:00</td>\n",
       "      <td>2165-08-12 00:00:00</td>\n",
       "      <td>2165-08-12 00:00:00</td>\n",
       "      <td>1</td>\n",
       "    </tr>\n",
       "    <tr>\n",
       "      <th>1</th>\n",
       "      <td>9472</td>\n",
       "      <td>10011</td>\n",
       "      <td>F</td>\n",
       "      <td>2090-06-05 00:00:00</td>\n",
       "      <td>2126-08-28 00:00:00</td>\n",
       "      <td>2126-08-28 00:00:00</td>\n",
       "      <td>NaN</td>\n",
       "      <td>1</td>\n",
       "    </tr>\n",
       "    <tr>\n",
       "      <th>2</th>\n",
       "      <td>9474</td>\n",
       "      <td>10013</td>\n",
       "      <td>F</td>\n",
       "      <td>2038-09-03 00:00:00</td>\n",
       "      <td>2125-10-07 00:00:00</td>\n",
       "      <td>2125-10-07 00:00:00</td>\n",
       "      <td>2125-10-07 00:00:00</td>\n",
       "      <td>1</td>\n",
       "    </tr>\n",
       "    <tr>\n",
       "      <th>3</th>\n",
       "      <td>9478</td>\n",
       "      <td>10017</td>\n",
       "      <td>F</td>\n",
       "      <td>2075-09-21 00:00:00</td>\n",
       "      <td>2152-09-12 00:00:00</td>\n",
       "      <td>NaN</td>\n",
       "      <td>2152-09-12 00:00:00</td>\n",
       "      <td>1</td>\n",
       "    </tr>\n",
       "    <tr>\n",
       "      <th>4</th>\n",
       "      <td>9479</td>\n",
       "      <td>10019</td>\n",
       "      <td>M</td>\n",
       "      <td>2114-06-20 00:00:00</td>\n",
       "      <td>2163-05-15 00:00:00</td>\n",
       "      <td>2163-05-15 00:00:00</td>\n",
       "      <td>2163-05-15 00:00:00</td>\n",
       "      <td>1</td>\n",
       "    </tr>\n",
       "  </tbody>\n",
       "</table>\n",
       "</div>"
      ],
      "text/plain": [
       "   row_id  subject_id gender                  dob                  dod  \\\n",
       "0    9467       10006      F  2094-03-05 00:00:00  2165-08-12 00:00:00   \n",
       "1    9472       10011      F  2090-06-05 00:00:00  2126-08-28 00:00:00   \n",
       "2    9474       10013      F  2038-09-03 00:00:00  2125-10-07 00:00:00   \n",
       "3    9478       10017      F  2075-09-21 00:00:00  2152-09-12 00:00:00   \n",
       "4    9479       10019      M  2114-06-20 00:00:00  2163-05-15 00:00:00   \n",
       "\n",
       "              dod_hosp              dod_ssn  expire_flag  \n",
       "0  2165-08-12 00:00:00  2165-08-12 00:00:00            1  \n",
       "1  2126-08-28 00:00:00                  NaN            1  \n",
       "2  2125-10-07 00:00:00  2125-10-07 00:00:00            1  \n",
       "3                  NaN  2152-09-12 00:00:00            1  \n",
       "4  2163-05-15 00:00:00  2163-05-15 00:00:00            1  "
      ]
     },
     "execution_count": 582,
     "metadata": {},
     "output_type": "execute_result"
    }
   ],
   "source": [
    "patients.head()"
   ]
  },
  {
   "cell_type": "code",
   "execution_count": 583,
   "metadata": {},
   "outputs": [
    {
     "name": "stdout",
     "output_type": "stream",
     "text": [
      "Number of different patients: 100\n"
     ]
    }
   ],
   "source": [
    "print(\"Number of different patients:\",patients.subject_id.nunique())"
   ]
  },
  {
   "cell_type": "code",
   "execution_count": 584,
   "metadata": {},
   "outputs": [
    {
     "data": {
      "text/html": [
       "<div>\n",
       "<style scoped>\n",
       "    .dataframe tbody tr th:only-of-type {\n",
       "        vertical-align: middle;\n",
       "    }\n",
       "\n",
       "    .dataframe tbody tr th {\n",
       "        vertical-align: top;\n",
       "    }\n",
       "\n",
       "    .dataframe thead th {\n",
       "        text-align: right;\n",
       "    }\n",
       "</style>\n",
       "<table border=\"1\" class=\"dataframe\">\n",
       "  <thead>\n",
       "    <tr style=\"text-align: right;\">\n",
       "      <th></th>\n",
       "      <th>subject_id</th>\n",
       "      <th>hadm_id</th>\n",
       "      <th>admittime</th>\n",
       "      <th>dischtime</th>\n",
       "      <th>deathtime</th>\n",
       "      <th>admission_type</th>\n",
       "      <th>admission_location</th>\n",
       "      <th>discharge_location</th>\n",
       "      <th>insurance</th>\n",
       "      <th>language</th>\n",
       "      <th>religion</th>\n",
       "      <th>marital_status</th>\n",
       "      <th>ethnicity</th>\n",
       "      <th>edregtime</th>\n",
       "      <th>edouttime</th>\n",
       "      <th>diagnosis</th>\n",
       "      <th>hospital_expire_flag</th>\n",
       "      <th>has_chartevents_data</th>\n",
       "    </tr>\n",
       "  </thead>\n",
       "  <tbody>\n",
       "    <tr>\n",
       "      <th>0</th>\n",
       "      <td>10006</td>\n",
       "      <td>142345</td>\n",
       "      <td>2164-10-23 21:09:00</td>\n",
       "      <td>2164-11-01 17:15:00</td>\n",
       "      <td>NaN</td>\n",
       "      <td>EMERGENCY</td>\n",
       "      <td>EMERGENCY ROOM ADMIT</td>\n",
       "      <td>HOME HEALTH CARE</td>\n",
       "      <td>Medicare</td>\n",
       "      <td>NaN</td>\n",
       "      <td>CATHOLIC</td>\n",
       "      <td>SEPARATED</td>\n",
       "      <td>BLACK/AFRICAN AMERICAN</td>\n",
       "      <td>2164-10-23 16:43:00</td>\n",
       "      <td>2164-10-23 23:00:00</td>\n",
       "      <td>SEPSIS</td>\n",
       "      <td>0</td>\n",
       "      <td>1</td>\n",
       "    </tr>\n",
       "    <tr>\n",
       "      <th>1</th>\n",
       "      <td>10011</td>\n",
       "      <td>105331</td>\n",
       "      <td>2126-08-14 22:32:00</td>\n",
       "      <td>2126-08-28 18:59:00</td>\n",
       "      <td>2126-08-28 18:59:00</td>\n",
       "      <td>EMERGENCY</td>\n",
       "      <td>TRANSFER FROM HOSP/EXTRAM</td>\n",
       "      <td>DEAD/EXPIRED</td>\n",
       "      <td>Private</td>\n",
       "      <td>NaN</td>\n",
       "      <td>CATHOLIC</td>\n",
       "      <td>SINGLE</td>\n",
       "      <td>UNKNOWN/NOT SPECIFIED</td>\n",
       "      <td>NaN</td>\n",
       "      <td>NaN</td>\n",
       "      <td>HEPATITIS B</td>\n",
       "      <td>1</td>\n",
       "      <td>1</td>\n",
       "    </tr>\n",
       "    <tr>\n",
       "      <th>2</th>\n",
       "      <td>10013</td>\n",
       "      <td>165520</td>\n",
       "      <td>2125-10-04 23:36:00</td>\n",
       "      <td>2125-10-07 15:13:00</td>\n",
       "      <td>2125-10-07 15:13:00</td>\n",
       "      <td>EMERGENCY</td>\n",
       "      <td>TRANSFER FROM HOSP/EXTRAM</td>\n",
       "      <td>DEAD/EXPIRED</td>\n",
       "      <td>Medicare</td>\n",
       "      <td>NaN</td>\n",
       "      <td>CATHOLIC</td>\n",
       "      <td>NaN</td>\n",
       "      <td>UNKNOWN/NOT SPECIFIED</td>\n",
       "      <td>NaN</td>\n",
       "      <td>NaN</td>\n",
       "      <td>SEPSIS</td>\n",
       "      <td>1</td>\n",
       "      <td>1</td>\n",
       "    </tr>\n",
       "    <tr>\n",
       "      <th>3</th>\n",
       "      <td>10017</td>\n",
       "      <td>199207</td>\n",
       "      <td>2149-05-26 17:19:00</td>\n",
       "      <td>2149-06-03 18:42:00</td>\n",
       "      <td>NaN</td>\n",
       "      <td>EMERGENCY</td>\n",
       "      <td>EMERGENCY ROOM ADMIT</td>\n",
       "      <td>SNF</td>\n",
       "      <td>Medicare</td>\n",
       "      <td>NaN</td>\n",
       "      <td>CATHOLIC</td>\n",
       "      <td>DIVORCED</td>\n",
       "      <td>WHITE</td>\n",
       "      <td>2149-05-26 12:08:00</td>\n",
       "      <td>2149-05-26 19:45:00</td>\n",
       "      <td>HUMERAL FRACTURE</td>\n",
       "      <td>0</td>\n",
       "      <td>1</td>\n",
       "    </tr>\n",
       "    <tr>\n",
       "      <th>4</th>\n",
       "      <td>10019</td>\n",
       "      <td>177759</td>\n",
       "      <td>2163-05-14 20:43:00</td>\n",
       "      <td>2163-05-15 12:00:00</td>\n",
       "      <td>2163-05-15 12:00:00</td>\n",
       "      <td>EMERGENCY</td>\n",
       "      <td>TRANSFER FROM HOSP/EXTRAM</td>\n",
       "      <td>DEAD/EXPIRED</td>\n",
       "      <td>Medicare</td>\n",
       "      <td>NaN</td>\n",
       "      <td>CATHOLIC</td>\n",
       "      <td>DIVORCED</td>\n",
       "      <td>WHITE</td>\n",
       "      <td>NaN</td>\n",
       "      <td>NaN</td>\n",
       "      <td>ALCOHOLIC HEPATITIS</td>\n",
       "      <td>1</td>\n",
       "      <td>1</td>\n",
       "    </tr>\n",
       "  </tbody>\n",
       "</table>\n",
       "</div>"
      ],
      "text/plain": [
       "   subject_id  hadm_id            admittime            dischtime  \\\n",
       "0       10006   142345  2164-10-23 21:09:00  2164-11-01 17:15:00   \n",
       "1       10011   105331  2126-08-14 22:32:00  2126-08-28 18:59:00   \n",
       "2       10013   165520  2125-10-04 23:36:00  2125-10-07 15:13:00   \n",
       "3       10017   199207  2149-05-26 17:19:00  2149-06-03 18:42:00   \n",
       "4       10019   177759  2163-05-14 20:43:00  2163-05-15 12:00:00   \n",
       "\n",
       "             deathtime admission_type         admission_location  \\\n",
       "0                  NaN      EMERGENCY       EMERGENCY ROOM ADMIT   \n",
       "1  2126-08-28 18:59:00      EMERGENCY  TRANSFER FROM HOSP/EXTRAM   \n",
       "2  2125-10-07 15:13:00      EMERGENCY  TRANSFER FROM HOSP/EXTRAM   \n",
       "3                  NaN      EMERGENCY       EMERGENCY ROOM ADMIT   \n",
       "4  2163-05-15 12:00:00      EMERGENCY  TRANSFER FROM HOSP/EXTRAM   \n",
       "\n",
       "  discharge_location insurance language  religion marital_status  \\\n",
       "0   HOME HEALTH CARE  Medicare      NaN  CATHOLIC      SEPARATED   \n",
       "1       DEAD/EXPIRED   Private      NaN  CATHOLIC         SINGLE   \n",
       "2       DEAD/EXPIRED  Medicare      NaN  CATHOLIC            NaN   \n",
       "3                SNF  Medicare      NaN  CATHOLIC       DIVORCED   \n",
       "4       DEAD/EXPIRED  Medicare      NaN  CATHOLIC       DIVORCED   \n",
       "\n",
       "                ethnicity            edregtime            edouttime  \\\n",
       "0  BLACK/AFRICAN AMERICAN  2164-10-23 16:43:00  2164-10-23 23:00:00   \n",
       "1   UNKNOWN/NOT SPECIFIED                  NaN                  NaN   \n",
       "2   UNKNOWN/NOT SPECIFIED                  NaN                  NaN   \n",
       "3                   WHITE  2149-05-26 12:08:00  2149-05-26 19:45:00   \n",
       "4                   WHITE                  NaN                  NaN   \n",
       "\n",
       "             diagnosis  hospital_expire_flag  has_chartevents_data  \n",
       "0               SEPSIS                     0                     1  \n",
       "1          HEPATITIS B                     1                     1  \n",
       "2               SEPSIS                     1                     1  \n",
       "3     HUMERAL FRACTURE                     0                     1  \n",
       "4  ALCOHOLIC HEPATITIS                     1                     1  "
      ]
     },
     "execution_count": 584,
     "metadata": {},
     "output_type": "execute_result"
    }
   ],
   "source": [
    "admissions.head()"
   ]
  },
  {
   "cell_type": "code",
   "execution_count": 585,
   "metadata": {},
   "outputs": [
    {
     "name": "stdout",
     "output_type": "stream",
     "text": [
      "Number of different hospital admissions: 129\n"
     ]
    }
   ],
   "source": [
    "print('Number of different hospital admissions:', admissions.hadm_id.nunique())"
   ]
  },
  {
   "cell_type": "code",
   "execution_count": 586,
   "metadata": {},
   "outputs": [
    {
     "data": {
      "text/html": [
       "<div>\n",
       "<style scoped>\n",
       "    .dataframe tbody tr th:only-of-type {\n",
       "        vertical-align: middle;\n",
       "    }\n",
       "\n",
       "    .dataframe tbody tr th {\n",
       "        vertical-align: top;\n",
       "    }\n",
       "\n",
       "    .dataframe thead th {\n",
       "        text-align: right;\n",
       "    }\n",
       "</style>\n",
       "<table border=\"1\" class=\"dataframe\">\n",
       "  <thead>\n",
       "    <tr style=\"text-align: right;\">\n",
       "      <th></th>\n",
       "      <th>subject_id</th>\n",
       "      <th>hadm_id</th>\n",
       "      <th>icustay_id</th>\n",
       "      <th>dbsource</th>\n",
       "      <th>first_careunit</th>\n",
       "      <th>last_careunit</th>\n",
       "      <th>first_wardid</th>\n",
       "      <th>last_wardid</th>\n",
       "      <th>intime</th>\n",
       "      <th>outtime</th>\n",
       "      <th>los</th>\n",
       "    </tr>\n",
       "  </thead>\n",
       "  <tbody>\n",
       "    <tr>\n",
       "      <th>0</th>\n",
       "      <td>10006</td>\n",
       "      <td>142345</td>\n",
       "      <td>206504</td>\n",
       "      <td>carevue</td>\n",
       "      <td>MICU</td>\n",
       "      <td>MICU</td>\n",
       "      <td>52</td>\n",
       "      <td>52</td>\n",
       "      <td>2164-10-23 21:10:15</td>\n",
       "      <td>2164-10-25 12:21:07</td>\n",
       "      <td>1.6325</td>\n",
       "    </tr>\n",
       "    <tr>\n",
       "      <th>1</th>\n",
       "      <td>10011</td>\n",
       "      <td>105331</td>\n",
       "      <td>232110</td>\n",
       "      <td>carevue</td>\n",
       "      <td>MICU</td>\n",
       "      <td>MICU</td>\n",
       "      <td>15</td>\n",
       "      <td>15</td>\n",
       "      <td>2126-08-14 22:34:00</td>\n",
       "      <td>2126-08-28 18:59:00</td>\n",
       "      <td>13.8507</td>\n",
       "    </tr>\n",
       "    <tr>\n",
       "      <th>2</th>\n",
       "      <td>10013</td>\n",
       "      <td>165520</td>\n",
       "      <td>264446</td>\n",
       "      <td>carevue</td>\n",
       "      <td>MICU</td>\n",
       "      <td>MICU</td>\n",
       "      <td>15</td>\n",
       "      <td>15</td>\n",
       "      <td>2125-10-04 23:38:00</td>\n",
       "      <td>2125-10-07 15:13:52</td>\n",
       "      <td>2.6499</td>\n",
       "    </tr>\n",
       "    <tr>\n",
       "      <th>3</th>\n",
       "      <td>10017</td>\n",
       "      <td>199207</td>\n",
       "      <td>204881</td>\n",
       "      <td>carevue</td>\n",
       "      <td>CCU</td>\n",
       "      <td>CCU</td>\n",
       "      <td>7</td>\n",
       "      <td>7</td>\n",
       "      <td>2149-05-29 18:52:29</td>\n",
       "      <td>2149-05-31 22:19:17</td>\n",
       "      <td>2.1436</td>\n",
       "    </tr>\n",
       "    <tr>\n",
       "      <th>4</th>\n",
       "      <td>10019</td>\n",
       "      <td>177759</td>\n",
       "      <td>228977</td>\n",
       "      <td>carevue</td>\n",
       "      <td>MICU</td>\n",
       "      <td>MICU</td>\n",
       "      <td>15</td>\n",
       "      <td>15</td>\n",
       "      <td>2163-05-14 20:43:56</td>\n",
       "      <td>2163-05-16 03:47:04</td>\n",
       "      <td>1.2938</td>\n",
       "    </tr>\n",
       "    <tr>\n",
       "      <th>5</th>\n",
       "      <td>10026</td>\n",
       "      <td>103770</td>\n",
       "      <td>277021</td>\n",
       "      <td>carevue</td>\n",
       "      <td>SICU</td>\n",
       "      <td>SICU</td>\n",
       "      <td>33</td>\n",
       "      <td>33</td>\n",
       "      <td>2195-05-17 07:40:18</td>\n",
       "      <td>2195-05-19 17:24:25</td>\n",
       "      <td>2.4056</td>\n",
       "    </tr>\n",
       "    <tr>\n",
       "      <th>6</th>\n",
       "      <td>10027</td>\n",
       "      <td>199395</td>\n",
       "      <td>286020</td>\n",
       "      <td>carevue</td>\n",
       "      <td>CSRU</td>\n",
       "      <td>CSRU</td>\n",
       "      <td>12</td>\n",
       "      <td>12</td>\n",
       "      <td>2190-07-13 10:39:07</td>\n",
       "      <td>2190-07-20 16:55:45</td>\n",
       "      <td>7.2616</td>\n",
       "    </tr>\n",
       "    <tr>\n",
       "      <th>7</th>\n",
       "      <td>10029</td>\n",
       "      <td>132349</td>\n",
       "      <td>226055</td>\n",
       "      <td>carevue</td>\n",
       "      <td>SICU</td>\n",
       "      <td>SICU</td>\n",
       "      <td>33</td>\n",
       "      <td>33</td>\n",
       "      <td>2139-09-23 12:37:10</td>\n",
       "      <td>2139-09-25 18:55:04</td>\n",
       "      <td>2.2624</td>\n",
       "    </tr>\n",
       "    <tr>\n",
       "      <th>8</th>\n",
       "      <td>10032</td>\n",
       "      <td>140372</td>\n",
       "      <td>267090</td>\n",
       "      <td>carevue</td>\n",
       "      <td>MICU</td>\n",
       "      <td>MICU</td>\n",
       "      <td>52</td>\n",
       "      <td>52</td>\n",
       "      <td>2138-04-08 01:38:18</td>\n",
       "      <td>2138-04-11 18:43:34</td>\n",
       "      <td>3.7120</td>\n",
       "    </tr>\n",
       "    <tr>\n",
       "      <th>9</th>\n",
       "      <td>10033</td>\n",
       "      <td>157235</td>\n",
       "      <td>254543</td>\n",
       "      <td>carevue</td>\n",
       "      <td>SICU</td>\n",
       "      <td>SICU</td>\n",
       "      <td>33</td>\n",
       "      <td>33</td>\n",
       "      <td>2132-12-05 13:13:18</td>\n",
       "      <td>2132-12-06 14:53:22</td>\n",
       "      <td>1.0695</td>\n",
       "    </tr>\n",
       "  </tbody>\n",
       "</table>\n",
       "</div>"
      ],
      "text/plain": [
       "   subject_id  hadm_id  icustay_id dbsource first_careunit last_careunit  \\\n",
       "0       10006   142345      206504  carevue           MICU          MICU   \n",
       "1       10011   105331      232110  carevue           MICU          MICU   \n",
       "2       10013   165520      264446  carevue           MICU          MICU   \n",
       "3       10017   199207      204881  carevue            CCU           CCU   \n",
       "4       10019   177759      228977  carevue           MICU          MICU   \n",
       "5       10026   103770      277021  carevue           SICU          SICU   \n",
       "6       10027   199395      286020  carevue           CSRU          CSRU   \n",
       "7       10029   132349      226055  carevue           SICU          SICU   \n",
       "8       10032   140372      267090  carevue           MICU          MICU   \n",
       "9       10033   157235      254543  carevue           SICU          SICU   \n",
       "\n",
       "   first_wardid  last_wardid               intime              outtime  \\\n",
       "0            52           52  2164-10-23 21:10:15  2164-10-25 12:21:07   \n",
       "1            15           15  2126-08-14 22:34:00  2126-08-28 18:59:00   \n",
       "2            15           15  2125-10-04 23:38:00  2125-10-07 15:13:52   \n",
       "3             7            7  2149-05-29 18:52:29  2149-05-31 22:19:17   \n",
       "4            15           15  2163-05-14 20:43:56  2163-05-16 03:47:04   \n",
       "5            33           33  2195-05-17 07:40:18  2195-05-19 17:24:25   \n",
       "6            12           12  2190-07-13 10:39:07  2190-07-20 16:55:45   \n",
       "7            33           33  2139-09-23 12:37:10  2139-09-25 18:55:04   \n",
       "8            52           52  2138-04-08 01:38:18  2138-04-11 18:43:34   \n",
       "9            33           33  2132-12-05 13:13:18  2132-12-06 14:53:22   \n",
       "\n",
       "       los  \n",
       "0   1.6325  \n",
       "1  13.8507  \n",
       "2   2.6499  \n",
       "3   2.1436  \n",
       "4   1.2938  \n",
       "5   2.4056  \n",
       "6   7.2616  \n",
       "7   2.2624  \n",
       "8   3.7120  \n",
       "9   1.0695  "
      ]
     },
     "execution_count": 586,
     "metadata": {},
     "output_type": "execute_result"
    }
   ],
   "source": [
    "icustays.head(10)"
   ]
  },
  {
   "cell_type": "code",
   "execution_count": 587,
   "metadata": {},
   "outputs": [
    {
     "name": "stdout",
     "output_type": "stream",
     "text": [
      "Number of different ICU stays: 136\n"
     ]
    }
   ],
   "source": [
    "print('Number of different ICU stays:', icustays.icustay_id.nunique())"
   ]
  },
  {
   "cell_type": "markdown",
   "metadata": {},
   "source": [
    "### 2.2 - Show that we can have a patient with more than one icustay."
   ]
  },
  {
   "cell_type": "code",
   "execution_count": 588,
   "metadata": {},
   "outputs": [
    {
     "name": "stdout",
     "output_type": "stream",
     "text": [
      "Number of unique rows of patient ID 10088: 3\n"
     ]
    }
   ],
   "source": [
    "print(\"Number of unique rows of patient ID 10088:\",len(icustays[icustays[\"subject_id\"]==10088]))"
   ]
  },
  {
   "cell_type": "markdown",
   "metadata": {},
   "source": [
    "### 2.3 - Revise the number of ICU admissions registered by the two different systems: Metavision and Carevue."
   ]
  },
  {
   "cell_type": "code",
   "execution_count": 589,
   "metadata": {},
   "outputs": [
    {
     "name": "stdout",
     "output_type": "stream",
     "text": [
      "Number of ICU admissions registered by the two different systems: metavision    77\n",
      "carevue       59\n",
      "Name: dbsource, dtype: int64\n"
     ]
    }
   ],
   "source": [
    "print(\"Number of ICU admissions registered by the two different systems:\",icustays.dbsource.value_counts())"
   ]
  },
  {
   "cell_type": "markdown",
   "metadata": {},
   "source": [
    "### 2.4 - Compute the number of NaN OASIS values for your different implementations."
   ]
  },
  {
   "cell_type": "markdown",
   "metadata": {},
   "source": [
    "As we have seen above, we present again the Number of NaN OASIS values for each dataset that we have created:"
   ]
  },
  {
   "cell_type": "code",
   "execution_count": 590,
   "metadata": {},
   "outputs": [
    {
     "name": "stdout",
     "output_type": "stream",
     "text": [
      "data24 number of NaN's: 0 \n",
      "dataNaN48 number of NaN's: 83 \n",
      "data48 number of NaN's: 0\n"
     ]
    }
   ],
   "source": [
    "print(\"data24 number of NaN's:\",data24[\"oasis\"].isna().sum(),\n",
    "     \"\\ndataNaN48 number of NaN's:\",dataNaN48[\"oasis\"].isna().sum(),\n",
    "     \"\\ndata48 number of NaN's:\",data48[\"oasis\"].isna().sum())"
   ]
  },
  {
   "cell_type": "markdown",
   "metadata": {},
   "source": [
    "## Exercise 3:\n",
    "\n",
    "Try to improve the prediction of the length of stay (LOS) of the ICU patients using other strategies, as for instance, using all available variables for the classifier in order to learn a multidimensional decision boundary."
   ]
  },
  {
   "cell_type": "markdown",
   "metadata": {},
   "source": [
    "In order to achieve an improvement to the prediction we are going to try the following different strategies:\n",
    "- We will use more available variables for each patient which will be provided as input to the classifier.\n",
    "- We will create new features from the given features.\n",
    "- We will try different classifiers, such as:\n",
    "<center>Random Forest</center>\n",
    "<center>SVM</center>\n",
    "<center>Logistic Regression</center>\n",
    "<center>Gradient Boosting</center>\n",
    "<br>\n",
    "- Eventually, we will try instead of using the single Oasis value for the classification, to use the 10 variables used for the computation of Oasis."
   ]
  },
  {
   "cell_type": "markdown",
   "metadata": {},
   "source": [
    "Specifically, the getData function currently retrieves several variables for each patient including temperature, GCS, heart rate, respiratory rate, urine output, mean arterial pressure, ventilation status, and OASIS score. To use all of the variables in the classifier, the function would need to return a dataframe containing all of the variables for each patient. Thats why we created the function getData_All."
   ]
  },
  {
   "cell_type": "markdown",
   "metadata": {},
   "source": [
    "The train function would then need to be modified to use this dataframe as input to the classifier, rather than just the OASIS score. The classifier would then learn a decision boundary that takes into account all of these variables simultaneously, rather than just one variable at a time."
   ]
  },
  {
   "cell_type": "markdown",
   "metadata": {},
   "source": [
    "Using all available variables in this way can potentially improve the accuracy of the LOS prediction, as it allows the classifier to learn more complex decision boundaries that take into account multiple factors that may influence the LOS of ICU patients."
   ]
  },
  {
   "cell_type": "code",
   "execution_count": 591,
   "metadata": {},
   "outputs": [
    {
     "data": {
      "text/html": [
       "<div>\n",
       "<style scoped>\n",
       "    .dataframe tbody tr th:only-of-type {\n",
       "        vertical-align: middle;\n",
       "    }\n",
       "\n",
       "    .dataframe tbody tr th {\n",
       "        vertical-align: top;\n",
       "    }\n",
       "\n",
       "    .dataframe thead th {\n",
       "        text-align: right;\n",
       "    }\n",
       "</style>\n",
       "<table border=\"1\" class=\"dataframe\">\n",
       "  <thead>\n",
       "    <tr style=\"text-align: right;\">\n",
       "      <th></th>\n",
       "      <th>row_id</th>\n",
       "      <th>subject_id</th>\n",
       "      <th>gender</th>\n",
       "      <th>dob</th>\n",
       "      <th>dod</th>\n",
       "      <th>dod_hosp</th>\n",
       "      <th>dod_ssn</th>\n",
       "      <th>expire_flag</th>\n",
       "      <th>hadm_id</th>\n",
       "      <th>admittime</th>\n",
       "      <th>...</th>\n",
       "      <th>insurance</th>\n",
       "      <th>language</th>\n",
       "      <th>religion</th>\n",
       "      <th>marital_status</th>\n",
       "      <th>ethnicity</th>\n",
       "      <th>edregtime</th>\n",
       "      <th>edouttime</th>\n",
       "      <th>diagnosis</th>\n",
       "      <th>hospital_expire_flag</th>\n",
       "      <th>has_chartevents_data</th>\n",
       "    </tr>\n",
       "  </thead>\n",
       "  <tbody>\n",
       "    <tr>\n",
       "      <th>0</th>\n",
       "      <td>9467</td>\n",
       "      <td>10006</td>\n",
       "      <td>F</td>\n",
       "      <td>2094-03-05 00:00:00</td>\n",
       "      <td>2165-08-12 00:00:00</td>\n",
       "      <td>2165-08-12 00:00:00</td>\n",
       "      <td>2165-08-12 00:00:00</td>\n",
       "      <td>1</td>\n",
       "      <td>142345</td>\n",
       "      <td>2164-10-23 21:09:00</td>\n",
       "      <td>...</td>\n",
       "      <td>Medicare</td>\n",
       "      <td>NaN</td>\n",
       "      <td>CATHOLIC</td>\n",
       "      <td>SEPARATED</td>\n",
       "      <td>BLACK/AFRICAN AMERICAN</td>\n",
       "      <td>2164-10-23 16:43:00</td>\n",
       "      <td>2164-10-23 23:00:00</td>\n",
       "      <td>SEPSIS</td>\n",
       "      <td>0</td>\n",
       "      <td>1</td>\n",
       "    </tr>\n",
       "    <tr>\n",
       "      <th>1</th>\n",
       "      <td>9472</td>\n",
       "      <td>10011</td>\n",
       "      <td>F</td>\n",
       "      <td>2090-06-05 00:00:00</td>\n",
       "      <td>2126-08-28 00:00:00</td>\n",
       "      <td>2126-08-28 00:00:00</td>\n",
       "      <td>NaN</td>\n",
       "      <td>1</td>\n",
       "      <td>105331</td>\n",
       "      <td>2126-08-14 22:32:00</td>\n",
       "      <td>...</td>\n",
       "      <td>Private</td>\n",
       "      <td>NaN</td>\n",
       "      <td>CATHOLIC</td>\n",
       "      <td>SINGLE</td>\n",
       "      <td>UNKNOWN/NOT SPECIFIED</td>\n",
       "      <td>NaN</td>\n",
       "      <td>NaN</td>\n",
       "      <td>HEPATITIS B</td>\n",
       "      <td>1</td>\n",
       "      <td>1</td>\n",
       "    </tr>\n",
       "    <tr>\n",
       "      <th>2</th>\n",
       "      <td>9474</td>\n",
       "      <td>10013</td>\n",
       "      <td>F</td>\n",
       "      <td>2038-09-03 00:00:00</td>\n",
       "      <td>2125-10-07 00:00:00</td>\n",
       "      <td>2125-10-07 00:00:00</td>\n",
       "      <td>2125-10-07 00:00:00</td>\n",
       "      <td>1</td>\n",
       "      <td>165520</td>\n",
       "      <td>2125-10-04 23:36:00</td>\n",
       "      <td>...</td>\n",
       "      <td>Medicare</td>\n",
       "      <td>NaN</td>\n",
       "      <td>CATHOLIC</td>\n",
       "      <td>NaN</td>\n",
       "      <td>UNKNOWN/NOT SPECIFIED</td>\n",
       "      <td>NaN</td>\n",
       "      <td>NaN</td>\n",
       "      <td>SEPSIS</td>\n",
       "      <td>1</td>\n",
       "      <td>1</td>\n",
       "    </tr>\n",
       "    <tr>\n",
       "      <th>3</th>\n",
       "      <td>9478</td>\n",
       "      <td>10017</td>\n",
       "      <td>F</td>\n",
       "      <td>2075-09-21 00:00:00</td>\n",
       "      <td>2152-09-12 00:00:00</td>\n",
       "      <td>NaN</td>\n",
       "      <td>2152-09-12 00:00:00</td>\n",
       "      <td>1</td>\n",
       "      <td>199207</td>\n",
       "      <td>2149-05-26 17:19:00</td>\n",
       "      <td>...</td>\n",
       "      <td>Medicare</td>\n",
       "      <td>NaN</td>\n",
       "      <td>CATHOLIC</td>\n",
       "      <td>DIVORCED</td>\n",
       "      <td>WHITE</td>\n",
       "      <td>2149-05-26 12:08:00</td>\n",
       "      <td>2149-05-26 19:45:00</td>\n",
       "      <td>HUMERAL FRACTURE</td>\n",
       "      <td>0</td>\n",
       "      <td>1</td>\n",
       "    </tr>\n",
       "    <tr>\n",
       "      <th>4</th>\n",
       "      <td>9479</td>\n",
       "      <td>10019</td>\n",
       "      <td>M</td>\n",
       "      <td>2114-06-20 00:00:00</td>\n",
       "      <td>2163-05-15 00:00:00</td>\n",
       "      <td>2163-05-15 00:00:00</td>\n",
       "      <td>2163-05-15 00:00:00</td>\n",
       "      <td>1</td>\n",
       "      <td>177759</td>\n",
       "      <td>2163-05-14 20:43:00</td>\n",
       "      <td>...</td>\n",
       "      <td>Medicare</td>\n",
       "      <td>NaN</td>\n",
       "      <td>CATHOLIC</td>\n",
       "      <td>DIVORCED</td>\n",
       "      <td>WHITE</td>\n",
       "      <td>NaN</td>\n",
       "      <td>NaN</td>\n",
       "      <td>ALCOHOLIC HEPATITIS</td>\n",
       "      <td>1</td>\n",
       "      <td>1</td>\n",
       "    </tr>\n",
       "  </tbody>\n",
       "</table>\n",
       "<p>5 rows × 25 columns</p>\n",
       "</div>"
      ],
      "text/plain": [
       "   row_id  subject_id gender                  dob                  dod  \\\n",
       "0    9467       10006      F  2094-03-05 00:00:00  2165-08-12 00:00:00   \n",
       "1    9472       10011      F  2090-06-05 00:00:00  2126-08-28 00:00:00   \n",
       "2    9474       10013      F  2038-09-03 00:00:00  2125-10-07 00:00:00   \n",
       "3    9478       10017      F  2075-09-21 00:00:00  2152-09-12 00:00:00   \n",
       "4    9479       10019      M  2114-06-20 00:00:00  2163-05-15 00:00:00   \n",
       "\n",
       "              dod_hosp              dod_ssn  expire_flag  hadm_id  \\\n",
       "0  2165-08-12 00:00:00  2165-08-12 00:00:00            1   142345   \n",
       "1  2126-08-28 00:00:00                  NaN            1   105331   \n",
       "2  2125-10-07 00:00:00  2125-10-07 00:00:00            1   165520   \n",
       "3                  NaN  2152-09-12 00:00:00            1   199207   \n",
       "4  2163-05-15 00:00:00  2163-05-15 00:00:00            1   177759   \n",
       "\n",
       "             admittime  ... insurance language  religion marital_status  \\\n",
       "0  2164-10-23 21:09:00  ...  Medicare      NaN  CATHOLIC      SEPARATED   \n",
       "1  2126-08-14 22:32:00  ...   Private      NaN  CATHOLIC         SINGLE   \n",
       "2  2125-10-04 23:36:00  ...  Medicare      NaN  CATHOLIC            NaN   \n",
       "3  2149-05-26 17:19:00  ...  Medicare      NaN  CATHOLIC       DIVORCED   \n",
       "4  2163-05-14 20:43:00  ...  Medicare      NaN  CATHOLIC       DIVORCED   \n",
       "\n",
       "                ethnicity            edregtime            edouttime  \\\n",
       "0  BLACK/AFRICAN AMERICAN  2164-10-23 16:43:00  2164-10-23 23:00:00   \n",
       "1   UNKNOWN/NOT SPECIFIED                  NaN                  NaN   \n",
       "2   UNKNOWN/NOT SPECIFIED                  NaN                  NaN   \n",
       "3                   WHITE  2149-05-26 12:08:00  2149-05-26 19:45:00   \n",
       "4                   WHITE                  NaN                  NaN   \n",
       "\n",
       "             diagnosis hospital_expire_flag has_chartevents_data  \n",
       "0               SEPSIS                    0                    1  \n",
       "1          HEPATITIS B                    1                    1  \n",
       "2               SEPSIS                    1                    1  \n",
       "3     HUMERAL FRACTURE                    0                    1  \n",
       "4  ALCOHOLIC HEPATITIS                    1                    1  \n",
       "\n",
       "[5 rows x 25 columns]"
      ]
     },
     "execution_count": 591,
     "metadata": {},
     "output_type": "execute_result"
    }
   ],
   "source": [
    "# We are going to use the admissionsPatients df created earlier, that has all the features of the merge\n",
    "admissionsPatients.head()"
   ]
  },
  {
   "cell_type": "markdown",
   "metadata": {},
   "source": [
    "### Factorization"
   ]
  },
  {
   "cell_type": "markdown",
   "metadata": {},
   "source": [
    "We should underline the fact that in this section we Factorised some of our dataFrame's columns. To be more specific, for various categorical columns we got numbers from strings in order to use those columns for training our model."
   ]
  },
  {
   "cell_type": "code",
   "execution_count": 592,
   "metadata": {},
   "outputs": [
    {
     "data": {
      "text/plain": [
       "array(['CATHOLIC', 'OTHER', 'PROTESTANT QUAKER', 'NOT SPECIFIED',\n",
       "       'JEWISH', 'UNOBTAINABLE', 'CHRISTIAN SCIENTIST', nan, 'BUDDHIST',\n",
       "       'ROMANIAN EAST. ORTH', 'MUSLIM'], dtype=object)"
      ]
     },
     "execution_count": 592,
     "metadata": {},
     "output_type": "execute_result"
    }
   ],
   "source": [
    "admissionsPatients['religion'].unique()"
   ]
  },
  {
   "cell_type": "code",
   "execution_count": 593,
   "metadata": {},
   "outputs": [],
   "source": [
    "admissionsPatients['religion'] = pd.factorize(admissionsPatients['religion'])[0]"
   ]
  },
  {
   "cell_type": "code",
   "execution_count": 594,
   "metadata": {},
   "outputs": [
    {
     "data": {
      "text/plain": [
       "0    0\n",
       "1    0\n",
       "2    0\n",
       "3    0\n",
       "4    0\n",
       "Name: religion, dtype: int64"
      ]
     },
     "execution_count": 594,
     "metadata": {},
     "output_type": "execute_result"
    }
   ],
   "source": [
    "admissionsPatients['religion'].head()"
   ]
  },
  {
   "cell_type": "code",
   "execution_count": 595,
   "metadata": {},
   "outputs": [
    {
     "data": {
      "text/plain": [
       "array(['SEPARATED', 'SINGLE', nan, 'DIVORCED', 'MARRIED', 'WIDOWED',\n",
       "       'UNKNOWN (DEFAULT)'], dtype=object)"
      ]
     },
     "execution_count": 595,
     "metadata": {},
     "output_type": "execute_result"
    }
   ],
   "source": [
    "admissionsPatients['marital_status'].unique()"
   ]
  },
  {
   "cell_type": "code",
   "execution_count": 596,
   "metadata": {},
   "outputs": [],
   "source": [
    "admissionsPatients['marital_status'] = pd.factorize(admissionsPatients['marital_status'])[0]"
   ]
  },
  {
   "cell_type": "code",
   "execution_count": 597,
   "metadata": {},
   "outputs": [
    {
     "data": {
      "text/plain": [
       "0    0\n",
       "1    1\n",
       "2   -1\n",
       "3    2\n",
       "4    2\n",
       "Name: marital_status, dtype: int64"
      ]
     },
     "execution_count": 597,
     "metadata": {},
     "output_type": "execute_result"
    }
   ],
   "source": [
    "admissionsPatients['marital_status'].head()"
   ]
  },
  {
   "cell_type": "code",
   "execution_count": 598,
   "metadata": {},
   "outputs": [
    {
     "data": {
      "text/plain": [
       "array(['Medicare', 'Private', 'Medicaid', 'Government'], dtype=object)"
      ]
     },
     "execution_count": 598,
     "metadata": {},
     "output_type": "execute_result"
    }
   ],
   "source": [
    "admissionsPatients['insurance'].unique()"
   ]
  },
  {
   "cell_type": "code",
   "execution_count": 599,
   "metadata": {},
   "outputs": [],
   "source": [
    "admissionsPatients['insurance'] = pd.factorize(admissionsPatients['insurance'])[0]"
   ]
  },
  {
   "cell_type": "code",
   "execution_count": 600,
   "metadata": {},
   "outputs": [
    {
     "data": {
      "text/plain": [
       "0    0\n",
       "1    1\n",
       "2    0\n",
       "3    0\n",
       "4    0\n",
       "Name: insurance, dtype: int64"
      ]
     },
     "execution_count": 600,
     "metadata": {},
     "output_type": "execute_result"
    }
   ],
   "source": [
    "admissionsPatients['insurance'].head()"
   ]
  },
  {
   "cell_type": "code",
   "execution_count": 601,
   "metadata": {},
   "outputs": [
    {
     "data": {
      "text/plain": [
       "array(['BLACK/AFRICAN AMERICAN', 'UNKNOWN/NOT SPECIFIED', 'WHITE',\n",
       "       'OTHER', 'ASIAN', 'HISPANIC OR LATINO',\n",
       "       'HISPANIC/LATINO - PUERTO RICAN', 'UNABLE TO OBTAIN',\n",
       "       'AMERICAN INDIAN/ALASKA NATIVE FEDERALLY RECOGNIZED TRIBE'],\n",
       "      dtype=object)"
      ]
     },
     "execution_count": 601,
     "metadata": {},
     "output_type": "execute_result"
    }
   ],
   "source": [
    "admissionsPatients['ethnicity'].unique()"
   ]
  },
  {
   "cell_type": "code",
   "execution_count": 602,
   "metadata": {},
   "outputs": [],
   "source": [
    "admissionsPatients['ethnicity'] = pd.factorize(admissionsPatients['ethnicity'])[0]"
   ]
  },
  {
   "cell_type": "code",
   "execution_count": 603,
   "metadata": {},
   "outputs": [
    {
     "data": {
      "text/plain": [
       "0    0\n",
       "1    1\n",
       "2    1\n",
       "3    2\n",
       "4    2\n",
       "Name: ethnicity, dtype: int64"
      ]
     },
     "execution_count": 603,
     "metadata": {},
     "output_type": "execute_result"
    }
   ],
   "source": [
    "admissionsPatients['ethnicity'].head()"
   ]
  },
  {
   "cell_type": "code",
   "execution_count": 604,
   "metadata": {},
   "outputs": [],
   "source": [
    "admissionsExercise3 = pd.merge(admissionsPatients, icustays, on=['subject_id', 'hadm_id'],how=\"outer\")"
   ]
  },
  {
   "cell_type": "code",
   "execution_count": 605,
   "metadata": {},
   "outputs": [
    {
     "data": {
      "text/html": [
       "<div>\n",
       "<style scoped>\n",
       "    .dataframe tbody tr th:only-of-type {\n",
       "        vertical-align: middle;\n",
       "    }\n",
       "\n",
       "    .dataframe tbody tr th {\n",
       "        vertical-align: top;\n",
       "    }\n",
       "\n",
       "    .dataframe thead th {\n",
       "        text-align: right;\n",
       "    }\n",
       "</style>\n",
       "<table border=\"1\" class=\"dataframe\">\n",
       "  <thead>\n",
       "    <tr style=\"text-align: right;\">\n",
       "      <th></th>\n",
       "      <th>row_id</th>\n",
       "      <th>subject_id</th>\n",
       "      <th>gender</th>\n",
       "      <th>dob</th>\n",
       "      <th>dod</th>\n",
       "      <th>dod_hosp</th>\n",
       "      <th>dod_ssn</th>\n",
       "      <th>expire_flag</th>\n",
       "      <th>hadm_id</th>\n",
       "      <th>admittime</th>\n",
       "      <th>...</th>\n",
       "      <th>has_chartevents_data</th>\n",
       "      <th>icustay_id</th>\n",
       "      <th>dbsource</th>\n",
       "      <th>first_careunit</th>\n",
       "      <th>last_careunit</th>\n",
       "      <th>first_wardid</th>\n",
       "      <th>last_wardid</th>\n",
       "      <th>intime</th>\n",
       "      <th>outtime</th>\n",
       "      <th>los</th>\n",
       "    </tr>\n",
       "  </thead>\n",
       "  <tbody>\n",
       "    <tr>\n",
       "      <th>0</th>\n",
       "      <td>9467</td>\n",
       "      <td>10006</td>\n",
       "      <td>F</td>\n",
       "      <td>2094-03-05 00:00:00</td>\n",
       "      <td>2165-08-12 00:00:00</td>\n",
       "      <td>2165-08-12 00:00:00</td>\n",
       "      <td>2165-08-12 00:00:00</td>\n",
       "      <td>1</td>\n",
       "      <td>142345</td>\n",
       "      <td>2164-10-23 21:09:00</td>\n",
       "      <td>...</td>\n",
       "      <td>1</td>\n",
       "      <td>206504</td>\n",
       "      <td>carevue</td>\n",
       "      <td>MICU</td>\n",
       "      <td>MICU</td>\n",
       "      <td>52</td>\n",
       "      <td>52</td>\n",
       "      <td>2164-10-23 21:10:15</td>\n",
       "      <td>2164-10-25 12:21:07</td>\n",
       "      <td>1.6325</td>\n",
       "    </tr>\n",
       "    <tr>\n",
       "      <th>1</th>\n",
       "      <td>9472</td>\n",
       "      <td>10011</td>\n",
       "      <td>F</td>\n",
       "      <td>2090-06-05 00:00:00</td>\n",
       "      <td>2126-08-28 00:00:00</td>\n",
       "      <td>2126-08-28 00:00:00</td>\n",
       "      <td>NaN</td>\n",
       "      <td>1</td>\n",
       "      <td>105331</td>\n",
       "      <td>2126-08-14 22:32:00</td>\n",
       "      <td>...</td>\n",
       "      <td>1</td>\n",
       "      <td>232110</td>\n",
       "      <td>carevue</td>\n",
       "      <td>MICU</td>\n",
       "      <td>MICU</td>\n",
       "      <td>15</td>\n",
       "      <td>15</td>\n",
       "      <td>2126-08-14 22:34:00</td>\n",
       "      <td>2126-08-28 18:59:00</td>\n",
       "      <td>13.8507</td>\n",
       "    </tr>\n",
       "    <tr>\n",
       "      <th>2</th>\n",
       "      <td>9474</td>\n",
       "      <td>10013</td>\n",
       "      <td>F</td>\n",
       "      <td>2038-09-03 00:00:00</td>\n",
       "      <td>2125-10-07 00:00:00</td>\n",
       "      <td>2125-10-07 00:00:00</td>\n",
       "      <td>2125-10-07 00:00:00</td>\n",
       "      <td>1</td>\n",
       "      <td>165520</td>\n",
       "      <td>2125-10-04 23:36:00</td>\n",
       "      <td>...</td>\n",
       "      <td>1</td>\n",
       "      <td>264446</td>\n",
       "      <td>carevue</td>\n",
       "      <td>MICU</td>\n",
       "      <td>MICU</td>\n",
       "      <td>15</td>\n",
       "      <td>15</td>\n",
       "      <td>2125-10-04 23:38:00</td>\n",
       "      <td>2125-10-07 15:13:52</td>\n",
       "      <td>2.6499</td>\n",
       "    </tr>\n",
       "    <tr>\n",
       "      <th>3</th>\n",
       "      <td>9478</td>\n",
       "      <td>10017</td>\n",
       "      <td>F</td>\n",
       "      <td>2075-09-21 00:00:00</td>\n",
       "      <td>2152-09-12 00:00:00</td>\n",
       "      <td>NaN</td>\n",
       "      <td>2152-09-12 00:00:00</td>\n",
       "      <td>1</td>\n",
       "      <td>199207</td>\n",
       "      <td>2149-05-26 17:19:00</td>\n",
       "      <td>...</td>\n",
       "      <td>1</td>\n",
       "      <td>204881</td>\n",
       "      <td>carevue</td>\n",
       "      <td>CCU</td>\n",
       "      <td>CCU</td>\n",
       "      <td>7</td>\n",
       "      <td>7</td>\n",
       "      <td>2149-05-29 18:52:29</td>\n",
       "      <td>2149-05-31 22:19:17</td>\n",
       "      <td>2.1436</td>\n",
       "    </tr>\n",
       "    <tr>\n",
       "      <th>4</th>\n",
       "      <td>9479</td>\n",
       "      <td>10019</td>\n",
       "      <td>M</td>\n",
       "      <td>2114-06-20 00:00:00</td>\n",
       "      <td>2163-05-15 00:00:00</td>\n",
       "      <td>2163-05-15 00:00:00</td>\n",
       "      <td>2163-05-15 00:00:00</td>\n",
       "      <td>1</td>\n",
       "      <td>177759</td>\n",
       "      <td>2163-05-14 20:43:00</td>\n",
       "      <td>...</td>\n",
       "      <td>1</td>\n",
       "      <td>228977</td>\n",
       "      <td>carevue</td>\n",
       "      <td>MICU</td>\n",
       "      <td>MICU</td>\n",
       "      <td>15</td>\n",
       "      <td>15</td>\n",
       "      <td>2163-05-14 20:43:56</td>\n",
       "      <td>2163-05-16 03:47:04</td>\n",
       "      <td>1.2938</td>\n",
       "    </tr>\n",
       "  </tbody>\n",
       "</table>\n",
       "<p>5 rows × 34 columns</p>\n",
       "</div>"
      ],
      "text/plain": [
       "   row_id  subject_id gender                  dob                  dod  \\\n",
       "0    9467       10006      F  2094-03-05 00:00:00  2165-08-12 00:00:00   \n",
       "1    9472       10011      F  2090-06-05 00:00:00  2126-08-28 00:00:00   \n",
       "2    9474       10013      F  2038-09-03 00:00:00  2125-10-07 00:00:00   \n",
       "3    9478       10017      F  2075-09-21 00:00:00  2152-09-12 00:00:00   \n",
       "4    9479       10019      M  2114-06-20 00:00:00  2163-05-15 00:00:00   \n",
       "\n",
       "              dod_hosp              dod_ssn  expire_flag  hadm_id  \\\n",
       "0  2165-08-12 00:00:00  2165-08-12 00:00:00            1   142345   \n",
       "1  2126-08-28 00:00:00                  NaN            1   105331   \n",
       "2  2125-10-07 00:00:00  2125-10-07 00:00:00            1   165520   \n",
       "3                  NaN  2152-09-12 00:00:00            1   199207   \n",
       "4  2163-05-15 00:00:00  2163-05-15 00:00:00            1   177759   \n",
       "\n",
       "             admittime  ... has_chartevents_data icustay_id dbsource  \\\n",
       "0  2164-10-23 21:09:00  ...                    1     206504  carevue   \n",
       "1  2126-08-14 22:32:00  ...                    1     232110  carevue   \n",
       "2  2125-10-04 23:36:00  ...                    1     264446  carevue   \n",
       "3  2149-05-26 17:19:00  ...                    1     204881  carevue   \n",
       "4  2163-05-14 20:43:00  ...                    1     228977  carevue   \n",
       "\n",
       "  first_careunit last_careunit  first_wardid last_wardid               intime  \\\n",
       "0           MICU          MICU            52          52  2164-10-23 21:10:15   \n",
       "1           MICU          MICU            15          15  2126-08-14 22:34:00   \n",
       "2           MICU          MICU            15          15  2125-10-04 23:38:00   \n",
       "3            CCU           CCU             7           7  2149-05-29 18:52:29   \n",
       "4           MICU          MICU            15          15  2163-05-14 20:43:56   \n",
       "\n",
       "               outtime      los  \n",
       "0  2164-10-25 12:21:07   1.6325  \n",
       "1  2126-08-28 18:59:00  13.8507  \n",
       "2  2125-10-07 15:13:52   2.6499  \n",
       "3  2149-05-31 22:19:17   2.1436  \n",
       "4  2163-05-16 03:47:04   1.2938  \n",
       "\n",
       "[5 rows x 34 columns]"
      ]
     },
     "execution_count": 605,
     "metadata": {},
     "output_type": "execute_result"
    }
   ],
   "source": [
    "admissionsExercise3.head()"
   ]
  },
  {
   "cell_type": "markdown",
   "metadata": {},
   "source": [
    "### Creating new features from the existed columns"
   ]
  },
  {
   "cell_type": "markdown",
   "metadata": {},
   "source": [
    "Here we created two extra columns from our data:\n",
    "- time_diff: Describes the time that the patient stayed to the hospital.\n",
    "- age_category: Child, Adult or Elderly depending on the age information.\n",
    "- hours: short or long, depended on the time that each patiend stayed to the hospital."
   ]
  },
  {
   "cell_type": "code",
   "execution_count": 606,
   "metadata": {},
   "outputs": [],
   "source": [
    "# Time_Diff\n",
    "admissionsExercise3['admittime'] = pd.to_datetime(admissionsExercise3['admittime'])\n",
    "admissionsExercise3['intime'] = pd.to_datetime(admissionsExercise3['intime'])\n",
    "\n",
    "# Calculate time difference in hours\n",
    "admissionsExercise3['time_diff'] = (admissionsExercise3['intime'] - admissionsExercise3['admittime']).dt.total_seconds() / 3600"
   ]
  },
  {
   "cell_type": "code",
   "execution_count": 607,
   "metadata": {},
   "outputs": [
    {
     "data": {
      "text/plain": [
       "0     0.020833\n",
       "1     0.033333\n",
       "2     0.033333\n",
       "3    73.558056\n",
       "4     0.015556\n",
       "Name: time_diff, dtype: float64"
      ]
     },
     "execution_count": 607,
     "metadata": {},
     "output_type": "execute_result"
    }
   ],
   "source": [
    "admissionsExercise3['time_diff'].head()"
   ]
  },
  {
   "cell_type": "code",
   "execution_count": 608,
   "metadata": {},
   "outputs": [],
   "source": [
    "# Age\n",
    "admissionsExercise3[\"age\"] = intimeYear-dobYear"
   ]
  },
  {
   "cell_type": "code",
   "execution_count": 609,
   "metadata": {},
   "outputs": [],
   "source": [
    "admissionsExercise3.loc[admissionsExercise3[\"age\"]==300,\"age\"]=90"
   ]
  },
  {
   "cell_type": "code",
   "execution_count": 610,
   "metadata": {},
   "outputs": [],
   "source": [
    "def age_category(age):\n",
    "    if age < 18:\n",
    "        return \"Child\"\n",
    "    elif age >= 18 and age < 65:\n",
    "        return \"Adult\"\n",
    "    else:\n",
    "        return \"Elderly\"\n",
    "    \n",
    "admissionsExercise3['age_category'] = admissionsExercise3['age'].apply(age_category)\n"
   ]
  },
  {
   "cell_type": "code",
   "execution_count": 611,
   "metadata": {},
   "outputs": [
    {
     "data": {
      "text/plain": [
       "0    Elderly\n",
       "1      Adult\n",
       "2    Elderly\n",
       "3    Elderly\n",
       "4      Adult\n",
       "Name: age_category, dtype: object"
      ]
     },
     "execution_count": 611,
     "metadata": {},
     "output_type": "execute_result"
    }
   ],
   "source": [
    "admissionsExercise3['age_category'].head()"
   ]
  },
  {
   "cell_type": "code",
   "execution_count": 612,
   "metadata": {},
   "outputs": [],
   "source": [
    "admissionsExercise3['age_category'] = pd.factorize(admissionsExercise3['age_category'])[0]"
   ]
  },
  {
   "cell_type": "code",
   "execution_count": 613,
   "metadata": {},
   "outputs": [
    {
     "data": {
      "text/plain": [
       "0    0\n",
       "1    1\n",
       "2    0\n",
       "3    0\n",
       "4    1\n",
       "Name: age_category, dtype: int64"
      ]
     },
     "execution_count": 613,
     "metadata": {},
     "output_type": "execute_result"
    }
   ],
   "source": [
    "admissionsExercise3['age_category'].head()"
   ]
  },
  {
   "cell_type": "code",
   "execution_count": 614,
   "metadata": {},
   "outputs": [],
   "source": [
    "#Compute the hours\n",
    "hours = pd.to_datetime(admissionsExercise3['admittime']) - pd.to_datetime(admissionsExercise3.intime)\n",
    "admissionsExercise3['hours'] = np.round(hours.dt.total_seconds()/3600, 2)"
   ]
  },
  {
   "cell_type": "code",
   "execution_count": 615,
   "metadata": {},
   "outputs": [
    {
     "data": {
      "text/plain": [
       "0    -0.02\n",
       "1    -0.03\n",
       "2    -0.03\n",
       "3   -73.56\n",
       "4    -0.02\n",
       "Name: hours, dtype: float64"
      ]
     },
     "execution_count": 615,
     "metadata": {},
     "output_type": "execute_result"
    }
   ],
   "source": [
    "admissionsExercise3['hours'].head()"
   ]
  },
  {
   "cell_type": "code",
   "execution_count": 616,
   "metadata": {},
   "outputs": [],
   "source": [
    "def short_long(hours):\n",
    "    if hours < 24:\n",
    "        return \"short\"\n",
    "    else:\n",
    "        return \"long\"\n",
    "    \n",
    "admissionsExercise3['hours'] = admissionsExercise3['hours'].apply(short_long)\n"
   ]
  },
  {
   "cell_type": "code",
   "execution_count": 617,
   "metadata": {},
   "outputs": [],
   "source": [
    "admissionsExercise3['hours'] = pd.factorize(admissionsExercise3['hours'])[0]"
   ]
  },
  {
   "cell_type": "code",
   "execution_count": 618,
   "metadata": {},
   "outputs": [
    {
     "data": {
      "text/plain": [
       "0    0\n",
       "1    0\n",
       "2    0\n",
       "3    0\n",
       "4    0\n",
       "Name: hours, dtype: int64"
      ]
     },
     "execution_count": 618,
     "metadata": {},
     "output_type": "execute_result"
    }
   ],
   "source": [
    "admissionsExercise3['hours'].head()"
   ]
  },
  {
   "cell_type": "code",
   "execution_count": 619,
   "metadata": {},
   "outputs": [
    {
     "data": {
      "text/plain": [
       "0     0.02\n",
       "1     0.03\n",
       "2     0.03\n",
       "3    73.56\n",
       "4     0.02\n",
       "Name: prelos, dtype: float64"
      ]
     },
     "execution_count": 619,
     "metadata": {},
     "output_type": "execute_result"
    }
   ],
   "source": [
    "# Pre-LOS\n",
    "# Convert it to hours and round to two decimals\n",
    "admissionsExercise3['prelos'] = np.round(preLos.dt.total_seconds()/3600, 2)\n",
    "admissionsExercise3['prelos'].head()"
   ]
  },
  {
   "cell_type": "markdown",
   "metadata": {},
   "source": [
    "### getData_All"
   ]
  },
  {
   "cell_type": "markdown",
   "metadata": {},
   "source": [
    "In this section we are going to create the new getData function that will return a dataFrame with more features."
   ]
  },
  {
   "cell_type": "code",
   "execution_count": 712,
   "metadata": {},
   "outputs": [],
   "source": [
    "def getData_All(starterDF,period,allowNaN):\n",
    "    \n",
    "    #print(list(starterDF))\n",
    "    \n",
    "    # Temperature\n",
    "    starterDF = pd.merge(starterDF,get_temperature(period),on=[\"subject_id\",\"icustay_id\"],how=\"outer\")\n",
    "    \n",
    "    # GCS\n",
    "    starterDF = pd.merge(starterDF,get_GCS(period),on=[\"subject_id\",\"icustay_id\"],how=\"outer\")\n",
    "    \n",
    "    # HRate, Resp_rate, Urine, MAP\n",
    "    for df in get_rest_variables(period):\n",
    "        starterDF = pd.merge(starterDF,df,on=[\"subject_id\",\"icustay_id\"],how=\"outer\")\n",
    "    \n",
    "    # Ventilation\n",
    "    vent = get_vent(period)\n",
    "    starterDF = pd.merge(starterDF,vent,on=[\"subject_id\",\"icustay_id\"],how=\"outer\")\n",
    "    starterDF['ventilated'] = starterDF['ventilated'].replace(np.nan, \"n\")\n",
    "    starterDF = starterDF.drop_duplicates()\n",
    "    \n",
    "    #############################################################################################################################\n",
    "    \n",
    "    # OASIS Scores\n",
    "    finalDF = addOasis(starterDF,allowNaN)[['oasis','los']]\n",
    "    \n",
    "    # LOS to target variable for training.\n",
    "    finalDF['los'] = np.where(finalDF['los']<4, 0, 1)\n",
    "    \n",
    "    # We have to provide some columns that are not used for the OASIS calculation\n",
    "    # Merge two DF's\n",
    "    resultDF = pd.concat([finalDF], axis=1)\n",
    "    \n",
    "    print(list(resultDF))\n",
    "    \n",
    "    return resultDF"
   ]
  },
  {
   "cell_type": "code",
   "execution_count": 713,
   "metadata": {
    "scrolled": false
   },
   "outputs": [
    {
     "name": "stdout",
     "output_type": "stream",
     "text": [
      "['oasis', 'los']\n"
     ]
    }
   ],
   "source": [
    "import warnings\n",
    "\n",
    "warnings.filterwarnings('ignore')\n",
    "\n",
    "data24_new = getData_All(admissionsExercise3,24,True)"
   ]
  },
  {
   "cell_type": "code",
   "execution_count": 714,
   "metadata": {},
   "outputs": [
    {
     "data": {
      "text/plain": [
       "(136, 2)"
      ]
     },
     "execution_count": 714,
     "metadata": {},
     "output_type": "execute_result"
    }
   ],
   "source": [
    "data24_new.shape"
   ]
  },
  {
   "cell_type": "code",
   "execution_count": 715,
   "metadata": {},
   "outputs": [
    {
     "data": {
      "text/html": [
       "<div>\n",
       "<style scoped>\n",
       "    .dataframe tbody tr th:only-of-type {\n",
       "        vertical-align: middle;\n",
       "    }\n",
       "\n",
       "    .dataframe tbody tr th {\n",
       "        vertical-align: top;\n",
       "    }\n",
       "\n",
       "    .dataframe thead th {\n",
       "        text-align: right;\n",
       "    }\n",
       "</style>\n",
       "<table border=\"1\" class=\"dataframe\">\n",
       "  <thead>\n",
       "    <tr style=\"text-align: right;\">\n",
       "      <th></th>\n",
       "      <th>oasis</th>\n",
       "      <th>los</th>\n",
       "    </tr>\n",
       "  </thead>\n",
       "  <tbody>\n",
       "    <tr>\n",
       "      <th>0</th>\n",
       "      <td>23.0</td>\n",
       "      <td>0</td>\n",
       "    </tr>\n",
       "    <tr>\n",
       "      <th>1</th>\n",
       "      <td>14.0</td>\n",
       "      <td>1</td>\n",
       "    </tr>\n",
       "    <tr>\n",
       "      <th>2</th>\n",
       "      <td>19.0</td>\n",
       "      <td>0</td>\n",
       "    </tr>\n",
       "    <tr>\n",
       "      <th>3</th>\n",
       "      <td>15.0</td>\n",
       "      <td>0</td>\n",
       "    </tr>\n",
       "    <tr>\n",
       "      <th>4</th>\n",
       "      <td>34.0</td>\n",
       "      <td>0</td>\n",
       "    </tr>\n",
       "    <tr>\n",
       "      <th>5</th>\n",
       "      <td>22.0</td>\n",
       "      <td>0</td>\n",
       "    </tr>\n",
       "    <tr>\n",
       "      <th>6</th>\n",
       "      <td>29.0</td>\n",
       "      <td>1</td>\n",
       "    </tr>\n",
       "    <tr>\n",
       "      <th>7</th>\n",
       "      <td>27.0</td>\n",
       "      <td>0</td>\n",
       "    </tr>\n",
       "    <tr>\n",
       "      <th>8</th>\n",
       "      <td>13.0</td>\n",
       "      <td>0</td>\n",
       "    </tr>\n",
       "    <tr>\n",
       "      <th>9</th>\n",
       "      <td>11.0</td>\n",
       "      <td>0</td>\n",
       "    </tr>\n",
       "  </tbody>\n",
       "</table>\n",
       "</div>"
      ],
      "text/plain": [
       "   oasis  los\n",
       "0   23.0    0\n",
       "1   14.0    1\n",
       "2   19.0    0\n",
       "3   15.0    0\n",
       "4   34.0    0\n",
       "5   22.0    0\n",
       "6   29.0    1\n",
       "7   27.0    0\n",
       "8   13.0    0\n",
       "9   11.0    0"
      ]
     },
     "execution_count": 715,
     "metadata": {},
     "output_type": "execute_result"
    }
   ],
   "source": [
    "data24_new.head(10)"
   ]
  },
  {
   "cell_type": "code",
   "execution_count": 716,
   "metadata": {},
   "outputs": [],
   "source": [
    "from sklearn.ensemble import GradientBoostingClassifier"
   ]
  },
  {
   "cell_type": "code",
   "execution_count": 728,
   "metadata": {},
   "outputs": [],
   "source": [
    "def train_new(data):\n",
    "    \n",
    "    cv = StratifiedKFold(random_state=0,n_splits=5,shuffle=True)\n",
    "    \n",
    "    X = data.dropna().iloc[:,0].values.reshape(-1,1)\n",
    "    y = data.dropna().iloc[:,1].values\n",
    "    print(\"X shape:\",X.shape,\"y shape\",y.shape)\n",
    "    yhat = np.zeros((X.shape[0])).reshape(-1,1)\n",
    "    \n",
    "    for train_idx, test_idx in cv.split(X,y):\n",
    "        X_train,y_train = X[train_idx,:],y[train_idx]\n",
    "        X_test,y_test = X[test_idx,:],y[test_idx]\n",
    "        \n",
    "        # We are going to trying different Classifiers to see if something improves further.\n",
    "        \n",
    "        # Random Forest\n",
    "        clf = RandomForestClassifier(random_state=0)\n",
    "        # SVM\n",
    "        #clf = SVC(C=1.0, random_state=1, kernel='linear')\n",
    "        # Logistic Regression\n",
    "        #clf = LogisticRegression(random_state=0)\n",
    "        # Gradient Boosting\n",
    "        #clf = GradientBoostingClassifier(n_estimators=100, learning_rate=1.0,max_depth=1, random_state=0)\n",
    "        \n",
    "        clf.fit(X_train,y_train)\n",
    "        yhat[test_idx] = clf.predict(X_test).reshape(-1,1)\n",
    "    \n",
    "    #For the mean or std if we want\n",
    "    scores = cross_val_score(clf,X,y,cv=5)\n",
    "    \n",
    "    print(\"Accuracy of the model:\",np.round(metrics.accuracy_score(y,yhat),2),\n",
    "          \"\\nMean Accuracy:\",np.round(scores.mean(),2),\n",
    "          \"\\nF1 Score:\",np.round(metrics.f1_score(y, yhat, average='micro'),2),\n",
    "         \"\\nConfusion Matrix:\\n\",metrics.confusion_matrix(y,yhat),\n",
    "         \"\\n\",plot_confusion_matrix(clf, X_test, y_test))\n",
    "        "
   ]
  },
  {
   "cell_type": "code",
   "execution_count": 729,
   "metadata": {},
   "outputs": [
    {
     "name": "stdout",
     "output_type": "stream",
     "text": [
      "X shape: (136, 1) y shape (136,)\n",
      "Accuracy of the model: 0.66 \n",
      "Mean Accuracy: 0.68 \n",
      "F1 Score: 0.66 \n",
      "Confusion Matrix:\n",
      " [[81 19]\n",
      " [27  9]] \n",
      " <sklearn.metrics._plot.confusion_matrix.ConfusionMatrixDisplay object at 0x1122ce650>\n"
     ]
    },
    {
     "data": {
      "image/png": "[encoded data removed]",
      "text/plain": [
       "<Figure size 640x480 with 2 Axes>"
      ]
     },
     "metadata": {},
     "output_type": "display_data"
    }
   ],
   "source": [
    "train_new(data24_new)"
   ]
  },
  {
   "cell_type": "code",
   "execution_count": 730,
   "metadata": {},
   "outputs": [
    {
     "name": "stdout",
     "output_type": "stream",
     "text": [
      "X shape: (136, 1) y shape (136,)\n",
      "Accuracy of the model: 0.68 \n",
      "Mean Accuracy: 0.75 \n",
      "F1 Score: 0.68 \n",
      "Confusion Matrix:\n",
      " [[84 16]\n",
      " [28  8]] \n",
      " <sklearn.metrics._plot.confusion_matrix.ConfusionMatrixDisplay object at 0x110293160>\n"
     ]
    },
    {
     "data": {
      "image/png": "[encoded data removed]",
      "text/plain": [
       "<Figure size 640x480 with 2 Axes>"
      ]
     },
     "metadata": {},
     "output_type": "display_data"
    }
   ],
   "source": [
    "train_new(data48)"
   ]
  },
  {
   "cell_type": "code",
   "execution_count": 731,
   "metadata": {},
   "outputs": [
    {
     "name": "stdout",
     "output_type": "stream",
     "text": [
      "X shape: (53, 1) y shape (53,)\n",
      "Accuracy of the model: 0.53 \n",
      "Mean Accuracy: 0.49 \n",
      "F1 Score: 0.53 \n",
      "Confusion Matrix:\n",
      " [[20 10]\n",
      " [15  8]] \n",
      " <sklearn.metrics._plot.confusion_matrix.ConfusionMatrixDisplay object at 0x110d6f310>\n"
     ]
    },
    {
     "data": {
      "image/png": "[encoded data removed]",
      "text/plain": [
       "<Figure size 640x480 with 2 Axes>"
      ]
     },
     "metadata": {},
     "output_type": "display_data"
    }
   ],
   "source": [
    "train_new(dataNaN48)"
   ]
  },
  {
   "cell_type": "markdown",
   "metadata": {},
   "source": [
    "## Remarks"
   ]
  },
  {
   "cell_type": "markdown",
   "metadata": {},
   "source": [
    "Unfortunately, we couldn't quite improve the prediction of the length of Stay (LOS), despite the fact that we've tried many different techniques. To be more specific, adding more variables to the classifier didn't make the difference. Also, the new features that we created didn't increase the performance as well. On the other hand, we noticed some differences when applying different classifiers. In the following section, we are going to describe firmly each classifier result."
   ]
  },
  {
   "cell_type": "markdown",
   "metadata": {},
   "source": [
    "- <b>SVM</b>: The F1 score is zero when using SVM (Support Vector Machines), meaning that the model's performance is very poor and it is failing to make any correct predictions, despite the fact that the Accuracy is improved (0.74).\n",
    "- <b>Logistic Regresion</b>: The Accuracy score was improved: from 0.66 to 0.71. Though, the f1 score was decreased: from 0.28 to 0.13, which means that our model is worse than before.\n",
    "- <b>Gradient Boosting</b>: The Accuracy score is slightly improved: from 0.66 to 0.67, but the f1 score was slightly decreased: from 0.28 to 0.26."
   ]
  },
  {
   "cell_type": "markdown",
   "metadata": {},
   "source": [
    "## Using the 10 variables used for the computation of Oasis, instead of using the single Oasis value for the classification"
   ]
  },
  {
   "cell_type": "code",
   "execution_count": 850,
   "metadata": {},
   "outputs": [],
   "source": [
    "def getData_final(starterDF,period,allowNaN):\n",
    "    \n",
    "    #print(list(starterDF))\n",
    "    \n",
    "    # Temperature\n",
    "    starterDF = pd.merge(starterDF,get_temperature(period),on=[\"subject_id\",\"icustay_id\"],how=\"outer\")\n",
    "    \n",
    "    # GCS\n",
    "    starterDF = pd.merge(starterDF,get_GCS(period),on=[\"subject_id\",\"icustay_id\"],how=\"outer\")\n",
    "    \n",
    "    # HRate, Resp_rate, Urine, MAP\n",
    "    for df in get_rest_variables(period):\n",
    "        starterDF = pd.merge(starterDF,df,on=[\"subject_id\",\"icustay_id\"],how=\"outer\")\n",
    "    \n",
    "    # Ventilation\n",
    "    vent = get_vent(period)\n",
    "    starterDF = pd.merge(starterDF,vent,on=[\"subject_id\",\"icustay_id\"],how=\"outer\")\n",
    "    starterDF['ventilated'] = starterDF['ventilated'].replace(np.nan, \"n\")\n",
    "    starterDF = starterDF.drop_duplicates()\n",
    "    \n",
    "    # Factorizations\n",
    "    \n",
    "    starterDF['MAP'] = pd.factorize(starterDF['MAP'])[0]\n",
    "    starterDF['ventilated'] = pd.factorize(starterDF['ventilated'])[0]\n",
    "    starterDF['admission_type'] = pd.factorize(starterDF['admission_type'])[0]\n",
    "    \n",
    "    \n",
    "    #############################################################################################################################\n",
    "    \n",
    "    # OASIS Scores\n",
    "    finalDF = addOasis(starterDF,allowNaN)[['oasis','los']]\n",
    "    \n",
    "    # LOS to target variable for training.\n",
    "    finalDF['los'] = np.where(finalDF['los']<4, 0, 1)\n",
    "    \n",
    "    # We have to provide some columns that are not used for the OASIS calculation\n",
    "    # Merge two DF's\n",
    "    resultDF = pd.concat([starterDF['prelos'], starterDF['age'], starterDF['GCS_total'], starterDF['hrate'], starterDF['MAP'], starterDF['resp_rate'], starterDF['temp_c'], starterDF['urine'], starterDF['ventilated'],starterDF['admission_type'], finalDF['los']], axis=1)\n",
    "    \n",
    "    print(list(resultDF))\n",
    "    \n",
    "    return resultDF"
   ]
  },
  {
   "cell_type": "code",
   "execution_count": 851,
   "metadata": {},
   "outputs": [],
   "source": [
    "def train_final(data):\n",
    "    \n",
    "    cv = StratifiedKFold(random_state=0,n_splits=5,shuffle=True)\n",
    "    \n",
    "    X = data.dropna()[['prelos', 'age', 'GCS_total', 'hrate', 'MAP', 'resp_rate', 'temp_c', 'urine', 'ventilated', 'admission_type']].values\n",
    "    y = data.dropna()['los'].values\n",
    "    print(\"X shape:\",X.shape,\"y shape\",y.shape)\n",
    "    yhat = np.zeros((X.shape[0]))\n",
    "    \n",
    "    for train_idx, test_idx in cv.split(X,y):\n",
    "        X_train,y_train = X[train_idx,:],y[train_idx]\n",
    "        X_test,y_test = X[test_idx,:],y[test_idx]\n",
    "        \n",
    "        # We are going to try different classifiers to see if something improves further.\n",
    "        \n",
    "        # Random Forest\n",
    "        clf = RandomForestClassifier(random_state=0)\n",
    "        \n",
    "        clf.fit(X_train,y_train)\n",
    "        yhat[test_idx] = clf.predict(X_test)\n",
    "    \n",
    "    # Compute the evaluation metrics\n",
    "    scores = cross_val_score(clf,X,y,cv=5,scoring='accuracy')\n",
    "    f1_scores = cross_val_score(clf,X,y,cv=5,scoring='f1_weighted')\n",
    "    \n",
    "    print(\"Accuracy of the model:\",np.round(np.mean(scores),2),\n",
    "          \"\\nMean Accuracy:\",np.round(scores.mean(),2),\n",
    "          \"\\nF1 Score:\",np.round(np.mean(f1_scores),2),\n",
    "          \"\\nConfusion Matrix:\\n\",metrics.confusion_matrix(y,yhat),\n",
    "         \"\\n\",plot_confusion_matrix(clf, X_test, y_test))\n"
   ]
  },
  {
   "cell_type": "code",
   "execution_count": 852,
   "metadata": {},
   "outputs": [
    {
     "name": "stdout",
     "output_type": "stream",
     "text": [
      "['prelos', 'age', 'GCS_total', 'hrate', 'MAP', 'resp_rate', 'temp_c', 'urine', 'ventilated', 'admission_type', 'los']\n",
      "['prelos', 'age', 'GCS_total', 'hrate', 'MAP', 'resp_rate', 'temp_c', 'urine', 'ventilated', 'admission_type', 'los']\n",
      "['prelos', 'age', 'GCS_total', 'hrate', 'MAP', 'resp_rate', 'temp_c', 'urine', 'ventilated', 'admission_type', 'los']\n"
     ]
    }
   ],
   "source": [
    "warnings.filterwarnings('ignore')\n",
    "\n",
    "data24_final = getData_final(admissionsFinal,24,True)\n",
    "dataNaN48_final = getData_final(admissionsFinal,48,False)\n",
    "data48_final = getData_final(admissionsFinal,48,True)"
   ]
  },
  {
   "cell_type": "code",
   "execution_count": 853,
   "metadata": {},
   "outputs": [
    {
     "data": {
      "text/plain": [
       "(136, 11)"
      ]
     },
     "execution_count": 853,
     "metadata": {},
     "output_type": "execute_result"
    }
   ],
   "source": [
    "data24_final.shape"
   ]
  },
  {
   "cell_type": "code",
   "execution_count": 854,
   "metadata": {},
   "outputs": [
    {
     "data": {
      "text/html": [
       "<div>\n",
       "<style scoped>\n",
       "    .dataframe tbody tr th:only-of-type {\n",
       "        vertical-align: middle;\n",
       "    }\n",
       "\n",
       "    .dataframe tbody tr th {\n",
       "        vertical-align: top;\n",
       "    }\n",
       "\n",
       "    .dataframe thead th {\n",
       "        text-align: right;\n",
       "    }\n",
       "</style>\n",
       "<table border=\"1\" class=\"dataframe\">\n",
       "  <thead>\n",
       "    <tr style=\"text-align: right;\">\n",
       "      <th></th>\n",
       "      <th>prelos</th>\n",
       "      <th>age</th>\n",
       "      <th>GCS_total</th>\n",
       "      <th>hrate</th>\n",
       "      <th>MAP</th>\n",
       "      <th>resp_rate</th>\n",
       "      <th>temp_c</th>\n",
       "      <th>urine</th>\n",
       "      <th>ventilated</th>\n",
       "      <th>admission_type</th>\n",
       "      <th>los</th>\n",
       "    </tr>\n",
       "  </thead>\n",
       "  <tbody>\n",
       "    <tr>\n",
       "      <th>0</th>\n",
       "      <td>0.02</td>\n",
       "      <td>70</td>\n",
       "      <td>15.0</td>\n",
       "      <td>70.0</td>\n",
       "      <td>-1</td>\n",
       "      <td>15.0</td>\n",
       "      <td>36.388889</td>\n",
       "      <td>200.0</td>\n",
       "      <td>0</td>\n",
       "      <td>0</td>\n",
       "      <td>0</td>\n",
       "    </tr>\n",
       "    <tr>\n",
       "      <th>1</th>\n",
       "      <td>0.03</td>\n",
       "      <td>36</td>\n",
       "      <td>11.0</td>\n",
       "      <td>72.0</td>\n",
       "      <td>-1</td>\n",
       "      <td>14.0</td>\n",
       "      <td>36.222198</td>\n",
       "      <td>2840.0</td>\n",
       "      <td>0</td>\n",
       "      <td>0</td>\n",
       "      <td>1</td>\n",
       "    </tr>\n",
       "    <tr>\n",
       "      <th>2</th>\n",
       "      <td>0.03</td>\n",
       "      <td>87</td>\n",
       "      <td>15.0</td>\n",
       "      <td>84.0</td>\n",
       "      <td>0</td>\n",
       "      <td>18.0</td>\n",
       "      <td>36.799999</td>\n",
       "      <td>2350.0</td>\n",
       "      <td>0</td>\n",
       "      <td>0</td>\n",
       "      <td>0</td>\n",
       "    </tr>\n",
       "    <tr>\n",
       "      <th>3</th>\n",
       "      <td>73.56</td>\n",
       "      <td>74</td>\n",
       "      <td>14.0</td>\n",
       "      <td>82.0</td>\n",
       "      <td>-1</td>\n",
       "      <td>15.0</td>\n",
       "      <td>35.000000</td>\n",
       "      <td>5020.0</td>\n",
       "      <td>0</td>\n",
       "      <td>0</td>\n",
       "      <td>0</td>\n",
       "    </tr>\n",
       "    <tr>\n",
       "      <th>4</th>\n",
       "      <td>0.02</td>\n",
       "      <td>49</td>\n",
       "      <td>3.0</td>\n",
       "      <td>66.0</td>\n",
       "      <td>1</td>\n",
       "      <td>21.0</td>\n",
       "      <td>33.999998</td>\n",
       "      <td>150.0</td>\n",
       "      <td>0</td>\n",
       "      <td>0</td>\n",
       "      <td>0</td>\n",
       "    </tr>\n",
       "  </tbody>\n",
       "</table>\n",
       "</div>"
      ],
      "text/plain": [
       "   prelos  age  GCS_total  hrate  MAP  resp_rate     temp_c   urine  \\\n",
       "0    0.02   70       15.0   70.0   -1       15.0  36.388889   200.0   \n",
       "1    0.03   36       11.0   72.0   -1       14.0  36.222198  2840.0   \n",
       "2    0.03   87       15.0   84.0    0       18.0  36.799999  2350.0   \n",
       "3   73.56   74       14.0   82.0   -1       15.0  35.000000  5020.0   \n",
       "4    0.02   49        3.0   66.0    1       21.0  33.999998   150.0   \n",
       "\n",
       "   ventilated  admission_type  los  \n",
       "0           0               0    0  \n",
       "1           0               0    1  \n",
       "2           0               0    0  \n",
       "3           0               0    0  \n",
       "4           0               0    0  "
      ]
     },
     "execution_count": 854,
     "metadata": {},
     "output_type": "execute_result"
    }
   ],
   "source": [
    "data24_final.head()"
   ]
  },
  {
   "cell_type": "code",
   "execution_count": 855,
   "metadata": {},
   "outputs": [
    {
     "name": "stdout",
     "output_type": "stream",
     "text": [
      "X shape: (117, 10) y shape (117,)\n",
      "Accuracy of the model: 0.67 \n",
      "Mean Accuracy: 0.67 \n",
      "F1 Score: 0.63 \n",
      "Confusion Matrix:\n",
      " [[69 13]\n",
      " [23 12]] \n",
      " <sklearn.metrics._plot.confusion_matrix.ConfusionMatrixDisplay object at 0x1112b46a0>\n"
     ]
    },
    {
     "data": {
      "image/png": "[encoded data removed]",
      "text/plain": [
       "<Figure size 640x480 with 2 Axes>"
      ]
     },
     "metadata": {},
     "output_type": "display_data"
    }
   ],
   "source": [
    "train_final(data24_final)"
   ]
  },
  {
   "cell_type": "code",
   "execution_count": 856,
   "metadata": {},
   "outputs": [
    {
     "name": "stdout",
     "output_type": "stream",
     "text": [
      "X shape: (118, 10) y shape (118,)\n",
      "Accuracy of the model: 0.74 \n",
      "Mean Accuracy: 0.74 \n",
      "F1 Score: 0.71 \n",
      "Confusion Matrix:\n",
      " [[72 11]\n",
      " [23 12]] \n",
      " <sklearn.metrics._plot.confusion_matrix.ConfusionMatrixDisplay object at 0x1112b46a0>\n"
     ]
    },
    {
     "data": {
      "image/png": "[encoded data removed]",
      "text/plain": [
       "<Figure size 640x480 with 2 Axes>"
      ]
     },
     "metadata": {},
     "output_type": "display_data"
    }
   ],
   "source": [
    "train_final(data48_final)"
   ]
  },
  {
   "cell_type": "code",
   "execution_count": 857,
   "metadata": {},
   "outputs": [
    {
     "name": "stdout",
     "output_type": "stream",
     "text": [
      "X shape: (118, 10) y shape (118,)\n",
      "Accuracy of the model: 0.74 \n",
      "Mean Accuracy: 0.74 \n",
      "F1 Score: 0.71 \n",
      "Confusion Matrix:\n",
      " [[72 11]\n",
      " [23 12]] \n",
      " <sklearn.metrics._plot.confusion_matrix.ConfusionMatrixDisplay object at 0x1118135e0>\n"
     ]
    },
    {
     "data": {
      "image/png": "[encoded data removed]",
      "text/plain": [
       "<Figure size 640x480 with 2 Axes>"
      ]
     },
     "metadata": {},
     "output_type": "display_data"
    }
   ],
   "source": [
    "train_final(dataNaN48_final)"
   ]
  },
  {
   "cell_type": "markdown",
   "metadata": {},
   "source": [
    "## Final Remarks"
   ]
  },
  {
   "cell_type": "markdown",
   "metadata": {},
   "source": [
    "Eventually, we notice that when we use for training the 10 variables that previously used to calculate the OASIS score, instead of calculating the OASIS score and utilizing it directly for the training gives us way better results! To be more specific, this is the updated table of scores for each model:\n",
    "\n",
    "| Dataset              | Accuracy (%) |\n",
    "|----------------------|--------------|\n",
    "| 24 hours             |           67 |\n",
    "| 48 hours             |           74 |\n",
    "| 48 hours, NaN values |           74 |"
   ]
  },
  {
   "cell_type": "markdown",
   "metadata": {},
   "source": [
    "Therefore, we observe that for the 24 hours the score decreased a little bit, while both for 48hours and 48hours with NaN's the score was impressively increased to 74%. Though, the most spectacular thing consists the tremendous increasement of the F1 score, which is shown in the following Table:\n",
    "\n",
    "\n",
    "| Dataset              | F1 score (%) |\n",
    "|----------------------|--------------|\n",
    "| 24 hours             |           63 |\n",
    "| 48 hours             |           71 |\n",
    "| 48 hours, NaN values |           71 |"
   ]
  },
  {
   "cell_type": "markdown",
   "metadata": {},
   "source": [
    "At the end of the day this is very important, due to the fact that shows that our model is a lot better and is an indicator that our model can make very good predictions. Therefore, the prediction of the length of stay (LOS) of the ICU patients was significantly improved."
   ]
  },
  {
   "cell_type": "markdown",
   "metadata": {},
   "source": [
    "## FURTHER IMPROVEMENTS"
   ]
  },
  {
   "cell_type": "markdown",
   "metadata": {},
   "source": [
    "As we can see in the following last part, if we add even more variables for the patients from the starting table, such as: Religion and some variables that we have created: hours of STAY of the patient (short or long), age_category (Child, Adult, Elderly), we observe that the Accuracy score for 24 hours dataset is getting even better overcoming the 70%. You can see above the Final Tables for the Accuracies and the F1 scores. We should mention that maybe if we add even more variables perhaps our scores would become even better. But bear in mind the fact that not all the features are helping. For example, we have tried the feature Ethnicity but we got worst results. So we have to experiment a little bit with the features and keep the ones that are improving both Accuracy and F1 scores.\n",
    "\n",
    "| Dataset              | Accuracy (%) |\n",
    "|----------------------|--------------|\n",
    "| 24 hours             |           70 |\n",
    "| 48 hours             |           74 |\n",
    "| 48 hours, NaN values |           74 |\n",
    "\n",
    "| Dataset              | F1 score (%) |\n",
    "|----------------------|--------------|\n",
    "| 24 hours             |           66 |\n",
    "| 48 hours             |           71 |\n",
    "| 48 hours, NaN values |           71 |"
   ]
  },
  {
   "cell_type": "code",
   "execution_count": 888,
   "metadata": {},
   "outputs": [],
   "source": [
    "def getData_finalFINAL(starterDF,period,allowNaN):\n",
    "    \n",
    "    #print(list(starterDF))\n",
    "    \n",
    "    # Temperature\n",
    "    starterDF = pd.merge(starterDF,get_temperature(period),on=[\"subject_id\",\"icustay_id\"],how=\"outer\")\n",
    "    \n",
    "    # GCS\n",
    "    starterDF = pd.merge(starterDF,get_GCS(period),on=[\"subject_id\",\"icustay_id\"],how=\"outer\")\n",
    "    \n",
    "    # HRate, Resp_rate, Urine, MAP\n",
    "    for df in get_rest_variables(period):\n",
    "        starterDF = pd.merge(starterDF,df,on=[\"subject_id\",\"icustay_id\"],how=\"outer\")\n",
    "    \n",
    "    # Ventilation\n",
    "    vent = get_vent(period)\n",
    "    starterDF = pd.merge(starterDF,vent,on=[\"subject_id\",\"icustay_id\"],how=\"outer\")\n",
    "    starterDF['ventilated'] = starterDF['ventilated'].replace(np.nan, \"n\")\n",
    "    starterDF = starterDF.drop_duplicates()\n",
    "    \n",
    "    # Factorizations\n",
    "    \n",
    "    starterDF['MAP'] = pd.factorize(starterDF['MAP'])[0]\n",
    "    starterDF['ventilated'] = pd.factorize(starterDF['ventilated'])[0]\n",
    "    starterDF['admission_type'] = pd.factorize(starterDF['admission_type'])[0]\n",
    "    \n",
    "    \n",
    "    #############################################################################################################################\n",
    "    \n",
    "    # OASIS Scores\n",
    "    finalDF = addOasis(starterDF,allowNaN)[['oasis','los']]\n",
    "    \n",
    "    # LOS to target variable for training.\n",
    "    finalDF['los'] = np.where(finalDF['los']<4, 0, 1)\n",
    "    \n",
    "    # We have to provide some columns that are not used for the OASIS calculation\n",
    "    # Merge two DF's\n",
    "    resultDF = pd.concat([starterDF['age_category'], starterDF['hours'], starterDF['religion'], starterDF['prelos'], starterDF['age'], starterDF['GCS_total'], starterDF['hrate'], starterDF['MAP'], starterDF['resp_rate'], starterDF['temp_c'], starterDF['urine'], starterDF['ventilated'],starterDF['admission_type'], finalDF['los']], axis=1)\n",
    "    \n",
    "    print(list(resultDF))\n",
    "    \n",
    "    return resultDF"
   ]
  },
  {
   "cell_type": "code",
   "execution_count": 889,
   "metadata": {},
   "outputs": [],
   "source": [
    "def train_finalFINAL(data):\n",
    "    \n",
    "    cv = StratifiedKFold(random_state=0,n_splits=5,shuffle=True)\n",
    "    \n",
    "    X = data.dropna()[['age_category', 'hours', 'religion','prelos', 'age', 'GCS_total', 'hrate', 'MAP', 'resp_rate', 'temp_c', 'urine', 'ventilated', 'admission_type']].values\n",
    "    y = data.dropna()['los'].values\n",
    "    print(\"X shape:\",X.shape,\"y shape\",y.shape)\n",
    "    yhat = np.zeros((X.shape[0]))\n",
    "    \n",
    "    for train_idx, test_idx in cv.split(X,y):\n",
    "        X_train,y_train = X[train_idx,:],y[train_idx]\n",
    "        X_test,y_test = X[test_idx,:],y[test_idx]\n",
    "        \n",
    "        # We are going to try different classifiers to see if something improves further.\n",
    "        \n",
    "        # Random Forest\n",
    "        clf = RandomForestClassifier(random_state=0)\n",
    "        \n",
    "        clf.fit(X_train,y_train)\n",
    "        yhat[test_idx] = clf.predict(X_test)\n",
    "    \n",
    "    # Compute the evaluation metrics\n",
    "    scores = cross_val_score(clf,X,y,cv=5,scoring='accuracy')\n",
    "    f1_scores = cross_val_score(clf,X,y,cv=5,scoring='f1_weighted')\n",
    "    \n",
    "    print(\"Accuracy of the model:\",np.round(np.mean(scores),2),\n",
    "          \"\\nMean Accuracy:\",np.round(scores.mean(),2),\n",
    "          \"\\nF1 Score:\",np.round(np.mean(f1_scores),2),\n",
    "          \"\\nConfusion Matrix:\\n\",metrics.confusion_matrix(y,yhat),\n",
    "         \"\\n\",plot_confusion_matrix(clf, X_test, y_test))\n"
   ]
  },
  {
   "cell_type": "code",
   "execution_count": 892,
   "metadata": {},
   "outputs": [
    {
     "name": "stdout",
     "output_type": "stream",
     "text": [
      "['age_category', 'hours', 'religion', 'prelos', 'age', 'GCS_total', 'hrate', 'MAP', 'resp_rate', 'temp_c', 'urine', 'ventilated', 'admission_type', 'los']\n",
      "['age_category', 'hours', 'religion', 'prelos', 'age', 'GCS_total', 'hrate', 'MAP', 'resp_rate', 'temp_c', 'urine', 'ventilated', 'admission_type', 'los']\n",
      "['age_category', 'hours', 'religion', 'prelos', 'age', 'GCS_total', 'hrate', 'MAP', 'resp_rate', 'temp_c', 'urine', 'ventilated', 'admission_type', 'los']\n"
     ]
    }
   ],
   "source": [
    "dada24 = getData_finalFINAL(admissionsExercise3,24,True)\n",
    "dadaNaN48 = getData_finalFINAL(admissionsExercise3,48,False)\n",
    "dada48 = getData_finalFINAL(admissionsExercise3,48,True)"
   ]
  },
  {
   "cell_type": "code",
   "execution_count": 893,
   "metadata": {
    "scrolled": true
   },
   "outputs": [
    {
     "name": "stdout",
     "output_type": "stream",
     "text": [
      "X shape: (117, 13) y shape (117,)\n",
      "Accuracy of the model: 0.7 \n",
      "Mean Accuracy: 0.7 \n",
      "F1 Score: 0.66 \n",
      "Confusion Matrix:\n",
      " [[71 11]\n",
      " [24 11]] \n",
      " <sklearn.metrics._plot.confusion_matrix.ConfusionMatrixDisplay object at 0x113ea94e0>\n"
     ]
    },
    {
     "data": {
      "image/png": "[encoded data removed]",
      "text/plain": [
       "<Figure size 640x480 with 2 Axes>"
      ]
     },
     "metadata": {},
     "output_type": "display_data"
    }
   ],
   "source": [
    "train_finalFINAL(dada24)"
   ]
  },
  {
   "cell_type": "code",
   "execution_count": 894,
   "metadata": {},
   "outputs": [
    {
     "name": "stdout",
     "output_type": "stream",
     "text": [
      "X shape: (118, 13) y shape (118,)\n",
      "Accuracy of the model: 0.74 \n",
      "Mean Accuracy: 0.74 \n",
      "F1 Score: 0.71 \n",
      "Confusion Matrix:\n",
      " [[73 10]\n",
      " [21 14]] \n",
      " <sklearn.metrics._plot.confusion_matrix.ConfusionMatrixDisplay object at 0x29ee27010>\n"
     ]
    },
    {
     "data": {
      "image/png": "[encoded data removed]",
      "text/plain": [
       "<Figure size 640x480 with 2 Axes>"
      ]
     },
     "metadata": {},
     "output_type": "display_data"
    }
   ],
   "source": [
    "train_finalFINAL(dadaNaN48)"
   ]
  },
  {
   "cell_type": "code",
   "execution_count": 895,
   "metadata": {},
   "outputs": [
    {
     "name": "stdout",
     "output_type": "stream",
     "text": [
      "X shape: (118, 13) y shape (118,)\n",
      "Accuracy of the model: 0.74 \n",
      "Mean Accuracy: 0.74 \n",
      "F1 Score: 0.71 \n",
      "Confusion Matrix:\n",
      " [[73 10]\n",
      " [21 14]] \n",
      " <sklearn.metrics._plot.confusion_matrix.ConfusionMatrixDisplay object at 0x29ed76650>\n"
     ]
    },
    {
     "data": {
      "image/png": "[encoded data removed]",
      "text/plain": [
       "<Figure size 640x480 with 2 Axes>"
      ]
     },
     "metadata": {},
     "output_type": "display_data"
    }
   ],
   "source": [
    "train_finalFINAL(dada48)"
   ]
  }
 ],
 "metadata": {
  "colab": {
   "collapsed_sections": [],
   "name": "TFG_S1_OneByOne_imputation.ipynb",
   "provenance": []
  },
  "kernelspec": {
   "display_name": "Python 3 (ipykernel)",
   "language": "python",
   "name": "python3"
  },
  "language_info": {
   "codemirror_mode": {
    "name": "ipython",
    "version": 3
   },
   "file_extension": ".py",
   "mimetype": "text/x-python",
   "name": "python",
   "nbconvert_exporter": "python",
   "pygments_lexer": "ipython3",
   "version": "3.10.8"
  }
 },
 "nbformat": 4,
 "nbformat_minor": 1
}
