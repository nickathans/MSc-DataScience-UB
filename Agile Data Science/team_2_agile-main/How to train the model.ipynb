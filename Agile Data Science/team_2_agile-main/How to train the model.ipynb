{
 "cells": [
  {
   "cell_type": "markdown",
   "id": "0a7ff9ed-6c8b-444c-bec4-f0ab3be0c916",
   "metadata": {},
   "source": [
    "First, we need to execute the \"MLflow server\" notebook. Then, change the required parameters in \"params.yaml\" and run:"
   ]
  },
  {
   "cell_type": "code",
   "execution_count": 1,
   "id": "4bdbb13b-255d-4aab-84f6-736ae817c052",
   "metadata": {},
   "outputs": [
    {
     "name": "stdout",
     "output_type": "stream",
     "text": [
      "Verifying data sources in stage: 'data\\external\\u.data.dvc'\n",
      "\n",
      "Running stage 'load_data':\n",
      "> python src/data/load_dataset.py --config=params.yaml\n",
      "Updating lock file 'dvc.lock'\n",
      "\n",
      "Running stage 'split_data':\n",
      "> python src/data/split_data.py --config=params.yaml\n",
      "Updating lock file 'dvc.lock'\n",
      "\n",
      "Running stage 'train_explicit_model':\n",
      "> python src/models/explicit_recommender.py --config=params.yaml\n",
      "Epoch 0: loss 13.188484687805175\n",
      "Epoch 1: loss 7.449247055053711\n",
      "Epoch 2: loss 1.7634604279200237\n",
      "Epoch 3: loss 1.0683876991271972\n",
      "Epoch 4: loss 0.9463187019030254\n",
      "Epoch 5: loss 0.9023398105303446\n",
      "Epoch 6: loss 0.8805970342954\n",
      "Epoch 7: loss 0.8663479900360107\n",
      "Epoch 8: loss 0.8555443493525187\n",
      "Epoch 9: loss 0.8462091334660848\n",
      "Train RMSE 0.906, test RMSE 3.561\n",
      "Updating lock file 'dvc.lock'\n",
      "\n",
      "Running stage 'train_sequential_model':\n",
      "> python src/models/sequential_recommender.py --config=params.yaml\n",
      "Epoch 0: loss 0.3058059555478394\n",
      "Epoch 1: loss 0.20705663552507758\n",
      "Epoch 2: loss 0.19796232227236032\n",
      "Epoch 3: loss 0.1958814300596714\n",
      "Epoch 4: loss 0.19463656703010201\n",
      "Epoch 5: loss 0.19211018737405539\n",
      "Epoch 6: loss 0.1877344846725464\n",
      "Epoch 7: loss 0.18631865177303553\n",
      "Epoch 8: loss 0.18285486986860633\n",
      "Epoch 9: loss 0.17325165774673223\n",
      "Epoch 10: loss 0.14263380854390562\n",
      "Epoch 11: loss 0.12875631311908364\n",
      "0.041162331155385944\n",
      "Updating lock file 'dvc.lock'\n",
      "\n",
      "To track the changes with git, run:\n",
      "\n",
      "\tgit add dvc.lock 'data\\external\\u.data.dvc'\n",
      "\n",
      "To enable auto staging, run:\n",
      "\n",
      "\tdvc config core.autostage true\n",
      "Use `dvc push` to send your updates to remote storage.\n"
     ]
    },
    {
     "name": "stderr",
     "output_type": "stream",
     "text": [
      "C:\\Users\\Hp\\anaconda3\\lib\\site-packages\\torch\\nn\\functional.py:1956: UserWarning: nn.functional.tanh is deprecated. Use torch.tanh instead.\n",
      "  warnings.warn(\"nn.functional.tanh is deprecated. Use torch.tanh instead.\")\n"
     ]
    }
   ],
   "source": [
    "#!pip install dvc\n",
    "#!pip install dvc-gdrive\n",
    "\n",
    "#!dvc pull\n",
    "!dvc repro"
   ]
  },
  {
   "cell_type": "code",
   "execution_count": null,
   "id": "67fd3d3e",
   "metadata": {},
   "outputs": [],
   "source": []
  }
 ],
 "metadata": {
  "kernelspec": {
   "display_name": "Python 3 (ipykernel)",
   "language": "python",
   "name": "python3"
  },
  "language_info": {
   "codemirror_mode": {
    "name": "ipython",
    "version": 3
   },
   "file_extension": ".py",
   "mimetype": "text/x-python",
   "name": "python",
   "nbconvert_exporter": "python",
   "pygments_lexer": "ipython3",
   "version": "3.9.12"
  }
 },
 "nbformat": 4,
 "nbformat_minor": 5
}
