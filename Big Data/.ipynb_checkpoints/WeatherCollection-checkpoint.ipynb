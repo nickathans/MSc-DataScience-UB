{
 "cells": [
  {
   "cell_type": "markdown",
   "id": "abe37a6c",
   "metadata": {},
   "source": [
    "### Zoltan Kunos\n",
    "### Nikolaos Athanasopoulos"
   ]
  },
  {
   "cell_type": "markdown",
   "id": "9da944e3",
   "metadata": {},
   "source": [
    "This API returns the current weather of a given location. Location is passed as querystring and can be zip codes."
   ]
  },
  {
   "cell_type": "code",
   "execution_count": 2,
   "id": "ab8623f4",
   "metadata": {},
   "outputs": [
    {
     "name": "stdout",
     "output_type": "stream",
     "text": [
      "{\n",
      "    \"location\": {\n",
      "        \"name\": \"Boston\",\n",
      "        \"region\": \"Lincolnshire\",\n",
      "        \"country\": \"United Kingdom\",\n",
      "        \"lat\": 53.1,\n",
      "        \"lon\": -0.13,\n",
      "        \"tz_id\": \"Europe/London\",\n",
      "        \"localtime_epoch\": 1681219832,\n",
      "        \"localtime\": \"2023-04-11 14:30\"\n",
      "    },\n",
      "    \"current\": {\n",
      "        \"last_updated_epoch\": 1681219800,\n",
      "        \"last_updated\": \"2023-04-11 14:30\",\n",
      "        \"temp_c\": 13.0,\n",
      "        \"temp_f\": 55.4,\n",
      "        \"is_day\": 1,\n",
      "        \"condition\": {\n",
      "            \"text\": \"Partly cloudy\",\n",
      "            \"icon\": \"//cdn.weatherapi.com/weather/64x64/day/116.png\",\n",
      "            \"code\": 1003\n",
      "        },\n",
      "        \"wind_mph\": 20.6,\n",
      "        \"wind_kph\": 33.1,\n",
      "        \"wind_degree\": 210,\n",
      "        \"wind_dir\": \"SSW\",\n",
      "        \"pressure_mb\": 1007.0,\n",
      "        \"pressure_in\": 29.74,\n",
      "        \"precip_mm\": 0.0,\n",
      "        \"precip_in\": 0.0,\n",
      "        \"humidity\": 54,\n",
      "        \"cloud\": 75,\n",
      "        \"feelslike_c\": 10.7,\n",
      "        \"feelslike_f\": 51.2,\n",
      "        \"vis_km\": 10.0,\n",
      "        \"vis_miles\": 6.0,\n",
      "        \"uv\": 3.0,\n",
      "        \"gust_mph\": 21.3,\n",
      "        \"gust_kph\": 34.2\n",
      "    }\n",
      "}\n"
     ]
    }
   ],
   "source": [
    "import requests\n",
    "import json\n",
    "\n",
    "url = \"https://weatherapi-com.p.rapidapi.com/current.json\"\n",
    "\n",
    "querystring = {\"q\":\"53.1,-0.13\"}\n",
    "\n",
    "headers = {\n",
    "    \"X-RapidAPI-Key\": \"38a5646c14msh52471d769a1b4d3p19af9cjsn431621e7e1de\",\n",
    "    \"X-RapidAPI-Host\": \"weatherapi-com.p.rapidapi.com\"\n",
    "}\n",
    "\n",
    "response = requests.request(\"GET\", url, headers=headers, params=querystring)\n",
    "\n",
    "# use the json.loads method to parse the response text into a JSON object\n",
    "json_response = json.loads(response.text)\n",
    "\n",
    "# use the json.dumps method to convert the JSON object into a formatted string\n",
    "print(json.dumps(json_response, indent=4))"
   ]
  },
  {
   "cell_type": "markdown",
   "id": "bf31dddb",
   "metadata": {},
   "source": [
    "### Store weather data in MONGODB"
   ]
  },
  {
   "cell_type": "markdown",
   "id": "05dd4790",
   "metadata": {},
   "source": [
    "- At first, we are going to install the necessary packages to work with MongoDB and the pandas library to read CSV files."
   ]
  },
  {
   "cell_type": "code",
   "execution_count": 1,
   "id": "9d40030a",
   "metadata": {},
   "outputs": [
    {
     "name": "stdout",
     "output_type": "stream",
     "text": [
      "Requirement already satisfied: pymongo in /opt/homebrew/lib/python3.10/site-packages (4.3.3)\n",
      "Requirement already satisfied: pandas in /opt/homebrew/lib/python3.10/site-packages (1.5.2)\n",
      "Requirement already satisfied: dnspython<3.0.0,>=1.16.0 in /opt/homebrew/lib/python3.10/site-packages (from pymongo) (2.3.0)\n",
      "Requirement already satisfied: pytz>=2020.1 in /opt/homebrew/lib/python3.10/site-packages (from pandas) (2022.6)\n",
      "Requirement already satisfied: python-dateutil>=2.8.1 in /opt/homebrew/lib/python3.10/site-packages (from pandas) (2.8.2)\n",
      "Requirement already satisfied: numpy>=1.21.0 in /opt/homebrew/lib/python3.10/site-packages (from pandas) (1.23.5)\n",
      "Requirement already satisfied: six>=1.5 in /opt/homebrew/lib/python3.10/site-packages (from python-dateutil>=2.8.1->pandas) (1.16.0)\n",
      "Note: you may need to restart the kernel to use updated packages.\n"
     ]
    }
   ],
   "source": [
    "pip install pymongo pandas"
   ]
  },
  {
   "cell_type": "markdown",
   "id": "03b6f8b0",
   "metadata": {},
   "source": [
    "- Now we need to establish a connection to your MongoDB database."
   ]
  },
  {
   "cell_type": "code",
   "execution_count": null,
   "id": "782da5eb",
   "metadata": {},
   "outputs": [],
   "source": [
    "from pymongo import MongoClient\n",
    "client = MongoClient(\"<mongo_uri>\")\n",
    "db = client[\"<database_name>\"]\n",
    "collection = db[\"<collection_name>\"]"
   ]
  },
  {
   "cell_type": "markdown",
   "id": "7d08f3cd",
   "metadata": {},
   "source": [
    "- Read the CSV file and insert the data into the city_weather collection. "
   ]
  },
  {
   "cell_type": "code",
   "execution_count": 6,
   "id": "211d9d0a",
   "metadata": {},
   "outputs": [],
   "source": [
    "import pandas as pd\n",
    "\n",
    "df = pd.read_csv(\"UpdatedDataSource/Top100-US.csv\", delimiter=\";\")"
   ]
  },
  {
   "cell_type": "code",
   "execution_count": 7,
   "id": "519cc513",
   "metadata": {},
   "outputs": [
    {
     "data": {
      "text/html": [
       "<div>\n",
       "<style scoped>\n",
       "    .dataframe tbody tr th:only-of-type {\n",
       "        vertical-align: middle;\n",
       "    }\n",
       "\n",
       "    .dataframe tbody tr th {\n",
       "        vertical-align: top;\n",
       "    }\n",
       "\n",
       "    .dataframe thead th {\n",
       "        text-align: right;\n",
       "    }\n",
       "</style>\n",
       "<table border=\"1\" class=\"dataframe\">\n",
       "  <thead>\n",
       "    <tr style=\"text-align: right;\">\n",
       "      <th></th>\n",
       "      <th>Zip</th>\n",
       "      <th>City</th>\n",
       "    </tr>\n",
       "  </thead>\n",
       "  <tbody>\n",
       "    <tr>\n",
       "      <th>0</th>\n",
       "      <td>79936</td>\n",
       "      <td>El Paso TX</td>\n",
       "    </tr>\n",
       "    <tr>\n",
       "      <th>1</th>\n",
       "      <td>90011</td>\n",
       "      <td>Los Angeles CA</td>\n",
       "    </tr>\n",
       "    <tr>\n",
       "      <th>2</th>\n",
       "      <td>60629</td>\n",
       "      <td>Chicago IL</td>\n",
       "    </tr>\n",
       "    <tr>\n",
       "      <th>3</th>\n",
       "      <td>90650</td>\n",
       "      <td>Norwalk CA</td>\n",
       "    </tr>\n",
       "    <tr>\n",
       "      <th>4</th>\n",
       "      <td>90201</td>\n",
       "      <td>Bell Gardens CA</td>\n",
       "    </tr>\n",
       "  </tbody>\n",
       "</table>\n",
       "</div>"
      ],
      "text/plain": [
       "     Zip             City\n",
       "0  79936       El Paso TX\n",
       "1  90011   Los Angeles CA\n",
       "2  60629       Chicago IL\n",
       "3  90650       Norwalk CA\n",
       "4  90201  Bell Gardens CA"
      ]
     },
     "execution_count": 7,
     "metadata": {},
     "output_type": "execute_result"
    }
   ],
   "source": [
    "df.head()"
   ]
  },
  {
   "cell_type": "code",
   "execution_count": null,
   "id": "75be0a95",
   "metadata": {},
   "outputs": [],
   "source": [
    "for index, row in df.iterrows():\n",
    "    querystring[\"q\"] = row[\"City\"] + \" \" + str(row[\"Zipcode\"])\n",
    "    response = requests.request(\"GET\", url, headers=headers, params=querystring)\n",
    "    weather_data = json.loads(response.text)\n",
    "    city_weather = {\n",
    "        \"zip\": row[\"Zipcode\"],\n",
    "        \"city\": row[\"City\"],\n",
    "        \"created_at\": datetime.utcnow(),\n",
    "        \"weather\": weather_data\n",
    "    }\n",
    "    collection.insert_one(city_weather)"
   ]
  }
 ],
 "metadata": {
  "kernelspec": {
   "display_name": "Python 3 (ipykernel)",
   "language": "python",
   "name": "python3"
  },
  "language_info": {
   "codemirror_mode": {
    "name": "ipython",
    "version": 3
   },
   "file_extension": ".py",
   "mimetype": "text/x-python",
   "name": "python",
   "nbconvert_exporter": "python",
   "pygments_lexer": "ipython3",
   "version": "3.10.8"
  }
 },
 "nbformat": 4,
 "nbformat_minor": 5
}
