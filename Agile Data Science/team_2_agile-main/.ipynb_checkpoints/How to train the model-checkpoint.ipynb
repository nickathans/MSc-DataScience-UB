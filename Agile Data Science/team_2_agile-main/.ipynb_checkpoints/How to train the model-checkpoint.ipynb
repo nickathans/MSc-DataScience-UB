{
 "cells": [
  {
   "cell_type": "markdown",
   "id": "0a7ff9ed-6c8b-444c-bec4-f0ab3be0c916",
   "metadata": {},
   "source": [
    "First, we need to execute the \"MLflow server\" notebook. Then, change the required parameters in \"params.yaml\" and run:"
   ]
  },
  {
   "cell_type": "code",
   "execution_count": 3,
   "id": "4bdbb13b-255d-4aab-84f6-736ae817c052",
   "metadata": {},
   "outputs": [
    {
     "name": "stdout",
     "output_type": "stream",
     "text": [
      "Everything is up to date.\n",
      "'Webapp\\data\\external\\u.data.dvc' didn't change, skipping\n",
      "Stage 'load_data' didn't change, skipping\n",
      "Stage 'split_data' didn't change, skipping\n",
      "Stage 'train_model' didn't change, skipping\n",
      "Data and pipelines are up to date.\n"
     ]
    }
   ],
   "source": [
    "#!pip install dvc\n",
    "#!pip install dvc-gdrive\n",
    "\n",
    "#!dvc pull\n",
    "!dvc repro"
   ]
  },
  {
   "cell_type": "code",
   "execution_count": null,
   "id": "67fd3d3e",
   "metadata": {},
   "outputs": [],
   "source": []
  }
 ],
 "metadata": {
  "kernelspec": {
   "display_name": "Python 3 (ipykernel)",
   "language": "python",
   "name": "python3"
  },
  "language_info": {
   "codemirror_mode": {
    "name": "ipython",
    "version": 3
   },
   "file_extension": ".py",
   "mimetype": "text/x-python",
   "name": "python",
   "nbconvert_exporter": "python",
   "pygments_lexer": "ipython3",
   "version": "3.9.12"
  }
 },
 "nbformat": 4,
 "nbformat_minor": 5
}
