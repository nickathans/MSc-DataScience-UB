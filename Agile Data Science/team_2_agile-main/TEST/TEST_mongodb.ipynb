{
 "cells": [
  {
   "cell_type": "code",
   "execution_count": null,
   "metadata": {},
   "outputs": [],
   "source": [
    "import pymongo"
   ]
  },
  {
   "cell_type": "markdown",
   "id": "c86731bd",
   "metadata": {},
   "source": [
    "### Connect to the MongoDB DataBase"
   ]
  },
  {
   "cell_type": "code",
   "execution_count": null,
   "id": "73ea42d0",
   "metadata": {},
   "outputs": [],
   "source": [
    "from IPython.core.display import HTML\n",
    "def css_styling():   \n",
    "    styles = open(\"styles/custom.css\", \"r\").read() \n",
    "    return HTML(styles) "
   ]
  },
  {
   "cell_type": "code",
   "execution_count": null,
   "id": "2fc52a74",
   "metadata": {},
   "outputs": [
    {
     "ename": "FileNotFoundError",
     "evalue": "[Errno 2] No such file or directory: 'credentials.txt'",
     "output_type": "error",
     "traceback": [
      "\u001b[0;31m---------------------------------------------------------------------------\u001b[0m\n",
      "\u001b[0;31mFileNotFoundError\u001b[0m                         Traceback (most recent call last)\n",
      "\u001b[1;32m/home/zozoka/team_2_agile/Testing_db.ipynb Cell 14\u001b[0m in \u001b[0;36m<cell line: 1>\u001b[0;34m()\u001b[0m\n",
      "\u001b[1;32m      <a href='vscode-notebook-cell:/home/zozoka/team_2_agile/Testing_db.ipynb#X16sZmlsZQ%3D%3D?line=7'>8</a>\u001b[0m     conn\u001b[39m.\u001b[39mclose()\n",
      "\u001b[1;32m      <a href='vscode-notebook-cell:/home/zozoka/team_2_agile/Testing_db.ipynb#X16sZmlsZQ%3D%3D?line=8'>9</a>\u001b[0m     \u001b[39mprint\u001b[39m(\u001b[39m\"\u001b[39m\u001b[39mClosing\u001b[39m\u001b[39m\"\u001b[39m)\n",
      "\u001b[0;32m---> <a href='vscode-notebook-cell:/home/zozoka/team_2_agile/Testing_db.ipynb#X16sZmlsZQ%3D%3D?line=10'>11</a>\u001b[0m \u001b[39mwith\u001b[39;00m \u001b[39mopen\u001b[39;49m(\u001b[39m\"\u001b[39;49m\u001b[39mcredentials.txt\u001b[39;49m\u001b[39m\"\u001b[39;49m, \u001b[39m'\u001b[39;49m\u001b[39mr\u001b[39;49m\u001b[39m'\u001b[39;49m) \u001b[39mas\u001b[39;00m f:\n",
      "\u001b[1;32m     <a href='vscode-notebook-cell:/home/zozoka/team_2_agile/Testing_db.ipynb#X16sZmlsZQ%3D%3D?line=11'>12</a>\u001b[0m     [name,password,url,dbname]\u001b[39m=\u001b[39mf\u001b[39m.\u001b[39mread()\u001b[39m.\u001b[39msplitlines()\n",
      "\u001b[1;32m     <a href='vscode-notebook-cell:/home/zozoka/team_2_agile/Testing_db.ipynb#X16sZmlsZQ%3D%3D?line=12'>13</a>\u001b[0m conn\u001b[39m=\u001b[39mpymongo\u001b[39m.\u001b[39mMongoClient(\u001b[39m\"\u001b[39m\u001b[39mmongodb+srv://\u001b[39m\u001b[39m{}\u001b[39;00m\u001b[39m:\u001b[39m\u001b[39m{}\u001b[39;00m\u001b[39m@\u001b[39m\u001b[39m{}\u001b[39;00m\u001b[39m\"\u001b[39m\u001b[39m.\u001b[39mformat(name,password,url))\n",
      "\n",
      "\u001b[0;31mFileNotFoundError\u001b[0m: [Errno 2] No such file or directory: 'credentials.txt'"
     ]
    }
   ],
   "source": [
    "\n",
    "try:\n",
    "    #create a credentials.txt file in this folder:\n",
    "    #first line: Database username (not account username)\n",
    "    #second line: Database username password (not account password)\n",
    "    #third line: Databse url with port (you can find it in the cloud dashboard)\n",
    "    #fourth lin: Database name\n",
    "    if 'conn' in globals():\n",
    "        conn.close()\n",
    "        print(\"Closing\")\n",
    "    \n",
    "    with open(\"credentials.txt\", 'r') as f:\n",
    "        [name,password,url,dbname]=f.read().splitlines()\n",
    "    conn=pymongo.MongoClient(\"mongodb+srv://{}:{}@{}\".format(name,password,url))\n",
    "    print (\"Connected successfully!!!\")\n",
    "    print(name,password,url)\n",
    "    \n",
    "except pymongo.errors.ConnectionFailure as e:\n",
    "    print (\"Could not connect to MongoDB: %s\" % e) \n",
    "conn\n",
    "db = conn[dbname]\n",
    "db"
   ]
  },
  {
   "cell_type": "markdown",
   "id": "bfed48aa",
   "metadata": {},
   "source": [
    "### Creating a json file from DataFrame"
   ]
  },
  {
   "cell_type": "code",
   "execution_count": null,
   "id": "064723bb",
   "metadata": {},
   "outputs": [],
   "source": [
    "import json\n",
    "\n",
    "records = json.loads(lens.T.to_json()).values()"
   ]
  },
  {
   "cell_type": "code",
   "execution_count": null,
   "id": "29ce30e6",
   "metadata": {},
   "outputs": [],
   "source": [
    "#Create a database using db = conn.name_db or dictionary access db = conn['name_db']\n",
    "db = conn['TEST']\n",
    "print (db)\n",
    "conn.list_database_names()\n",
    "#Empty databases do not show!"
   ]
  },
  {
   "cell_type": "code",
   "execution_count": null,
   "id": "d7df42a2",
   "metadata": {},
   "outputs": [],
   "source": [
    "collection = db.edu\n",
    "db.list_collection_names()\n",
    "#Empty collections do not show!"
   ]
  },
  {
   "cell_type": "code",
   "execution_count": null,
   "id": "8a2680ba",
   "metadata": {},
   "outputs": [],
   "source": [
    "lens.to_dict(\"records\")"
   ]
  },
  {
   "cell_type": "code",
   "execution_count": null,
   "id": "24fd1542",
   "metadata": {},
   "outputs": [],
   "source": [
    "#insert documents in the collection\n",
    "collection.insert_many(lens.to_dict(\"records\"))"
   ]
  },
  {
   "cell_type": "code",
   "execution_count": null,
   "id": "c8774a9d",
   "metadata": {},
   "outputs": [],
   "source": [
    "#Check that we have a non empty collection.\n",
    "db.list_collection_names()"
   ]
  },
  {
   "cell_type": "code",
   "execution_count": null,
   "id": "68b177e3",
   "metadata": {},
   "outputs": [],
   "source": [
    "#mongoimport --db dbmovies --collection collectionName --file fileName.json --jsonArray"
   ]
  },
  {
   "cell_type": "code",
   "execution_count": null,
   "id": "c1d8f4b6",
   "metadata": {},
   "outputs": [],
   "source": [
    "#db.myCollection.insert(records)"
   ]
  },
  {
   "cell_type": "markdown",
   "id": "6ea8e4d5",
   "metadata": {},
   "source": [
    "### Retrieving Data"
   ]
  },
  {
   "cell_type": "code",
   "execution_count": null,
   "id": "a86b9198",
   "metadata": {},
   "outputs": [],
   "source": [
    "collection.find_one() #Returns first document in the collection"
   ]
  }
 ],
 "metadata": {
  "kernelspec": {
   "display_name": "Python 3.10.4 ('ds')",
   "language": "python",
   "name": "python3"
  },
  "language_info": {
   "name": "python",
   "version": "3.10.4"
  },
  "orig_nbformat": 4,
  "vscode": {
   "interpreter": {
    "hash": "5e3c6f8e55b2e96e670335704fb0fb6646b6921df571e619e19c71c88509979d"
   }
  }
 },
 "nbformat": 4,
 "nbformat_minor": 2
}
