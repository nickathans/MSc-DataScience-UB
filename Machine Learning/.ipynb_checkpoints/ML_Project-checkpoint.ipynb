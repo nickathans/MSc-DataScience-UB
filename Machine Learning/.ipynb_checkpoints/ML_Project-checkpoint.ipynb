{
 "cells": [
  {
   "cell_type": "markdown",
   "metadata": {
    "datalore": {
     "hide_input_from_viewers": false,
     "hide_output_from_viewers": false,
     "node_id": "Fake_ads",
     "sheet_delimiter": true,
     "type": "MD"
    }
   },
   "source": [
    "# Predicting fake jobs ads."
   ]
  },
  {
   "cell_type": "code",
   "execution_count": 4,
   "metadata": {
    "datalore": {
     "hide_input_from_viewers": true,
     "hide_output_from_viewers": true,
     "node_id": "xzZXffKIs5LM95vYgZ9Od8",
     "type": "CODE"
    }
   },
   "outputs": [
    {
     "name": "stdout",
     "output_type": "stream",
     "text": [
      "Requirement already satisfied: nltk in /opt/anaconda3/lib/python3.9/site-packages (3.7)\n",
      "Requirement already satisfied: click in /opt/anaconda3/lib/python3.9/site-packages (from nltk) (8.0.4)\n",
      "Requirement already satisfied: regex>=2021.8.3 in /opt/anaconda3/lib/python3.9/site-packages (from nltk) (2022.3.15)\n",
      "Requirement already satisfied: tqdm in /opt/anaconda3/lib/python3.9/site-packages (from nltk) (4.64.0)\n",
      "Requirement already satisfied: joblib in /opt/anaconda3/lib/python3.9/site-packages (from nltk) (1.1.0)\n",
      "Requirement already satisfied: imblearn in /opt/anaconda3/lib/python3.9/site-packages (0.0)\n",
      "Requirement already satisfied: imbalanced-learn in /opt/anaconda3/lib/python3.9/site-packages (from imblearn) (0.9.1)\n",
      "Requirement already satisfied: scikit-learn>=1.1.0 in /opt/anaconda3/lib/python3.9/site-packages (from imbalanced-learn->imblearn) (1.1.2)\n",
      "Requirement already satisfied: threadpoolctl>=2.0.0 in /opt/anaconda3/lib/python3.9/site-packages (from imbalanced-learn->imblearn) (2.2.0)\n",
      "Requirement already satisfied: scipy>=1.3.2 in /opt/anaconda3/lib/python3.9/site-packages (from imbalanced-learn->imblearn) (1.7.3)\n",
      "Requirement already satisfied: numpy>=1.17.3 in /opt/anaconda3/lib/python3.9/site-packages (from imbalanced-learn->imblearn) (1.21.5)\n",
      "Requirement already satisfied: joblib>=1.0.0 in /opt/anaconda3/lib/python3.9/site-packages (from imbalanced-learn->imblearn) (1.1.0)\n"
     ]
    }
   ],
   "source": [
    "!pip install nltk\n",
    "!pip install imblearn"
   ]
  },
  {
   "cell_type": "code",
   "execution_count": 1,
   "metadata": {
    "datalore": {
     "hide_input_from_viewers": true,
     "hide_output_from_viewers": true,
     "node_id": "qpqLgzWldc1NxHZqYfuY13",
     "type": "CODE"
    }
   },
   "outputs": [],
   "source": [
    "import warnings\n",
    "import matplotlib.pyplot as plt\n",
    "import nltk\n",
    "import numpy as np\n",
    "import pandas as pd\n",
    "import pickle\n",
    "import re\n",
    "import string\n",
    "from nltk.corpus import stopwords\n",
    "from nltk.stem import WordNetLemmatizer\n",
    "from sklearn.base import TransformerMixin, BaseEstimator\n",
    "from sklearn.feature_extraction.text import TfidfVectorizer\n",
    "from sklearn.metrics import (\n",
    "    accuracy_score,\n",
    "    classification_report,\n",
    "    confusion_matrix,\n",
    "    plot_confusion_matrix,\n",
    "    recall_score,\n",
    "    roc_auc_score,\n",
    ")\n",
    "from sklearn.model_selection import train_test_split, GridSearchCV\n",
    "\n",
    "from sklearn.pipeline import FeatureUnion, Pipeline\n",
    "from sklearn.preprocessing import (\n",
    "    OneHotEncoder,\n",
    "    StandardScaler,\n",
    ")\n",
    "\n",
    "from sklearn.svm import LinearSVC\n",
    "from sklearn.feature_selection import SelectFromModel\n",
    "\n",
    "from imblearn.over_sampling import SMOTE\n",
    "from imblearn.pipeline import Pipeline as imbPipeline\n",
    "\n",
    "warnings.filterwarnings(\"ignore\")"
   ]
  },
  {
   "cell_type": "code",
   "execution_count": 2,
   "metadata": {
    "datalore": {
     "hide_input_from_viewers": false,
     "hide_output_from_viewers": false,
     "node_id": "pOII3yC4k31cI158yL1oLY",
     "report_properties": {},
     "type": "CODE"
    }
   },
   "outputs": [],
   "source": [
    "#Reading data set\n",
    "df = pd.read_csv('train.csv')\n",
    "df_ = pd.read_csv('test.csv')\n",
    "df.rename(columns={'required_doughnuts_comsumption': 'doughnuts_comsumption'}, inplace=True)"
   ]
  },
  {
   "cell_type": "markdown",
   "metadata": {},
   "source": [
    "In our implementation we replaced the NaN values with the word: 'missing', followed by the name of each column. For example, for the column salary range the NaN values was replaced by the text: 'missingsalaryrange'."
   ]
  },
  {
   "cell_type": "code",
   "execution_count": 3,
   "metadata": {
    "datalore": {
     "hide_input_from_viewers": true,
     "hide_output_from_viewers": true,
     "node_id": "jqUEnNrQ4mdFVZC86u3PHy",
     "type": "CODE"
    }
   },
   "outputs": [],
   "source": [
    "# replacing missing values\n",
    "for column in df_.columns:\n",
    "    df[column] = df[column].fillna(f\"missing{column}\")\n",
    "    df_[column] = df_[column].fillna(f\"missing{column}\")"
   ]
  },
  {
   "cell_type": "markdown",
   "metadata": {},
   "source": [
    "We also created a new column named \"country\", which we extracted from the column location."
   ]
  },
  {
   "cell_type": "code",
   "execution_count": 5,
   "metadata": {
    "datalore": {
     "hide_input_from_viewers": true,
     "hide_output_from_viewers": true,
     "node_id": "CQ2DTPMASQ1FRED9sPJxiG",
     "type": "CODE"
    }
   },
   "outputs": [],
   "source": [
    "def split(location):\n",
    "    l = location.split(\",\")\n",
    "    return l[0]\n",
    "\n",
    "\n",
    "df[\"country\"] = df.location.apply(split)\n",
    "df_[\"country\"] = df.location.apply(split)"
   ]
  },
  {
   "cell_type": "markdown",
   "metadata": {},
   "source": [
    "The content of the column description was replaced with the merged text from the columns that are shown in the following list all together."
   ]
  },
  {
   "cell_type": "code",
   "execution_count": 6,
   "metadata": {
    "datalore": {
     "hide_input_from_viewers": true,
     "hide_output_from_viewers": true,
     "node_id": "LXhqBvk5Y0s0pzEbwQPNAJ",
     "type": "CODE"
    }
   },
   "outputs": [],
   "source": [
    "# concatinating the text features\n",
    "text_cols = [\n",
    "    \"title\",\n",
    "    \"location\",\n",
    "    \"department\",\n",
    "    \"salary_range\",\n",
    "    \"company_profile\",\n",
    "    \"requirements\",\n",
    "    \"benefits\",\n",
    "    \"employment_type\",\n",
    "    \"required_experience\",\n",
    "    \"required_education\",\n",
    "    \"industry\",\n",
    "    \"function\",\n",
    "    \"country\",\n",
    "]\n",
    "\n",
    "for column in text_cols:\n",
    "    df[\"description\"] += \" \" + df[column]\n",
    "    df_[\"description\"] += \" \" + df_[column]"
   ]
  },
  {
   "cell_type": "code",
   "execution_count": 7,
   "metadata": {
    "datalore": {
     "hide_input_from_viewers": true,
     "hide_output_from_viewers": true,
     "node_id": "AT3G2POfEYBns8crdkRt7Y",
     "type": "CODE"
    }
   },
   "outputs": [
    {
     "name": "stderr",
     "output_type": "stream",
     "text": [
      "[nltk_data] Downloading package punkt to /home/datalore/nltk_data...\n",
      "[nltk_data]   Unzipping tokenizers/punkt.zip.\n",
      "[nltk_data] Downloading package wordnet to /home/datalore/nltk_data...\n",
      "[nltk_data] Downloading package stopwords to\n",
      "[nltk_data]     /home/datalore/nltk_data...\n",
      "[nltk_data]   Unzipping corpora/stopwords.zip.\n",
      "[nltk_data] Downloading package omw-1.4 to /home/datalore/nltk_data...\n"
     ]
    }
   ],
   "source": [
    "# Downloading data from NLTK\n",
    "nltk.download(\"punkt\")\n",
    "nltk.download(\"wordnet\")\n",
    "nltk.download(\"stopwords\")\n",
    "nltk.download(\"omw-1.4\")\n",
    "stop_words = list(stopwords.words(\"english\"))\n",
    "punctuations = string.punctuation"
   ]
  },
  {
   "cell_type": "markdown",
   "metadata": {},
   "source": [
    "## **Data cleaning**"
   ]
  },
  {
   "cell_type": "markdown",
   "metadata": {},
   "source": [
    "Furthermore, we cleaned the content of the column \"description\" that contains the text for each row combined. To be more specific, we applied the following procedures:\n",
    "- Remove special characters\n",
    "- Lower case\n",
    "- Remove punctuations\n",
    "- Stopwords Removal (e.g. \"a\", \"the\",.. etc)\n",
    "- Lemmatize Text: we keep only the words in simple format e.g. doing -> do\n",
    "- Remove url's"
   ]
  },
  {
   "cell_type": "code",
   "execution_count": 8,
   "metadata": {
    "datalore": {
     "hide_input_from_viewers": true,
     "hide_output_from_viewers": true,
     "node_id": "BuNF8rxYr1kRqOeyjlKiFq",
     "type": "CODE"
    }
   },
   "outputs": [],
   "source": [
    "df[\"Content_Parsed_1\"] = df[\"description\"].str.replace(\"\\r\", \" \")\n",
    "df[\"Content_Parsed_1\"] = df[\"Content_Parsed_1\"].str.replace(\"\\n\", \" \")\n",
    "df[\"Content_Parsed_1\"] = df[\"Content_Parsed_1\"].str.replace(\"    \", \" \")\n",
    "df[\"Content_Parsed_1\"] = df[\"Content_Parsed_1\"].str.replace('\"', \"\")\n",
    "df[\"Content_Parsed_1\"] = df[\"Content_Parsed_1\"].str.lower()\n",
    "df[\"Content_Parsed_1\"] = df[\"Content_Parsed_1\"].str.replace(\"'s\", \"\")\n",
    "\n",
    "df_[\"Content_Parsed_1\"] = df_[\"description\"].str.replace(\"\\r\", \" \")\n",
    "df_[\"Content_Parsed_1\"] = df_[\"Content_Parsed_1\"].str.replace(\"\\n\", \" \")\n",
    "df_[\"Content_Parsed_1\"] = df_[\"Content_Parsed_1\"].str.replace(\"    \", \" \")\n",
    "df_[\"Content_Parsed_1\"] = df_[\"Content_Parsed_1\"].str.replace('\"', \"\")\n",
    "df_[\"Content_Parsed_1\"] = df_[\"Content_Parsed_1\"].str.lower()\n",
    "df_[\"Content_Parsed_1\"] = df_[\"Content_Parsed_1\"].str.replace(\"'s\", \"\")"
   ]
  },
  {
   "cell_type": "code",
   "execution_count": 9,
   "metadata": {
    "datalore": {
     "hide_input_from_viewers": true,
     "hide_output_from_viewers": true,
     "node_id": "KcSF3NTbhwR46NUpljRQNn",
     "type": "CODE"
    }
   },
   "outputs": [],
   "source": [
    "for punct_sign in punctuations:\n",
    "    df[\"Content_Parsed_1\"] = df[\"Content_Parsed_1\"].str.replace(punct_sign, \"\")\n",
    "    df_[\"Content_Parsed_1\"] = df_[\"Content_Parsed_1\"].str.replace(punct_sign, \"\")\n",
    "\n",
    "for stop_word in stop_words:\n",
    "    regex_stopword = r\"\\b\" + stop_word + r\"\\b\"\n",
    "    df[\"Content_Parsed_1\"] = df[\"Content_Parsed_1\"].str.replace(regex_stopword, \"\")\n",
    "    df_[\"Content_Parsed_1\"] = df_[\"Content_Parsed_1\"].str.replace(regex_stopword, \"\")"
   ]
  },
  {
   "cell_type": "code",
   "execution_count": 10,
   "metadata": {
    "datalore": {
     "hide_input_from_viewers": true,
     "hide_output_from_viewers": true,
     "node_id": "029SqV8MzqS11kXMdKkpdm",
     "type": "CODE"
    }
   },
   "outputs": [],
   "source": [
    "wordnet_lemmatizer = WordNetLemmatizer()\n",
    "nrows = len(df)\n",
    "lemmatized_text_list = []\n",
    "\n",
    "for row in range(0, nrows):\n",
    "    lemmatized_list = []\n",
    "    text = df.loc[row][\"Content_Parsed_1\"]\n",
    "    text_words = text.split(\" \")\n",
    "\n",
    "    for word in text_words:\n",
    "        lemmatized_list.append(wordnet_lemmatizer.lemmatize(word, pos=\"v\"))\n",
    "\n",
    "    lemmatized_text = \" \".join(lemmatized_list)\n",
    "    lemmatized_text_list.append(lemmatized_text)\n",
    "\n",
    "nrows_ = len(df_)\n",
    "lemmatized_text_list_ = []\n",
    "\n",
    "for row in range(0, nrows_):\n",
    "    lemmatized_list = []\n",
    "    text = df_.loc[row][\"Content_Parsed_1\"]\n",
    "    text_words = text.split(\" \")\n",
    "\n",
    "    for word in text_words:\n",
    "        lemmatized_list.append(wordnet_lemmatizer.lemmatize(word, pos=\"v\"))\n",
    "\n",
    "    lemmatized_text = \" \".join(lemmatized_list)\n",
    "    lemmatized_text_list_.append(lemmatized_text)"
   ]
  },
  {
   "cell_type": "code",
   "execution_count": 11,
   "metadata": {
    "datalore": {
     "hide_input_from_viewers": true,
     "hide_output_from_viewers": true,
     "node_id": "5mCLbkloPhhhjvP0WIDy89",
     "type": "CODE"
    }
   },
   "outputs": [],
   "source": [
    "df[\"Content_Parsed_1\"] = lemmatized_text_list\n",
    "df_[\"Content_Parsed_1\"] = lemmatized_text_list_"
   ]
  },
  {
   "cell_type": "code",
   "execution_count": 12,
   "metadata": {
    "datalore": {
     "hide_input_from_viewers": true,
     "hide_output_from_viewers": true,
     "node_id": "g3vpRtSWpB6ibBiHUr5yvC",
     "type": "CODE"
    }
   },
   "outputs": [
    {
     "data": {
      "text/html": []
     },
     "metadata": {},
     "output_type": "display_data"
    }
   ],
   "source": [
    "df[\"text_processed\"] = df[\"Content_Parsed_1\"].replace(\"’\", \"\")\n",
    "df[\"text_processed\"].apply(lambda x: re.sub(\"(email)|(url)\\w+\", \"\", x))\n",
    "df[\"text_processed\"].apply(lambda x: re.sub(\"\\w*\\d\\w*\", \"\", x))\n",
    "\n",
    "df_[\"text_processed\"] = df_[\"Content_Parsed_1\"].replace(\"’\", \"\")\n",
    "df_[\"text_processed\"].apply(lambda x: re.sub(\"(email)|(url)\\w+\", \"\", x))\n",
    "df_[\"text_processed\"].apply(lambda x: re.sub(\"\\w*\\d\\w*\", \"\", x))"
   ]
  },
  {
   "cell_type": "markdown",
   "metadata": {},
   "source": [
    "Additionaly, we created one more column \"text_len\", which has numerical values and more specifically contains the length of the text of the desctiption column."
   ]
  },
  {
   "cell_type": "code",
   "execution_count": 13,
   "metadata": {
    "datalore": {
     "hide_input_from_viewers": true,
     "hide_output_from_viewers": true,
     "node_id": "XWiMoSTR45JQXSabYyMa7n",
     "type": "CODE"
    }
   },
   "outputs": [],
   "source": [
    "df[\"text_len\"] = df[\"description\"].str.len()\n",
    "df_[\"text_len\"] = df_[\"description\"].str.len()"
   ]
  },
  {
   "cell_type": "markdown",
   "metadata": {},
   "source": [
    "We used the TfidfVectorizer for the combined text column(\"description\") in order to get numbers from text."
   ]
  },
  {
   "cell_type": "code",
   "execution_count": 14,
   "metadata": {
    "datalore": {
     "hide_input_from_viewers": true,
     "hide_output_from_viewers": true,
     "node_id": "EsYtfiRRjrOk6QcwTRZDbs",
     "type": "CODE"
    }
   },
   "outputs": [],
   "source": [
    "word_vectorizer = TfidfVectorizer(\n",
    "    encoding=\"utf-8\",\n",
    "    ngram_range=(1, 2),\n",
    "    stop_words=None,\n",
    "    lowercase=False,\n",
    "    max_df=10,\n",
    "    min_df=1,\n",
    "    max_features=8000,\n",
    "    norm=\"l2\",\n",
    "    sublinear_tf=True,\n",
    ")\n",
    "\n",
    "char_vectorizer = TfidfVectorizer(\n",
    "    sublinear_tf=True,\n",
    "    strip_accents=\"unicode\",\n",
    "    analyzer=\"char\",\n",
    "    ngram_range=(1, 4),\n",
    "    dtype=np.float32,\n",
    "    max_features=8000,\n",
    ")"
   ]
  },
  {
   "cell_type": "code",
   "execution_count": 15,
   "metadata": {
    "datalore": {
     "hide_input_from_viewers": true,
     "hide_output_from_viewers": true,
     "node_id": "NR0hwu283vnqD0PnyjqDvp",
     "type": "CODE"
    }
   },
   "outputs": [],
   "source": [
    "class DataFrameSelector(BaseEstimator, TransformerMixin):\n",
    "    def __init__(self, attribute_names):\n",
    "        self.attribute_names = attribute_names\n",
    "\n",
    "    def fit(self, X, y=None):\n",
    "        return self\n",
    "\n",
    "    def transform(self, X):\n",
    "        return X[self.attribute_names]"
   ]
  },
  {
   "cell_type": "markdown",
   "metadata": {},
   "source": [
    "## **Features selected**"
   ]
  },
  {
   "cell_type": "markdown",
   "metadata": {},
   "source": [
    "At the following cell we can see the final features that we used for our model, which are summirised below:\n",
    "- String Features = \"description\"\n",
    "- Categorical Features = \"country\", \"has_company_logo\", \"has_questions\", \"telecommuting\"\n",
    "- Numerical Features = \"text_len\""
   ]
  },
  {
   "cell_type": "code",
   "execution_count": 16,
   "metadata": {
    "datalore": {
     "hide_input_from_viewers": true,
     "hide_output_from_viewers": true,
     "node_id": "hjkznuWd4TSOvpa2ruHyiK",
     "type": "CODE"
    }
   },
   "outputs": [],
   "source": [
    "str_features = \"text_processed\"\n",
    "\n",
    "cat_features = [\"country\", \"has_company_logo\", \"has_questions\", \"telecommuting\"]\n",
    "\n",
    "num_features = [  #'num',\n",
    "    #'doughnuts_comsumption',\n",
    "    \"text_len\",\n",
    "    #\"job_id\",\n",
    "    #'word_counts',\n",
    "    #'characters_per_word'\n",
    "]"
   ]
  },
  {
   "cell_type": "code",
   "execution_count": 17,
   "metadata": {
    "datalore": {
     "hide_input_from_viewers": true,
     "hide_output_from_viewers": true,
     "node_id": "ErAJI87M1zs8Sh2relFIWw",
     "type": "CODE"
    }
   },
   "outputs": [],
   "source": [
    "text_word = Pipeline(\n",
    "    [(\"selector\", DataFrameSelector(str_features)), (\"vectorizer\", word_vectorizer)]\n",
    ")\n",
    "text_char = Pipeline(\n",
    "    [(\"selector\", DataFrameSelector(str_features)), (\"vectorizer\", char_vectorizer)]\n",
    ")\n",
    "\n",
    "text = FeatureUnion([(\"text_word\", text_word), (\"text_char\", text_char)])"
   ]
  },
  {
   "cell_type": "code",
   "execution_count": 18,
   "metadata": {
    "datalore": {
     "hide_input_from_viewers": true,
     "hide_output_from_viewers": true,
     "node_id": "15Px1GLT11e2EwBIhLSYaw",
     "type": "CODE"
    }
   },
   "outputs": [],
   "source": [
    "num_feats = Pipeline(\n",
    "    [\n",
    "        (\"selector\", DataFrameSelector(num_features)),\n",
    "        # ('standard', StandardScaler())\n",
    "    ]\n",
    ")"
   ]
  },
  {
   "cell_type": "code",
   "execution_count": 19,
   "metadata": {
    "datalore": {
     "hide_input_from_viewers": true,
     "hide_output_from_viewers": true,
     "node_id": "wiUel9cuZIC5YydisONWRi",
     "type": "CODE"
    }
   },
   "outputs": [],
   "source": [
    "cat_feats = Pipeline(\n",
    "    [\n",
    "        (\"selector\", DataFrameSelector(cat_features)),\n",
    "        (\"encode\", OneHotEncoder(handle_unknown=\"ignore\")),\n",
    "    ]\n",
    ")"
   ]
  },
  {
   "cell_type": "code",
   "execution_count": 20,
   "metadata": {
    "datalore": {
     "hide_input_from_viewers": true,
     "hide_output_from_viewers": true,
     "node_id": "d8YTpcB6rhjzTXxVDyOdAu",
     "type": "CODE"
    }
   },
   "outputs": [],
   "source": [
    "feats = FeatureUnion(\n",
    "    [(\"text\", text), (\"num_feats\", num_feats), (\"cat_feats\", cat_feats)]\n",
    ")"
   ]
  },
  {
   "cell_type": "code",
   "execution_count": 21,
   "metadata": {
    "datalore": {
     "hide_input_from_viewers": true,
     "hide_output_from_viewers": true,
     "node_id": "RxQfNYaiLt9bYMDV33H1z4",
     "type": "CODE"
    }
   },
   "outputs": [],
   "source": [
    "pickle.dump(df, open(\"data_clean.pkl\", \"wb\"))"
   ]
  },
  {
   "cell_type": "code",
   "execution_count": 22,
   "metadata": {
    "datalore": {
     "hide_input_from_viewers": true,
     "hide_output_from_viewers": true,
     "node_id": "RoALFKHtmCKKbpukRqMHOG",
     "type": "CODE"
    }
   },
   "outputs": [],
   "source": [
    "y = df[\"fraudulent\"]\n",
    "X_train, X_test, y_train, y_test = train_test_split(df, y, test_size=0.2)\n",
    "X_ = df_"
   ]
  },
  {
   "cell_type": "markdown",
   "metadata": {},
   "source": [
    "## **Classifier Selection**"
   ]
  },
  {
   "cell_type": "markdown",
   "metadata": {},
   "source": [
    "As far as it concerns the classifier selection, we tried a lot of different classifiers, such as:\n",
    "- LogisticRegression\n",
    "- XGBoost\n",
    "\n",
    "But we had the best performance when we used the LinearSVC classifier and therefore this is the classifier that we finally have chosen for our model."
   ]
  },
  {
   "cell_type": "markdown",
   "metadata": {},
   "source": [
    "Only for the training we used SMOTE in order to oversample the minority class(ones), by duplicating some examples."
   ]
  },
  {
   "cell_type": "markdown",
   "metadata": {},
   "source": [
    "We should also underline the fact that we used the StandardScaler, so that our numerical values would be between 0 and 1."
   ]
  },
  {
   "cell_type": "markdown",
   "metadata": {},
   "source": [
    "The aforementioned procedures were implemented using a Pipeline that has the properties that are shown below."
   ]
  },
  {
   "cell_type": "code",
   "execution_count": 23,
   "metadata": {
    "datalore": {
     "hide_input_from_viewers": true,
     "hide_output_from_viewers": true,
     "node_id": "EsB4YdQtpAfQWQvOa0szAM",
     "type": "CODE"
    }
   },
   "outputs": [
    {
     "data": {
      "text/html": [
       "<style>#sk-container-id-1 {color: black;background-color: white;}#sk-container-id-1 pre{padding: 0;}#sk-container-id-1 div.sk-toggleable {background-color: white;}#sk-container-id-1 label.sk-toggleable__label {cursor: pointer;display: block;width: 100%;margin-bottom: 0;padding: 0.3em;box-sizing: border-box;text-align: center;}#sk-container-id-1 label.sk-toggleable__label-arrow:before {content: \"▸\";float: left;margin-right: 0.25em;color: #696969;}#sk-container-id-1 label.sk-toggleable__label-arrow:hover:before {color: black;}#sk-container-id-1 div.sk-estimator:hover label.sk-toggleable__label-arrow:before {color: black;}#sk-container-id-1 div.sk-toggleable__content {max-height: 0;max-width: 0;overflow: hidden;text-align: left;background-color: #f0f8ff;}#sk-container-id-1 div.sk-toggleable__content pre {margin: 0.2em;color: black;border-radius: 0.25em;background-color: #f0f8ff;}#sk-container-id-1 input.sk-toggleable__control:checked~div.sk-toggleable__content {max-height: 200px;max-width: 100%;overflow: auto;}#sk-container-id-1 input.sk-toggleable__control:checked~label.sk-toggleable__label-arrow:before {content: \"▾\";}#sk-container-id-1 div.sk-estimator input.sk-toggleable__control:checked~label.sk-toggleable__label {background-color: #d4ebff;}#sk-container-id-1 div.sk-label input.sk-toggleable__control:checked~label.sk-toggleable__label {background-color: #d4ebff;}#sk-container-id-1 input.sk-hidden--visually {border: 0;clip: rect(1px 1px 1px 1px);clip: rect(1px, 1px, 1px, 1px);height: 1px;margin: -1px;overflow: hidden;padding: 0;position: absolute;width: 1px;}#sk-container-id-1 div.sk-estimator {font-family: monospace;background-color: #f0f8ff;border: 1px dotted black;border-radius: 0.25em;box-sizing: border-box;margin-bottom: 0.5em;}#sk-container-id-1 div.sk-estimator:hover {background-color: #d4ebff;}#sk-container-id-1 div.sk-parallel-item::after {content: \"\";width: 100%;border-bottom: 1px solid gray;flex-grow: 1;}#sk-container-id-1 div.sk-label:hover label.sk-toggleable__label {background-color: #d4ebff;}#sk-container-id-1 div.sk-serial::before {content: \"\";position: absolute;border-left: 1px solid gray;box-sizing: border-box;top: 0;bottom: 0;left: 50%;z-index: 0;}#sk-container-id-1 div.sk-serial {display: flex;flex-direction: column;align-items: center;background-color: white;padding-right: 0.2em;padding-left: 0.2em;position: relative;}#sk-container-id-1 div.sk-item {position: relative;z-index: 1;}#sk-container-id-1 div.sk-parallel {display: flex;align-items: stretch;justify-content: center;background-color: white;position: relative;}#sk-container-id-1 div.sk-item::before, #sk-container-id-1 div.sk-parallel-item::before {content: \"\";position: absolute;border-left: 1px solid gray;box-sizing: border-box;top: 0;bottom: 0;left: 50%;z-index: -1;}#sk-container-id-1 div.sk-parallel-item {display: flex;flex-direction: column;z-index: 1;position: relative;background-color: white;}#sk-container-id-1 div.sk-parallel-item:first-child::after {align-self: flex-end;width: 50%;}#sk-container-id-1 div.sk-parallel-item:last-child::after {align-self: flex-start;width: 50%;}#sk-container-id-1 div.sk-parallel-item:only-child::after {width: 0;}#sk-container-id-1 div.sk-dashed-wrapped {border: 1px dashed gray;margin: 0 0.4em 0.5em 0.4em;box-sizing: border-box;padding-bottom: 0.4em;background-color: white;}#sk-container-id-1 div.sk-label label {font-family: monospace;font-weight: bold;display: inline-block;line-height: 1.2em;}#sk-container-id-1 div.sk-label-container {text-align: center;}#sk-container-id-1 div.sk-container {/* jupyter's `normalize.less` sets `[hidden] { display: none; }` but bootstrap.min.css set `[hidden] { display: none !important; }` so we also need the `!important` here to be able to override the default hidden behavior on the sphinx rendered scikit-learn.org. See: https://github.com/scikit-learn/scikit-learn/issues/21755 */display: inline-block !important;position: relative;}#sk-container-id-1 div.sk-text-repr-fallback {display: none;}</style><div id=\"sk-container-id-1\" class=\"sk-top-container\"><div class=\"sk-text-repr-fallback\"><pre>Pipeline(steps=[(&#x27;features&#x27;,\n",
       "                 FeatureUnion(transformer_list=[(&#x27;text&#x27;,\n",
       "                                                 FeatureUnion(transformer_list=[(&#x27;text_word&#x27;,\n",
       "                                                                                 Pipeline(steps=[(&#x27;selector&#x27;,\n",
       "                                                                                                  DataFrameSelector(attribute_names=&#x27;text_processed&#x27;)),\n",
       "                                                                                                 (&#x27;vectorizer&#x27;,\n",
       "                                                                                                  TfidfVectorizer(lowercase=False,\n",
       "                                                                                                                  max_df=10,\n",
       "                                                                                                                  max_features=8000,\n",
       "                                                                                                                  ngram_range=(1,\n",
       "                                                                                                                               2),\n",
       "                                                                                                                  sublinear_tf=True))])),\n",
       "                                                                                (&#x27;text_char&#x27;,\n",
       "                                                                                 Pipeline(steps=[(&#x27;selector&#x27;,\n",
       "                                                                                                  Da...\n",
       "                                                                  DataFrameSelector(attribute_names=[&#x27;text_len&#x27;]))])),\n",
       "                                                (&#x27;cat_feats&#x27;,\n",
       "                                                 Pipeline(steps=[(&#x27;selector&#x27;,\n",
       "                                                                  DataFrameSelector(attribute_names=[&#x27;country&#x27;,\n",
       "                                                                                                     &#x27;has_company_logo&#x27;,\n",
       "                                                                                                     &#x27;has_questions&#x27;,\n",
       "                                                                                                     &#x27;telecommuting&#x27;])),\n",
       "                                                                 (&#x27;encode&#x27;,\n",
       "                                                                  OneHotEncoder(handle_unknown=&#x27;ignore&#x27;))]))])),\n",
       "                (&#x27;standard&#x27;, StandardScaler(with_mean=False)),\n",
       "                (&#x27;selector&#x27;, SelectFromModel(estimator=LinearSVC())),\n",
       "                (&#x27;SMOTE&#x27;, SMOTE()), (&#x27;classifier&#x27;, LinearSVC())])</pre><b>In a Jupyter environment, please rerun this cell to show the HTML representation or trust the notebook. <br />On GitHub, the HTML representation is unable to render, please try loading this page with nbviewer.org.</b></div><div class=\"sk-container\" hidden><div class=\"sk-item sk-dashed-wrapped\"><div class=\"sk-label-container\"><div class=\"sk-label sk-toggleable\"><input class=\"sk-toggleable__control sk-hidden--visually\" id=\"sk-estimator-id-1\" type=\"checkbox\" ><label for=\"sk-estimator-id-1\" class=\"sk-toggleable__label sk-toggleable__label-arrow\">Pipeline</label><div class=\"sk-toggleable__content\"><pre>Pipeline(steps=[(&#x27;features&#x27;,\n",
       "                 FeatureUnion(transformer_list=[(&#x27;text&#x27;,\n",
       "                                                 FeatureUnion(transformer_list=[(&#x27;text_word&#x27;,\n",
       "                                                                                 Pipeline(steps=[(&#x27;selector&#x27;,\n",
       "                                                                                                  DataFrameSelector(attribute_names=&#x27;text_processed&#x27;)),\n",
       "                                                                                                 (&#x27;vectorizer&#x27;,\n",
       "                                                                                                  TfidfVectorizer(lowercase=False,\n",
       "                                                                                                                  max_df=10,\n",
       "                                                                                                                  max_features=8000,\n",
       "                                                                                                                  ngram_range=(1,\n",
       "                                                                                                                               2),\n",
       "                                                                                                                  sublinear_tf=True))])),\n",
       "                                                                                (&#x27;text_char&#x27;,\n",
       "                                                                                 Pipeline(steps=[(&#x27;selector&#x27;,\n",
       "                                                                                                  Da...\n",
       "                                                                  DataFrameSelector(attribute_names=[&#x27;text_len&#x27;]))])),\n",
       "                                                (&#x27;cat_feats&#x27;,\n",
       "                                                 Pipeline(steps=[(&#x27;selector&#x27;,\n",
       "                                                                  DataFrameSelector(attribute_names=[&#x27;country&#x27;,\n",
       "                                                                                                     &#x27;has_company_logo&#x27;,\n",
       "                                                                                                     &#x27;has_questions&#x27;,\n",
       "                                                                                                     &#x27;telecommuting&#x27;])),\n",
       "                                                                 (&#x27;encode&#x27;,\n",
       "                                                                  OneHotEncoder(handle_unknown=&#x27;ignore&#x27;))]))])),\n",
       "                (&#x27;standard&#x27;, StandardScaler(with_mean=False)),\n",
       "                (&#x27;selector&#x27;, SelectFromModel(estimator=LinearSVC())),\n",
       "                (&#x27;SMOTE&#x27;, SMOTE()), (&#x27;classifier&#x27;, LinearSVC())])</pre></div></div></div><div class=\"sk-serial\"><div class=\"sk-item sk-dashed-wrapped\"><div class=\"sk-label-container\"><div class=\"sk-label sk-toggleable\"><input class=\"sk-toggleable__control sk-hidden--visually\" id=\"sk-estimator-id-2\" type=\"checkbox\" ><label for=\"sk-estimator-id-2\" class=\"sk-toggleable__label sk-toggleable__label-arrow\">features: FeatureUnion</label><div class=\"sk-toggleable__content\"><pre>FeatureUnion(transformer_list=[(&#x27;text&#x27;,\n",
       "                                FeatureUnion(transformer_list=[(&#x27;text_word&#x27;,\n",
       "                                                                Pipeline(steps=[(&#x27;selector&#x27;,\n",
       "                                                                                 DataFrameSelector(attribute_names=&#x27;text_processed&#x27;)),\n",
       "                                                                                (&#x27;vectorizer&#x27;,\n",
       "                                                                                 TfidfVectorizer(lowercase=False,\n",
       "                                                                                                 max_df=10,\n",
       "                                                                                                 max_features=8000,\n",
       "                                                                                                 ngram_range=(1,\n",
       "                                                                                                              2),\n",
       "                                                                                                 sublinear_tf=True))])),\n",
       "                                                               (&#x27;text_char&#x27;,\n",
       "                                                                Pipeline(steps=[(&#x27;selector&#x27;,\n",
       "                                                                                 DataFrameSelector(attribute_na...\n",
       "                                                                                                 ngram_range=(1,\n",
       "                                                                                                              4),\n",
       "                                                                                                 strip_accents=&#x27;unicode&#x27;,\n",
       "                                                                                                 sublinear_tf=True))]))])),\n",
       "                               (&#x27;num_feats&#x27;,\n",
       "                                Pipeline(steps=[(&#x27;selector&#x27;,\n",
       "                                                 DataFrameSelector(attribute_names=[&#x27;text_len&#x27;]))])),\n",
       "                               (&#x27;cat_feats&#x27;,\n",
       "                                Pipeline(steps=[(&#x27;selector&#x27;,\n",
       "                                                 DataFrameSelector(attribute_names=[&#x27;country&#x27;,\n",
       "                                                                                    &#x27;has_company_logo&#x27;,\n",
       "                                                                                    &#x27;has_questions&#x27;,\n",
       "                                                                                    &#x27;telecommuting&#x27;])),\n",
       "                                                (&#x27;encode&#x27;,\n",
       "                                                 OneHotEncoder(handle_unknown=&#x27;ignore&#x27;))]))])</pre></div></div></div><div class=\"sk-parallel\"><div class=\"sk-parallel-item\"><div class=\"sk-item\"><div class=\"sk-label-container\"><div class=\"sk-label sk-toggleable\"><label>text</label></div></div><div class=\"sk-serial\"><div class=\"sk-item sk-dashed-wrapped\"><div class=\"sk-parallel\"><div class=\"sk-parallel-item\"><div class=\"sk-item\"><div class=\"sk-label-container\"><div class=\"sk-label sk-toggleable\"><label>text_word</label></div></div><div class=\"sk-serial\"><div class=\"sk-item\"><div class=\"sk-serial\"><div class=\"sk-item\"><div class=\"sk-estimator sk-toggleable\"><input class=\"sk-toggleable__control sk-hidden--visually\" id=\"sk-estimator-id-3\" type=\"checkbox\" ><label for=\"sk-estimator-id-3\" class=\"sk-toggleable__label sk-toggleable__label-arrow\">DataFrameSelector</label><div class=\"sk-toggleable__content\"><pre>DataFrameSelector(attribute_names=&#x27;text_processed&#x27;)</pre></div></div></div><div class=\"sk-item\"><div class=\"sk-estimator sk-toggleable\"><input class=\"sk-toggleable__control sk-hidden--visually\" id=\"sk-estimator-id-4\" type=\"checkbox\" ><label for=\"sk-estimator-id-4\" class=\"sk-toggleable__label sk-toggleable__label-arrow\">TfidfVectorizer</label><div class=\"sk-toggleable__content\"><pre>TfidfVectorizer(lowercase=False, max_df=10, max_features=8000,\n",
       "                ngram_range=(1, 2), sublinear_tf=True)</pre></div></div></div></div></div></div></div></div><div class=\"sk-parallel-item\"><div class=\"sk-item\"><div class=\"sk-label-container\"><div class=\"sk-label sk-toggleable\"><label>text_char</label></div></div><div class=\"sk-serial\"><div class=\"sk-item\"><div class=\"sk-serial\"><div class=\"sk-item\"><div class=\"sk-estimator sk-toggleable\"><input class=\"sk-toggleable__control sk-hidden--visually\" id=\"sk-estimator-id-5\" type=\"checkbox\" ><label for=\"sk-estimator-id-5\" class=\"sk-toggleable__label sk-toggleable__label-arrow\">DataFrameSelector</label><div class=\"sk-toggleable__content\"><pre>DataFrameSelector(attribute_names=&#x27;text_processed&#x27;)</pre></div></div></div><div class=\"sk-item\"><div class=\"sk-estimator sk-toggleable\"><input class=\"sk-toggleable__control sk-hidden--visually\" id=\"sk-estimator-id-6\" type=\"checkbox\" ><label for=\"sk-estimator-id-6\" class=\"sk-toggleable__label sk-toggleable__label-arrow\">TfidfVectorizer</label><div class=\"sk-toggleable__content\"><pre>TfidfVectorizer(analyzer=&#x27;char&#x27;, dtype=&lt;class &#x27;numpy.float32&#x27;&gt;,\n",
       "                max_features=8000, ngram_range=(1, 4), strip_accents=&#x27;unicode&#x27;,\n",
       "                sublinear_tf=True)</pre></div></div></div></div></div></div></div></div></div></div></div></div></div><div class=\"sk-parallel-item\"><div class=\"sk-item\"><div class=\"sk-label-container\"><div class=\"sk-label sk-toggleable\"><label>num_feats</label></div></div><div class=\"sk-serial\"><div class=\"sk-item\"><div class=\"sk-serial\"><div class=\"sk-item\"><div class=\"sk-estimator sk-toggleable\"><input class=\"sk-toggleable__control sk-hidden--visually\" id=\"sk-estimator-id-7\" type=\"checkbox\" ><label for=\"sk-estimator-id-7\" class=\"sk-toggleable__label sk-toggleable__label-arrow\">DataFrameSelector</label><div class=\"sk-toggleable__content\"><pre>DataFrameSelector(attribute_names=[&#x27;text_len&#x27;])</pre></div></div></div></div></div></div></div></div><div class=\"sk-parallel-item\"><div class=\"sk-item\"><div class=\"sk-label-container\"><div class=\"sk-label sk-toggleable\"><label>cat_feats</label></div></div><div class=\"sk-serial\"><div class=\"sk-item\"><div class=\"sk-serial\"><div class=\"sk-item\"><div class=\"sk-estimator sk-toggleable\"><input class=\"sk-toggleable__control sk-hidden--visually\" id=\"sk-estimator-id-8\" type=\"checkbox\" ><label for=\"sk-estimator-id-8\" class=\"sk-toggleable__label sk-toggleable__label-arrow\">DataFrameSelector</label><div class=\"sk-toggleable__content\"><pre>DataFrameSelector(attribute_names=[&#x27;country&#x27;, &#x27;has_company_logo&#x27;,\n",
       "                                   &#x27;has_questions&#x27;, &#x27;telecommuting&#x27;])</pre></div></div></div><div class=\"sk-item\"><div class=\"sk-estimator sk-toggleable\"><input class=\"sk-toggleable__control sk-hidden--visually\" id=\"sk-estimator-id-9\" type=\"checkbox\" ><label for=\"sk-estimator-id-9\" class=\"sk-toggleable__label sk-toggleable__label-arrow\">OneHotEncoder</label><div class=\"sk-toggleable__content\"><pre>OneHotEncoder(handle_unknown=&#x27;ignore&#x27;)</pre></div></div></div></div></div></div></div></div></div></div><div class=\"sk-item\"><div class=\"sk-estimator sk-toggleable\"><input class=\"sk-toggleable__control sk-hidden--visually\" id=\"sk-estimator-id-10\" type=\"checkbox\" ><label for=\"sk-estimator-id-10\" class=\"sk-toggleable__label sk-toggleable__label-arrow\">StandardScaler</label><div class=\"sk-toggleable__content\"><pre>StandardScaler(with_mean=False)</pre></div></div></div><div class=\"sk-item sk-dashed-wrapped\"><div class=\"sk-label-container\"><div class=\"sk-label sk-toggleable\"><input class=\"sk-toggleable__control sk-hidden--visually\" id=\"sk-estimator-id-11\" type=\"checkbox\" ><label for=\"sk-estimator-id-11\" class=\"sk-toggleable__label sk-toggleable__label-arrow\">selector: SelectFromModel</label><div class=\"sk-toggleable__content\"><pre>SelectFromModel(estimator=LinearSVC())</pre></div></div></div><div class=\"sk-parallel\"><div class=\"sk-parallel-item\"><div class=\"sk-item\"><div class=\"sk-label-container\"><div class=\"sk-label sk-toggleable\"><input class=\"sk-toggleable__control sk-hidden--visually\" id=\"sk-estimator-id-12\" type=\"checkbox\" ><label for=\"sk-estimator-id-12\" class=\"sk-toggleable__label sk-toggleable__label-arrow\">estimator: LinearSVC</label><div class=\"sk-toggleable__content\"><pre>LinearSVC()</pre></div></div></div><div class=\"sk-serial\"><div class=\"sk-item\"><div class=\"sk-estimator sk-toggleable\"><input class=\"sk-toggleable__control sk-hidden--visually\" id=\"sk-estimator-id-13\" type=\"checkbox\" ><label for=\"sk-estimator-id-13\" class=\"sk-toggleable__label sk-toggleable__label-arrow\">LinearSVC</label><div class=\"sk-toggleable__content\"><pre>LinearSVC()</pre></div></div></div></div></div></div></div></div><div class=\"sk-item\"><div class=\"sk-estimator sk-toggleable\"><input class=\"sk-toggleable__control sk-hidden--visually\" id=\"sk-estimator-id-14\" type=\"checkbox\" ><label for=\"sk-estimator-id-14\" class=\"sk-toggleable__label sk-toggleable__label-arrow\">SMOTE</label><div class=\"sk-toggleable__content\"><pre>SMOTE()</pre></div></div></div><div class=\"sk-item\"><div class=\"sk-estimator sk-toggleable\"><input class=\"sk-toggleable__control sk-hidden--visually\" id=\"sk-estimator-id-15\" type=\"checkbox\" ><label for=\"sk-estimator-id-15\" class=\"sk-toggleable__label sk-toggleable__label-arrow\">LinearSVC</label><div class=\"sk-toggleable__content\"><pre>LinearSVC()</pre></div></div></div></div></div></div></div>"
      ]
     },
     "metadata": {},
     "output_type": "display_data"
    }
   ],
   "source": [
    "clf = LinearSVC()\n",
    "\n",
    "# Create pipeline \n",
    "pipe = imbPipeline(\n",
    "    [\n",
    "        (\"features\", feats),\n",
    "        (\"standard\", StandardScaler(with_mean=False)),\n",
    "        (\"selector\", SelectFromModel(estimator=LinearSVC())),\n",
    "        (\"SMOTE\", SMOTE()),\n",
    "        (\"classifier\", clf),\n",
    "    ]\n",
    ")\n",
    "\n",
    "# fitting our model.\n",
    "pipe.fit(X_train, y_train)"
   ]
  },
  {
   "cell_type": "code",
   "execution_count": 24,
   "metadata": {
    "datalore": {
     "hide_input_from_viewers": true,
     "hide_output_from_viewers": true,
     "node_id": "DcATRQBjhdWumCNJeoj5bt",
     "type": "CODE"
    }
   },
   "outputs": [],
   "source": [
    "pickle.dump(pipe, open(\"model.pkl\", \"wb\"))"
   ]
  },
  {
   "cell_type": "code",
   "execution_count": 25,
   "metadata": {
    "datalore": {
     "hide_input_from_viewers": true,
     "hide_output_from_viewers": true,
     "node_id": "xcVa9kwZpbK92cRNE9JCOz",
     "type": "CODE"
    }
   },
   "outputs": [
    {
     "data": {
      "text/plain": [
       "71"
      ]
     },
     "metadata": {},
     "output_type": "display_data"
    }
   ],
   "source": [
    "predicted_LinearSVC = pipe.predict(X_test)\n",
    "np.sum(predicted_LinearSVC)"
   ]
  },
  {
   "cell_type": "code",
   "execution_count": 26,
   "metadata": {
    "datalore": {
     "hide_input_from_viewers": true,
     "hide_output_from_viewers": true,
     "node_id": "TFIXQgAuy9EDZF9O7ePUY5",
     "type": "CODE"
    }
   },
   "outputs": [
    {
     "data": {
      "text/plain": [
       "292"
      ]
     },
     "metadata": {},
     "output_type": "display_data"
    }
   ],
   "source": [
    "predicted_LinearSVC_X_ = pipe.predict(X_)\n",
    "np.sum(predicted_LinearSVC_X_)"
   ]
  },
  {
   "cell_type": "code",
   "execution_count": 27,
   "metadata": {
    "datalore": {
     "hide_input_from_viewers": true,
     "hide_output_from_viewers": true,
     "node_id": "OCI5PqdryegSOiWDOiOwZF",
     "type": "CODE"
    }
   },
   "outputs": [],
   "source": [
    "file = pd.DataFrame(predicted_LinearSVC_X_)\n",
    "file.index.name = \"Id\"\n",
    "file.to_csv(\"pred_LinearSVC.csv\", index=True, header=[\"Category\"])"
   ]
  },
  {
   "cell_type": "markdown",
   "metadata": {},
   "source": [
    "## **Model Accuracy**"
   ]
  },
  {
   "cell_type": "code",
   "execution_count": 28,
   "metadata": {
    "datalore": {
     "hide_input_from_viewers": true,
     "hide_output_from_viewers": true,
     "node_id": "EJoI09WGOsTeom7LAdO36T",
     "type": "CODE"
    }
   },
   "outputs": [
    {
     "name": "stdout",
     "output_type": "stream",
     "text": [
      "LinearSVC Accuracy: 0.9860205032618826\n",
      "LinearSVC Recall: 0.7303370786516854\n",
      "0.8637101047123279\n",
      "              precision    recall  f1-score   support\n",
      "\n",
      "           0       0.99      1.00      0.99      2057\n",
      "           1       0.92      0.73      0.81        89\n",
      "\n",
      "    accuracy                           0.99      2146\n",
      "   macro avg       0.95      0.86      0.90      2146\n",
      "weighted avg       0.99      0.99      0.99      2146\n",
      "\n",
      "confusion_matrix:\n",
      " [[2051    6]\n",
      " [  24   65]]\n"
     ]
    }
   ],
   "source": [
    "# Model Accuracy\n",
    "print(\"LinearSVC Accuracy:\", accuracy_score(y_test, predicted_LinearSVC))\n",
    "print(\"LinearSVC Recall:\", recall_score(y_test, predicted_LinearSVC))\n",
    "print(roc_auc_score(y_test, predicted_LinearSVC))\n",
    "print(classification_report(y_test, predicted_LinearSVC))\n",
    "print(f\"confusion_matrix:\\n {confusion_matrix(y_test, predicted_LinearSVC)}\")"
   ]
  },
  {
   "cell_type": "markdown",
   "metadata": {},
   "source": [
    "We observe that our results are rather good. To be more specific, the precision, recall and the f1-score for the majority class (zeros) are almost perfect(very close to 1.0). Regarding the minority class(ones), we got the following metrics:\n",
    "- precision: 0.92\n",
    "- recall: 0.73\n",
    "- f1-score: 0.81\n",
    "\n",
    "<br>In the following section we present the confusion matrix."
   ]
  },
  {
   "cell_type": "code",
   "execution_count": 29,
   "metadata": {
    "datalore": {
     "hide_input_from_viewers": true,
     "hide_output_from_viewers": true,
     "node_id": "68MrsE7Ae6d529EiDW17rl",
     "type": "CODE"
    }
   },
   "outputs": [
    {
     "data": {
      "text/plain": [
       "<sklearn.metrics._plot.confusion_matrix.ConfusionMatrixDisplay at 0x7f79751240d0>"
      ]
     },
     "metadata": {},
     "output_type": "display_data"
    },
    {
     "data": {
      "image/png": "[encoded data removed]"
     },
     "metadata": {
      "image/png": {}
     },
     "output_type": "display_data"
    }
   ],
   "source": [
    "plot_confusion_matrix(pipe, X_test, y_test, cmap=\"Blues\", values_format=\" \")"
   ]
  },
  {
   "cell_type": "markdown",
   "metadata": {
    "datalore": {
     "hide_input_from_viewers": true,
     "hide_output_from_viewers": true,
     "node_id": "E6xMruiz8MI1zptZia7OQk",
     "type": "MD"
    }
   },
   "source": [
    "## **Hyperparameter tuning**"
   ]
  },
  {
   "cell_type": "code",
   "execution_count": 30,
   "metadata": {
    "datalore": {
     "hide_input_from_viewers": true,
     "hide_output_from_viewers": true,
     "node_id": "2knDRIflADyNfUyKtgtO0N",
     "type": "CODE"
    }
   },
   "outputs": [],
   "source": [
    "parameters = {\n",
    "    #'classifier__class_weight' : ['none', 'balanced', '{0:1, 1:10}'],\n",
    "    #'classifier__penalty' : ['l1','l2'],\n",
    "    #'classifier__C'       : np.logspace(-4,4,9),\n",
    "    #'classifier__solver'  : ['newton-cg', 'lbfgs', 'liblinear'],\n",
    "    \"classifier__C\": np.logspace(-4, 4, 9),\n",
    "    \"classifier__tol\": [1, 0.1, 0.01],\n",
    "}"
   ]
  },
  {
   "cell_type": "code",
   "execution_count": null,
   "metadata": {
    "datalore": {
     "hide_input_from_viewers": true,
     "hide_output_from_viewers": true,
     "node_id": "ZQ8Wd3nqPEDSxMShd5aSUj",
     "type": "CODE"
    }
   },
   "outputs": [
    {
     "name": "stdout",
     "output_type": "stream",
     "text": [
      "Fitting 2 folds for each of 27 candidates, totalling 54 fits\n"
     ]
    }
   ],
   "source": [
    "clf_GS = GridSearchCV(pipe, parameters, cv=2, n_jobs=4, verbose=1)\n",
    "clf_GS.fit(X_train, y_train)"
   ]
  },
  {
   "cell_type": "code",
   "execution_count": null,
   "metadata": {
    "datalore": {
     "hide_input_from_viewers": true,
     "hide_output_from_viewers": true,
     "node_id": "Cxd0hfYXB2dW0IPPC5nv5l",
     "type": "CODE"
    }
   },
   "outputs": [],
   "source": [
    "print(\"Tuned Hyperparameters :\", clf_GS.best_params_)\n",
    "print(\"Accuracy :\", clf_GS.best_score_)"
   ]
  }
 ],
 "metadata": {
  "datalore": {
   "base_environment": "default",
   "computation_mode": "REACTIVE",
   "package_manager": "pip",
   "packages": [
    {
     "name": "nltk",
     "source": "PIP",
     "version": "3.7"
    },
    {
     "name": "imblearn",
     "source": "PIP",
     "version": "0.0"
    }
   ],
   "version": 1
  },
  "kernelspec": {
   "display_name": "Python 3 (ipykernel)",
   "language": "python",
   "name": "python3"
  },
  "language_info": {
   "codemirror_mode": {
    "name": "ipython",
    "version": 3
   },
   "file_extension": ".py",
   "mimetype": "text/x-python",
   "name": "python",
   "nbconvert_exporter": "python",
   "pygments_lexer": "ipython3",
   "version": "3.10.8"
  }
 },
 "nbformat": 4,
 "nbformat_minor": 4
}
