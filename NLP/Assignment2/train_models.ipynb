{
 "cells": [
  {
   "cell_type": "markdown",
   "metadata": {},
   "source": [
    "# NLP: Delivery 2, Train Models\n",
    "\n",
    "## Lily Voge, Jan Urankar, Luka Markicevic, Nikolaos Athanasopoulos, Zoltan Kunos\n",
    "\n",
    "## Named Entity Recognition\n",
    "\n",
    "The objective of this project is to fully understand the structured perceptron algorithm\n",
    "applied to Named Entity Recognition (NER). NER problems are very useful in many\n",
    "contexts, from information retrieval to question answering systems. The goal of this project\n",
    "is not to achieve the best results, but to fully understand all the details about a simple\n",
    "solution.\n"
   ]
  },
  {
   "cell_type": "markdown",
   "metadata": {},
   "source": [
    "### Import Libraries"
   ]
  },
  {
   "cell_type": "code",
   "execution_count": 1,
   "metadata": {
    "ExecuteTime": {
     "end_time": "2021-06-19T20:50:07.267650Z",
     "start_time": "2021-06-19T20:50:07.196616Z"
    }
   },
   "outputs": [],
   "source": [
    "%matplotlib inline\n",
    "%load_ext autoreload\n",
    "%autoreload 2\n",
    "\n",
    "#Vector operations and data management\n",
    "import pandas as pd\n",
    "import scipy\n",
    "import numpy as np\n",
    "\n",
    "#Importing custom functions\n",
    "import utils\n",
    "\n",
    "#Folder management\n",
    "import os,sys,inspect\n",
    "\n",
    "#Model and other data type saving\n",
    "import pickle\n",
    "\n",
    "#Printing styling\n",
    "import pprint\n",
    "from IPython.display import display, HTML\n",
    "\n",
    "#Plot management\n",
    "import seaborn as sns\n",
    "import matplotlib.pyplot as plt\n",
    "\n",
    "#Skseq\n",
    "import skseq\n",
    "from skseq.sequences import sequence\n",
    "from skseq.sequences.sequence import Sequence\n",
    "from skseq.sequences.sequence_list import SequenceList\n",
    "from skseq.sequences.label_dictionary import LabelDictionary\n",
    "import skseq.sequences.structured_perceptron as spc\n",
    "from skseq.sequences import extended_feature\n",
    "\n",
    "#Metrics\n",
    "from sklearn.metrics import f1_score\n",
    "from sklearn.metrics import confusion_matrix\n",
    "from sklearn.metrics import classification_report\n",
    "\n",
    "import utils.utils as utils\n",
    "\n",
    "import dill"
   ]
  },
  {
   "cell_type": "code",
   "execution_count": 2,
   "metadata": {
    "ExecuteTime": {
     "end_time": "2021-06-19T20:49:09.560750Z",
     "start_time": "2021-06-19T20:49:09.502799Z"
    }
   },
   "outputs": [],
   "source": [
    "def save(name,file):\n",
    "    with open(name, \"wb\") as f:\n",
    "        pickle.dump(file, f)\n",
    "def load(name):\n",
    "    with open(name, 'rb') as f:\n",
    "        return(pickle.load(f))"
   ]
  },
  {
   "cell_type": "code",
   "execution_count": 3,
   "metadata": {
    "ExecuteTime": {
     "end_time": "2021-06-19T20:51:06.254479Z",
     "start_time": "2021-06-19T20:51:05.774421Z"
    }
   },
   "outputs": [],
   "source": [
    "train = pd.read_csv(\"data/train_data_ner.csv\")\n",
    "test = pd.read_csv(\"data/test_data_ner.csv\")\n",
    "TINY_TEST,y_true_tiny = utils.get_tiny_test()"
   ]
  },
  {
   "cell_type": "code",
   "execution_count": 4,
   "metadata": {},
   "outputs": [
    {
     "data": {
      "text/html": [
       "<div>\n",
       "<style scoped>\n",
       "    .dataframe tbody tr th:only-of-type {\n",
       "        vertical-align: middle;\n",
       "    }\n",
       "\n",
       "    .dataframe tbody tr th {\n",
       "        vertical-align: top;\n",
       "    }\n",
       "\n",
       "    .dataframe thead th {\n",
       "        text-align: right;\n",
       "    }\n",
       "</style>\n",
       "<table border=\"1\" class=\"dataframe\">\n",
       "  <thead>\n",
       "    <tr style=\"text-align: right;\">\n",
       "      <th></th>\n",
       "      <th>sentence_id</th>\n",
       "      <th>words</th>\n",
       "      <th>tags</th>\n",
       "    </tr>\n",
       "  </thead>\n",
       "  <tbody>\n",
       "    <tr>\n",
       "      <th>0</th>\n",
       "      <td>0</td>\n",
       "      <td>Thousands</td>\n",
       "      <td>O</td>\n",
       "    </tr>\n",
       "    <tr>\n",
       "      <th>1</th>\n",
       "      <td>0</td>\n",
       "      <td>of</td>\n",
       "      <td>O</td>\n",
       "    </tr>\n",
       "    <tr>\n",
       "      <th>2</th>\n",
       "      <td>0</td>\n",
       "      <td>demonstrators</td>\n",
       "      <td>O</td>\n",
       "    </tr>\n",
       "    <tr>\n",
       "      <th>3</th>\n",
       "      <td>0</td>\n",
       "      <td>have</td>\n",
       "      <td>O</td>\n",
       "    </tr>\n",
       "    <tr>\n",
       "      <th>4</th>\n",
       "      <td>0</td>\n",
       "      <td>marched</td>\n",
       "      <td>O</td>\n",
       "    </tr>\n",
       "  </tbody>\n",
       "</table>\n",
       "</div>"
      ],
      "text/plain": [
       "   sentence_id          words tags\n",
       "0            0      Thousands    O\n",
       "1            0             of    O\n",
       "2            0  demonstrators    O\n",
       "3            0           have    O\n",
       "4            0        marched    O"
      ]
     },
     "execution_count": 4,
     "metadata": {},
     "output_type": "execute_result"
    }
   ],
   "source": [
    "train.head()"
   ]
  },
  {
   "cell_type": "markdown",
   "metadata": {
    "ExecuteTime": {
     "end_time": "2021-06-10T18:00:51.757125Z",
     "start_time": "2021-06-10T18:00:51.674094Z"
    }
   },
   "source": [
    "\n",
    "# Train/Test set up <a id='train/test'></a>\n",
    "\n"
   ]
  },
  {
   "cell_type": "code",
   "execution_count": 5,
   "metadata": {
    "ExecuteTime": {
     "end_time": "2021-06-19T20:52:23.344207Z",
     "start_time": "2021-06-19T20:52:23.002139Z"
    }
   },
   "outputs": [],
   "source": [
    "X_train = train['words']\n",
    "y_train = train['tags']\n",
    "X_test = test['words']\n",
    "y_test = test['tags']"
   ]
  },
  {
   "cell_type": "code",
   "execution_count": 6,
   "metadata": {
    "ExecuteTime": {
     "end_time": "2021-06-17T14:15:48.677963Z",
     "start_time": "2021-06-17T14:13:52.738042Z"
    }
   },
   "outputs": [],
   "source": [
    "#Train vectors (list of lists)\n",
    "X_train = [] #Contains the sentences (words)\n",
    "y_train = [] #Contains the tags (aka target)\n",
    "\n",
    "#The column \"sentence_id\" does not follow a cardinal order so we group all the unique id's for later iteration\n",
    "valid_ids_train = train.sentence_id.unique()\n",
    "\n",
    "for sentence in valid_ids_train:\n",
    "    X_train.append(list(train[train[\"sentence_id\"]==sentence][\"words\"].values))\n",
    "    y_train.append(list(train[train[\"sentence_id\"]==sentence][\"tags\"].values))"
   ]
  },
  {
   "cell_type": "code",
   "execution_count": 7,
   "metadata": {
    "ExecuteTime": {
     "end_time": "2021-06-17T14:17:51.125500Z",
     "start_time": "2021-06-17T14:15:48.678873Z"
    }
   },
   "outputs": [],
   "source": [
    "#Train vectors (list of lists)\n",
    "X_test = [] #Contains the sentences (words)\n",
    "y_test = [] #Contains the tags (aka target)\n",
    "\n",
    "#The column \"sentence_id\" does not follow a cardinal order so we group all the unique id's for later iteration\n",
    "valid_ids_test = test.sentence_id.unique()\n",
    "\n",
    "for sentence in valid_ids_test:\n",
    "    X_test.append(list(test[test[\"sentence_id\"]==sentence][\"words\"].values))\n",
    "    y_test.append(list(test[test[\"sentence_id\"]==sentence][\"tags\"].values))"
   ]
  },
  {
   "cell_type": "code",
   "execution_count": 8,
   "metadata": {
    "ExecuteTime": {
     "end_time": "2021-06-19T20:53:29.049905Z",
     "start_time": "2021-06-19T20:53:28.982940Z"
    }
   },
   "outputs": [
    {
     "name": "stdout",
     "output_type": "stream",
     "text": [
      "Naqib/B-per and/O some/O of/O his/O family/O members/O and/O guards/O were/O wounded/O in/O the/O blast/O and/O at/O least/O two/O others/O were/O killed/O ./O \n",
      "\n",
      "President/B-per Chavez/I-per is/O on/O a/O two-day/B-tim visit/O to/O Russia/B-geo ./O "
     ]
    }
   ],
   "source": [
    "#Example of a train & test set sentence/tags combination\n",
    "i = 1000\n",
    "\n",
    "for X_word, y_tag in zip(X_train[i],y_train[i]):\n",
    "    print(X_word+\"/\"+y_tag,end=\" \")\n",
    "print(\"\\n\")\n",
    "for X_word, y_tag in zip(X_test[i],y_test[i]):\n",
    "    print(X_word+\"/\"+y_tag,end=\" \")"
   ]
  },
  {
   "cell_type": "markdown",
   "metadata": {},
   "source": [
    "# Corpus Creation <a id=corpus></a>\n",
    "\n",
    "This is a function that creates two dictionaries as follows:\n",
    "\n",
    "* word_pos: stores every unique word (key) of the training set in a unique value\n",
    "\n",
    "* tag_pos: stores every unique tag (key) of the training set in a unique value"
   ]
  },
  {
   "cell_type": "code",
   "execution_count": 9,
   "metadata": {
    "ExecuteTime": {
     "end_time": "2021-06-19T21:05:54.303311Z",
     "start_time": "2021-06-19T21:05:54.155239Z"
    }
   },
   "outputs": [],
   "source": [
    "corpus_word_dict, corpus_tag_dict = utils.corpus(X_train, y_train)"
   ]
  },
  {
   "cell_type": "code",
   "execution_count": 10,
   "metadata": {
    "ExecuteTime": {
     "end_time": "2021-06-19T21:05:54.772237Z",
     "start_time": "2021-06-19T21:05:54.706242Z"
    }
   },
   "outputs": [
    {
     "data": {
      "text/plain": [
       "{'O': 0,\n",
       " 'B-geo': 1,\n",
       " 'B-gpe': 2,\n",
       " 'B-tim': 3,\n",
       " 'B-org': 4,\n",
       " 'I-geo': 5,\n",
       " 'B-per': 6,\n",
       " 'I-per': 7,\n",
       " 'I-org': 8,\n",
       " 'B-art': 9,\n",
       " 'I-art': 10,\n",
       " 'I-tim': 11,\n",
       " 'I-gpe': 12,\n",
       " 'B-nat': 13,\n",
       " 'I-nat': 14,\n",
       " 'B-eve': 15,\n",
       " 'I-eve': 16}"
      ]
     },
     "execution_count": 10,
     "metadata": {},
     "output_type": "execute_result"
    }
   ],
   "source": [
    "corpus_tag_dict"
   ]
  },
  {
   "cell_type": "markdown",
   "metadata": {},
   "source": [
    "# Training sequence creation\n",
    "\n",
    "Creating the sequence list from the training corpus. "
   ]
  },
  {
   "cell_type": "code",
   "execution_count": 13,
   "metadata": {},
   "outputs": [],
   "source": [
    "train_seq = SequenceList(LabelDictionary(corpus_word_dict), LabelDictionary(corpus_tag_dict))\n",
    "for word,tag in zip(X_train,y_train):\n",
    "    train_seq.add_seq_cython(word,tag, LabelDictionary(corpus_word_dict), LabelDictionary(corpus_tag_dict))"
   ]
  },
  {
   "cell_type": "code",
   "execution_count": 14,
   "metadata": {
    "ExecuteTime": {
     "end_time": "2021-06-19T21:03:52.397931Z",
     "start_time": "2021-06-19T21:03:52.344931Z"
    }
   },
   "outputs": [
    {
     "name": "stdout",
     "output_type": "stream",
     "text": [
      "dict_keys(['x_dict', 'y_dict', 'seq_list'])\n",
      "<class 'skseq.sequences.sequence_list.SequenceList'>\n"
     ]
    }
   ],
   "source": [
    "print(train_seq.__dict__.keys())\n",
    "print(type(train_seq))"
   ]
  },
  {
   "cell_type": "code",
   "execution_count": 39,
   "metadata": {
    "ExecuteTime": {
     "end_time": "2021-06-11T17:36:51.876654Z",
     "start_time": "2021-06-11T17:36:51.690622Z"
    }
   },
   "outputs": [],
   "source": [
    "# Saving the sequence\n",
    "\n",
    "# Create the directory \"fitted models\" if it doesn't already exist\n",
    "if not os.path.exists(\"fitted_models\"):\n",
    "    os.makedirs(\"fitted_models\")\n",
    "    \n",
    "# Check if the file exists\n",
    "if os.path.exists(\"./fitted_models/train_seq.dill\"):\n",
    "    # Delete the file\n",
    "    os.remove(\"./fitted_models/train_seq.dill\")\n",
    "\n",
    "# Save the train_seq object to disk\n",
    "with open('fitted_models/train_seq.dill', 'wb') as f:\n",
    "    dill.dump(train_seq, f)"
   ]
  },
  {
   "cell_type": "code",
   "execution_count": 17,
   "metadata": {
    "ExecuteTime": {
     "end_time": "2021-06-19T21:03:18.932414Z",
     "start_time": "2021-06-19T21:03:18.868415Z"
    }
   },
   "outputs": [
    {
     "name": "stdout",
     "output_type": "stream",
     "text": [
      "4715/6 13/0 365/0 1/0 188/0 1308/0 429/0 13/0 4324/0 431/0 1932/0 11/0 9/0 122/0 13/0 140/0 1153/0 468/0 163/0 431/0 159/0 21/0  \n",
      "\n",
      "Naqib/B-per and/O some/O of/O his/O family/O members/O and/O guards/O were/O wounded/O in/O the/O blast/O and/O at/O least/O two/O others/O were/O killed/O ./O \n"
     ]
    }
   ],
   "source": [
    "print(train_seq[1000],\"\\n\")\n",
    "print(train_seq[1000].to_words(sequence_list = train_seq))"
   ]
  },
  {
   "cell_type": "markdown",
   "metadata": {},
   "source": [
    "# Structured Perceptron Model training using default features\n",
    "\n",
    "Creating the feature mapper using only the given default features."
   ]
  },
  {
   "cell_type": "code",
   "execution_count": 18,
   "metadata": {
    "ExecuteTime": {
     "end_time": "2021-06-19T21:04:13.322928Z",
     "start_time": "2021-06-19T21:04:09.265533Z"
    }
   },
   "outputs": [
    {
     "name": "stdout",
     "output_type": "stream",
     "text": [
      "['feature_dict',\n",
      " 'feature_list',\n",
      " 'add_features',\n",
      " 'dataset',\n",
      " 'node_feature_cache',\n",
      " 'initial_state_feature_cache',\n",
      " 'final_state_feature_cache',\n",
      " 'edge_feature_cache']\n"
     ]
    }
   ],
   "source": [
    "feature_mapper = skseq.sequences.id_feature.IDFeatures(train_seq)\n",
    "# get features\n",
    "feature_mapper.build_features()\n",
    "pprint.pprint(list(feature_mapper.__dict__.keys()))"
   ]
  },
  {
   "cell_type": "code",
   "execution_count": 19,
   "metadata": {
    "ExecuteTime": {
     "end_time": "2021-06-18T14:45:50.215286Z",
     "start_time": "2021-06-18T14:45:50.154286Z"
    },
    "scrolled": true
   },
   "outputs": [
    {
     "data": {
      "text/plain": [
       "['init_tag:O',\n",
       " 'id:Thousands::O',\n",
       " 'id:of::O',\n",
       " 'prev_tag:O::O',\n",
       " 'id:demonstrators::O',\n",
       " 'id:have::O',\n",
       " 'id:marched::O',\n",
       " 'id:through::O',\n",
       " 'id:London::B-geo',\n",
       " 'prev_tag:O::B-geo']"
      ]
     },
     "execution_count": 19,
     "metadata": {},
     "output_type": "execute_result"
    }
   ],
   "source": [
    "list(feature_mapper.feature_dict)[0:10]"
   ]
  },
  {
   "cell_type": "code",
   "execution_count": 20,
   "metadata": {
    "ExecuteTime": {
     "end_time": "2021-06-18T14:45:50.278320Z",
     "start_time": "2021-06-18T14:45:50.216286Z"
    }
   },
   "outputs": [
    {
     "name": "stdout",
     "output_type": "stream",
     "text": [
      "Initial features: [[0]]\n",
      "Transition features: [[3], [32], [34], [3], [3], [3], [3], [9], [11], [3], [3], [3], [3], [44], [46], [3], [3], [3], [3], [3], [3], [3], [3], [3], [3], [3], [3], [3], [9], [58], [59]]\n",
      "Final features: [[28]]\n",
      "Emission features: [[29], [30], [31], [33], [35], [36], [15], [13], [37], [38], [39], [40], [41], [42], [43], [45], [47], [48], [10], [5], [49], [10], [50], [51], [52], [53], [54], [15], [55], [56], [57], [27]]\n"
     ]
    }
   ],
   "source": [
    "id_seq = 1\n",
    "\n",
    "print (\"Initial features:\",     feature_mapper.feature_list[id_seq][0])\n",
    "print (\"Transition features:\",  feature_mapper.feature_list[id_seq][1])\n",
    "print (\"Final features:\",       feature_mapper.feature_list[id_seq][2])\n",
    "print (\"Emission features:\",    feature_mapper.feature_list[id_seq][3])"
   ]
  },
  {
   "cell_type": "markdown",
   "metadata": {},
   "source": [
    "Perceptron creation using our dictionary of words, tags and the feature mapper"
   ]
  },
  {
   "cell_type": "code",
   "execution_count": 21,
   "metadata": {
    "ExecuteTime": {
     "end_time": "2021-06-19T21:06:02.462525Z",
     "start_time": "2021-06-19T21:06:02.409507Z"
    }
   },
   "outputs": [],
   "source": [
    "sp = spc.StructuredPerceptron(corpus_word_dict, corpus_tag_dict, feature_mapper)\n",
    "sp.num_epochs = 5"
   ]
  },
  {
   "cell_type": "code",
   "execution_count": 22,
   "metadata": {
    "ExecuteTime": {
     "end_time": "2021-06-19T21:06:02.652082Z",
     "start_time": "2021-06-19T21:06:02.593083Z"
    },
    "scrolled": true
   },
   "outputs": [
    {
     "data": {
      "text/plain": [
       "(17, 31979)"
      ]
     },
     "execution_count": 22,
     "metadata": {},
     "output_type": "execute_result"
    }
   ],
   "source": [
    "sp.get_num_states(), sp.get_num_observations()"
   ]
  },
  {
   "cell_type": "code",
   "execution_count": 23,
   "metadata": {
    "ExecuteTime": {
     "end_time": "2021-06-12T11:07:05.858253Z",
     "start_time": "2021-06-12T09:47:41.815846Z"
    }
   },
   "outputs": [
    {
     "name": "stdout",
     "output_type": "stream",
     "text": [
      "Epoch: 0 Accuracy: 0.893815\n",
      "Epoch: 1 Accuracy: 0.931674\n",
      "Epoch: 2 Accuracy: 0.940913\n",
      "Epoch: 3 Accuracy: 0.946175\n",
      "Epoch: 4 Accuracy: 0.950018\n",
      "Epoch: 5 Accuracy: 0.952577\n",
      "Epoch: 6 Accuracy: 0.954425\n",
      "Epoch: 7 Accuracy: 0.956033\n",
      "Epoch: 8 Accuracy: 0.957185\n",
      "Epoch: 9 Accuracy: 0.958481\n",
      "Epoch: 10 Accuracy: 0.959217\n",
      "Epoch: 11 Accuracy: 0.960524\n",
      "Epoch: 12 Accuracy: 0.961121\n",
      "Epoch: 13 Accuracy: 0.961207\n",
      "Epoch: 14 Accuracy: 0.961983\n",
      "CPU times: user 30min 41s, sys: 6.34 s, total: 30min 48s\n",
      "Wall time: 30min 45s\n"
     ]
    }
   ],
   "source": [
    "%%time\n",
    "num_epochs = 15\n",
    "sp.fit(feature_mapper.dataset, num_epochs)"
   ]
  },
  {
   "cell_type": "code",
   "execution_count": 24,
   "metadata": {
    "ExecuteTime": {
     "end_time": "2021-06-12T11:07:05.970166Z",
     "start_time": "2021-06-12T11:07:05.860246Z"
    }
   },
   "outputs": [],
   "source": [
    "# Model saving\n",
    "\n",
    "sp.save_model(\"fitted_models/01_Default_Features\")"
   ]
  },
  {
   "cell_type": "code",
   "execution_count": 25,
   "metadata": {
    "ExecuteTime": {
     "end_time": "2021-06-19T21:07:41.561709Z",
     "start_time": "2021-06-19T21:07:41.466710Z"
    }
   },
   "outputs": [
    {
     "data": {
      "text/plain": [
       "array([ 8.6     ,  8.6     , 12.666667, ..., -2.666667,  1.866667,\n",
       "        0.      ])"
      ]
     },
     "execution_count": 25,
     "metadata": {},
     "output_type": "execute_result"
    }
   ],
   "source": [
    "#Model loading\n",
    "sp_default = spc.StructuredPerceptron(corpus_word_dict, corpus_tag_dict, feature_mapper)\n",
    "sp_default.load_model(dir=\"fitted_models/01_Default_Features\")\n",
    "sp_default.parameters"
   ]
  },
  {
   "cell_type": "code",
   "execution_count": 26,
   "metadata": {},
   "outputs": [
    {
     "data": {
      "text/plain": [
       "array([ 8.6       ,  8.6       , 12.66666667, ..., -2.66666667,\n",
       "        1.86666667,  0.        ])"
      ]
     },
     "execution_count": 26,
     "metadata": {},
     "output_type": "execute_result"
    }
   ],
   "source": [
    "sp.parameters"
   ]
  },
  {
   "cell_type": "markdown",
   "metadata": {},
   "source": [
    "# Structured Perceptron Model Training using added, personalized features"
   ]
  },
  {
   "cell_type": "code",
   "execution_count": 27,
   "metadata": {
    "ExecuteTime": {
     "end_time": "2021-06-19T21:11:38.876255Z",
     "start_time": "2021-06-19T21:11:32.126100Z"
    }
   },
   "outputs": [
    {
     "name": "stdout",
     "output_type": "stream",
     "text": [
      "['feature_dict',\n",
      " 'feature_list',\n",
      " 'add_features',\n",
      " 'dataset',\n",
      " 'node_feature_cache',\n",
      " 'initial_state_feature_cache',\n",
      " 'final_state_feature_cache',\n",
      " 'edge_feature_cache']\n"
     ]
    }
   ],
   "source": [
    "added_feature_mapper = skseq.sequences.extended_feature.ExtendedFeatures(train_seq) \n",
    "# get features\n",
    "added_feature_mapper.build_features()\n",
    "pprint.pprint(list(added_feature_mapper.__dict__.keys()))"
   ]
  },
  {
   "cell_type": "markdown",
   "metadata": {},
   "source": [
    "We group the new features in the following categories:"
   ]
  },
  {
   "cell_type": "code",
   "execution_count": 28,
   "metadata": {
    "ExecuteTime": {
     "end_time": "2021-06-19T21:11:38.939243Z",
     "start_time": "2021-06-19T21:11:38.877225Z"
    }
   },
   "outputs": [],
   "source": [
    "added = [\"capi\",\"point\",\"ending\",\"prep\"]"
   ]
  },
  {
   "cell_type": "code",
   "execution_count": 29,
   "metadata": {
    "ExecuteTime": {
     "end_time": "2021-06-19T21:11:39.033226Z",
     "start_time": "2021-06-19T21:11:38.941224Z"
    },
    "scrolled": false
   },
   "outputs": [
    {
     "name": "stdout",
     "output_type": "stream",
     "text": [
      "0. capi\n",
      "['capi_ini::O', 'capi_ini::B-geo', 'capi_ini::B-gpe', 'capi_ini::B-tim', 'capi_ini::B-org', 'capi_ini::I-geo', 'capi_any::B-geo', 'capi_ini::B-per', 'capi_ini::I-per', 'capi_any::O', 'capi_ini::I-org', 'capi_ini::B-art', 'capi_any::B-art', 'capi_ini::I-art', 'id:capital::O', 'capi_any::B-org', 'capi_any::I-tim', 'capi_any::I-org', 'capi_any::B-tim', 'capi_ini::I-tim', 'id:capita::O', 'capi_any::B-per', 'capi_ini::I-gpe', 'capi_any::B-gpe', 'capi_any::I-per', 'capi_ini::B-nat', 'capi_ini::I-nat', 'capi_ini::B-eve', 'capi_ini::I-eve', 'capi_any::B-nat', 'capi_any::I-art', 'capi_any::I-geo', 'capi_any::B-eve', 'id:capitals::O', 'id:capitalize::O', 'id:decapitated::O', 'capi_any::I-eve', 'id:capitalist::O', 'id:capital-intensive::O', 'id:landscaping::O', 'id:per-capita::O', 'id:capitalization::O', 'id:capitalized::O', 'id:escaping::O', 'capi_any::I-gpe', 'id:capitalism::O', 'capi_any::I-nat', 'id:anti-capitalist::O', 'id:capitol::O']\n",
      "\n",
      "1. point\n",
      "['inside_point::O', 'inside_point::B-geo', 'inside_point::B-per', 'inside_point::B-org', 'inside_point::B-gpe', 'id:checkpoint::O', 'id:checkpoints::O', 'id:pointed::O', 'inside_point::I-org', 'id:gunpoint::O', 'inside_point::I-per', 'id:point::O', 'id:12-point::O', 'id:points::O', 'id:appointed::O', 'id:pointing::O', 'inside_point::B-tim', 'id:appointment::O', 'inside_point::I-tim', 'id:disappointed::O', 'id:13-point::O', 'id:pointless::O', 'id:disappointment::O', 'id:appoint::O', 'inside_point::I-geo', 'inside_point::B-art', 'id:disappointing::O', 'id:appointments::O', 'id:one-point-three::O', 'id:re-appointed::O', 'id:point-blank::O', 'id:appointing::O', 'id:Datapoint::B-org', 'inside_point::I-art', 'id:appointees::O', 'id:3-point::O', 'id:seven-point::O', 'id:two-point-seven::O', 'id:militant-appointed::O', 'id:pinpoint::O', 'id:four-point::O', 'id:28-point::O', 'id:reappointing::O', 'id:quarter-point::O', 'id:government-appointed::O', 'id:five-point::O', 'id:nine-point-two::O', 'id:10-point::O', 'id:newly-appointed::O', 'id:25-point::O', 'id:appointee::O', 'id:U.N.-appointed::O', 'id:flashpoints::O', 'inside_point::B-eve', 'id:flashpoint::O']\n",
      "\n",
      "2. ending\n",
      "['ending_ed::O', 'ending_ing::O', 'ending_ly::O', 'ending_ed::B-org', 'ending_ing::I-tim', 'ending_ity::O', 'ending_ty::O', 'ending_ed::B-geo', 'ending_ly::I-org', 'ending_ness::O', 'id:attending::O', 'id:spending::O', 'ending_ed::I-org', 'ending_ship::O', 'ending_ness::I-org', 'ending_ity::I-per', 'ending_ty::I-per', 'ending_ing::B-tim', 'id:sending::O', 'ending_ed::B-gpe', 'ending_ty::I-geo', 'ending_ity::B-org', 'ending_ty::B-org', 'ending_ly::B-tim', 'ending_ing::B-per', 'ending_ing::B-eve', 'ending_ly::B-geo', 'ending_ity::I-geo', 'ending_ity::I-org', 'ending_ty::I-org', 'id:ending::O', 'ending_ing::B-org', 'ending_ing::B-art', 'ending_ed::I-per', 'ending_ly::I-tim', 'ending_ed::B-per', 'ending_ing::I-per', 'ending_ing::B-geo', 'id:season-ending::O', 'ending_ing::I-org', 'ending_ly::B-org', 'id:suspending::O', 'id:defending::O', 'id:extending::O', 'ending_ed::I-tim', 'ending_ly::I-per', 'ending_ity::B-geo', 'ending_ty::B-geo', 'ending_ed::I-geo', 'ending_ly::B-per', 'id:lending::O', 'ending_ty::I-tim', 'ending_ity::B-per', 'ending_ty::B-per', 'id:depending::O', 'ending_ed::B-tim', 'ending_ly::I-geo', 'ending_ity::I-gpe', 'ending_ty::I-gpe', 'ending_ness::B-org', 'id:pending::O', 'id:ending::B-tim', 'id:Defending::O', 'ending_ity::I-tim', 'ending_ly::I-art', 'ending_ing::I-art', 'ending_ing::B-gpe', 'ending_ing::I-eve', 'ending_ty::I-art', 'ending_ship::I-org', 'ending_ship::B-org', 'ending_ing::I-geo', 'ending_ity::B-art', 'ending_ty::B-art', 'ending_ing::B-nat', 'ending_ing::I-nat', 'ending_ly::B-art', 'ending_ed::B-art', 'ending_ed::B-eve', 'id:Depending::O', 'id:descending::O', 'ending_ty::B-tim', 'ending_ness::I-eve', 'ending_ship::B-geo', 'ending_ity::B-tim', 'id:recommending::O', 'id:impending::O', 'id:amending::O', 'ending_ity::I-art', 'id:pretending::O', 'id:intending::O', 'id:expending::O', 'ending_ship::I-geo', 'ending_ship::I-tim', 'id:overspending::O', 'id:offending::O', 'ending_ship::I-eve', 'id:ending::I-tim']\n",
      "\n",
      "3. prep\n",
      "['prep_of::O', 'prep_to::O', 'prep_from::O', 'id:preparing::O', 'prep_of::I-org', 'prep_of::B-tim', 'prep_from::B-tim', 'prep_to::I-tim', 'prep_of::I-tim', 'id:prepare::O', 'prep_of::I-geo', 'prep_of::B-geo', 'prep_of::I-eve', 'id:preparations::O', 'prep_of::I-per', 'id:preparation::O', 'prep_of::I-art', 'id:prepares::O', 'id:preparedness::O', 'id:prepared::O', 'prep_to::I-org', 'prep_to::B-tim', 'prep_of::B-org', 'prep_from::I-tim', 'id:preparatory::O', 'id:unprepared::O', 'prep_of::I-gpe', 'id:prep::O']\n",
      "\n"
     ]
    }
   ],
   "source": [
    "for index,feat_type in enumerate(added):\n",
    "    print(str(index)+\". \"+feat_type,end=\"\\n\")\n",
    "    print([feature for feature in list(added_feature_mapper.feature_dict.keys()) if feat_type in feature],end=\"\\n\\n\")"
   ]
  },
  {
   "cell_type": "code",
   "execution_count": 30,
   "metadata": {
    "ExecuteTime": {
     "end_time": "2021-06-19T14:01:29.789459Z",
     "start_time": "2021-06-19T14:01:29.711522Z"
    }
   },
   "outputs": [],
   "source": [
    "sp_added = spc.StructuredPerceptron(corpus_word_dict, corpus_tag_dict, added_feature_mapper)\n",
    "sp_added.num_epochs = 5"
   ]
  },
  {
   "cell_type": "code",
   "execution_count": 31,
   "metadata": {
    "ExecuteTime": {
     "end_time": "2021-06-19T14:01:29.992596Z",
     "start_time": "2021-06-19T14:01:29.932459Z"
    }
   },
   "outputs": [
    {
     "data": {
      "text/plain": [
       "(17, 31979)"
      ]
     },
     "execution_count": 31,
     "metadata": {},
     "output_type": "execute_result"
    }
   ],
   "source": [
    "sp_added.get_num_states(), sp_added.get_num_observations()"
   ]
  },
  {
   "cell_type": "code",
   "execution_count": 32,
   "metadata": {
    "ExecuteTime": {
     "end_time": "2021-06-19T15:25:17.197997Z",
     "start_time": "2021-06-19T14:01:32.170834Z"
    },
    "scrolled": true
   },
   "outputs": [
    {
     "name": "stdout",
     "output_type": "stream",
     "text": [
      "Epoch: 0 Accuracy: 0.932321\n",
      "Epoch: 1 Accuracy: 0.946742\n",
      "Epoch: 2 Accuracy: 0.950434\n",
      "Epoch: 3 Accuracy: 0.953119\n",
      "Epoch: 4 Accuracy: 0.955183\n",
      "Epoch: 5 Accuracy: 0.956330\n",
      "Epoch: 6 Accuracy: 0.957800\n",
      "Epoch: 7 Accuracy: 0.958352\n",
      "Epoch: 8 Accuracy: 0.959670\n",
      "Epoch: 9 Accuracy: 0.960568\n",
      "Epoch: 10 Accuracy: 0.960595\n",
      "Epoch: 11 Accuracy: 0.961291\n",
      "Epoch: 12 Accuracy: 0.961944\n",
      "Epoch: 13 Accuracy: 0.962345\n",
      "Epoch: 14 Accuracy: 0.962734\n",
      "CPU times: user 30min 43s, sys: 6.49 s, total: 30min 49s\n",
      "Wall time: 30min 46s\n"
     ]
    }
   ],
   "source": [
    "%%time\n",
    "num_epochs = 15\n",
    "sp_added.fit(added_feature_mapper.dataset, num_epochs)"
   ]
  },
  {
   "cell_type": "code",
   "execution_count": 33,
   "metadata": {
    "ExecuteTime": {
     "end_time": "2021-06-19T15:25:17.352959Z",
     "start_time": "2021-06-19T15:25:17.203956Z"
    }
   },
   "outputs": [],
   "source": [
    "# Model saving\n",
    "\n",
    "sp_added.save_model(\"fitted_models/02_Added_Features\")"
   ]
  },
  {
   "cell_type": "code",
   "execution_count": 35,
   "metadata": {
    "ExecuteTime": {
     "end_time": "2021-06-19T21:12:51.134681Z",
     "start_time": "2021-06-19T21:12:51.031607Z"
    }
   },
   "outputs": [
    {
     "data": {
      "text/plain": [
       "array([ 20.066667,  11.533333, -17.6     , ..., -11.933333,   0.733333,\n",
       "         0.      ])"
      ]
     },
     "execution_count": 35,
     "metadata": {},
     "output_type": "execute_result"
    }
   ],
   "source": [
    "# Model loading\n",
    "sp_added = spc.StructuredPerceptron(corpus_word_dict, corpus_tag_dict, added_feature_mapper)\n",
    "sp_added.load_model(dir=\"fitted_models/02_Added_Features\")\n",
    "sp_added.parameters"
   ]
  }
 ],
 "metadata": {
  "kernelspec": {
   "display_name": "Python 3 (ipykernel)",
   "language": "python",
   "name": "python3"
  },
  "language_info": {
   "codemirror_mode": {
    "name": "ipython",
    "version": 3
   },
   "file_extension": ".py",
   "mimetype": "text/x-python",
   "name": "python",
   "nbconvert_exporter": "python",
   "pygments_lexer": "ipython3",
   "version": "3.10.8"
  }
 },
 "nbformat": 4,
 "nbformat_minor": 4
}
