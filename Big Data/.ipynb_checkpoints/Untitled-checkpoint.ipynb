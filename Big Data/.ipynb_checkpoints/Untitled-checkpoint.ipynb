{
 "cells": [
  {
   "cell_type": "markdown",
   "id": "722efb02",
   "metadata": {},
   "source": [
    "### Zoltan Kunos\n",
    "### Nikolaos Athanasopoulos"
   ]
  },
  {
   "cell_type": "markdown",
   "id": "4e55eb26",
   "metadata": {},
   "source": [
    "This API returns the current weather of a given location. Location is passed as querystring and can be zip codes."
   ]
  },
  {
   "cell_type": "code",
   "execution_count": 2,
   "id": "594304f4",
   "metadata": {},
   "outputs": [
    {
     "name": "stdout",
     "output_type": "stream",
     "text": [
      "{\n",
      "    \"location\": {\n",
      "        \"name\": \"Boston\",\n",
      "        \"region\": \"Lincolnshire\",\n",
      "        \"country\": \"United Kingdom\",\n",
      "        \"lat\": 53.1,\n",
      "        \"lon\": -0.13,\n",
      "        \"tz_id\": \"Europe/London\",\n",
      "        \"localtime_epoch\": 1681219832,\n",
      "        \"localtime\": \"2023-04-11 14:30\"\n",
      "    },\n",
      "    \"current\": {\n",
      "        \"last_updated_epoch\": 1681219800,\n",
      "        \"last_updated\": \"2023-04-11 14:30\",\n",
      "        \"temp_c\": 13.0,\n",
      "        \"temp_f\": 55.4,\n",
      "        \"is_day\": 1,\n",
      "        \"condition\": {\n",
      "            \"text\": \"Partly cloudy\",\n",
      "            \"icon\": \"//cdn.weatherapi.com/weather/64x64/day/116.png\",\n",
      "            \"code\": 1003\n",
      "        },\n",
      "        \"wind_mph\": 20.6,\n",
      "        \"wind_kph\": 33.1,\n",
      "        \"wind_degree\": 210,\n",
      "        \"wind_dir\": \"SSW\",\n",
      "        \"pressure_mb\": 1007.0,\n",
      "        \"pressure_in\": 29.74,\n",
      "        \"precip_mm\": 0.0,\n",
      "        \"precip_in\": 0.0,\n",
      "        \"humidity\": 54,\n",
      "        \"cloud\": 75,\n",
      "        \"feelslike_c\": 10.7,\n",
      "        \"feelslike_f\": 51.2,\n",
      "        \"vis_km\": 10.0,\n",
      "        \"vis_miles\": 6.0,\n",
      "        \"uv\": 3.0,\n",
      "        \"gust_mph\": 21.3,\n",
      "        \"gust_kph\": 34.2\n",
      "    }\n",
      "}\n"
     ]
    }
   ],
   "source": [
    "import requests\n",
    "import json\n",
    "\n",
    "url = \"https://weatherapi-com.p.rapidapi.com/current.json\"\n",
    "\n",
    "querystring = {\"q\":\"53.1,-0.13\"}\n",
    "\n",
    "headers = {\n",
    "    \"X-RapidAPI-Key\": \"38a5646c14msh52471d769a1b4d3p19af9cjsn431621e7e1de\",\n",
    "    \"X-RapidAPI-Host\": \"weatherapi-com.p.rapidapi.com\"\n",
    "}\n",
    "\n",
    "response = requests.request(\"GET\", url, headers=headers, params=querystring)\n",
    "\n",
    "# use the json.loads method to parse the response text into a JSON object\n",
    "json_response = json.loads(response.text)\n",
    "\n",
    "# use the json.dumps method to convert the JSON object into a formatted string\n",
    "print(json.dumps(json_response, indent=4))"
   ]
  },
  {
   "cell_type": "code",
   "execution_count": null,
   "id": "3f73b4ed",
   "metadata": {},
   "outputs": [],
   "source": []
  }
 ],
 "metadata": {
  "kernelspec": {
   "display_name": "Python 3 (ipykernel)",
   "language": "python",
   "name": "python3"
  },
  "language_info": {
   "codemirror_mode": {
    "name": "ipython",
    "version": 3
   },
   "file_extension": ".py",
   "mimetype": "text/x-python",
   "name": "python",
   "nbconvert_exporter": "python",
   "pygments_lexer": "ipython3",
   "version": "3.10.8"
  }
 },
 "nbformat": 4,
 "nbformat_minor": 5
}
